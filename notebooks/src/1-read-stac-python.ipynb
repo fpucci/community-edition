{
  "cells": [
    {
      "cell_type": "markdown",
      "metadata": {
        "id": "APWAlcQpfh3n"
      },
      "source": [
        "# Read a STAC Catalog Using PySTAC"
      ]
    },
    {
      "cell_type": "markdown",
      "metadata": {
        "id": "1NdEkAilfh3p"
      },
      "source": [
        "In this tutorial, you will gain an understanding of how to explore a STAC Catalog using [PySTAC](https://pystac.readthedocs.io/en/stable/index.html). You will be able to use these skills to explore any of the [many existing STAC Catalogs](https://stacindex.org/catalogs).\n",
        "\n",
        "This tutorial as well as the following 3 tutorials were adapted from the [PySTAC site tutorials](https://pystac.readthedocs.io/en/stable/index.html).\n",
        "\n",
        "Throughout this tutorial, a variety of PySTAC classes, methods, and instances are used to read the STAC Catalog. We encourage you to look at the [PySTAC API Reference](https://pystac.readthedocs.io/en/latest/api.html) while going through this tutorial."
      ]
    },
    {
      "cell_type": "markdown",
      "metadata": {
        "id": "7gH5tey7fh3p"
      },
      "source": [
        "## Dependencies\n",
        "If you need to install pystac, uncomment the line below and run this cell."
      ]
    },
    {
      "cell_type": "code",
      "execution_count": 2,
      "metadata": {
        "id": "W226-JpWfh3p",
        "outputId": "a77a1b55-777e-4d28-9c58-78c0f52c0b55",
        "colab": {
          "base_uri": "https://localhost:8080/"
        }
      },
      "outputs": [
        {
          "output_type": "stream",
          "name": "stdout",
          "text": [
            "Collecting pystac\n",
            "  Downloading pystac-1.13.0-py3-none-any.whl.metadata (4.7 kB)\n",
            "Requirement already satisfied: python-dateutil>=2.7.0 in /usr/local/lib/python3.11/dist-packages (from pystac) (2.9.0.post0)\n",
            "Requirement already satisfied: six>=1.5 in /usr/local/lib/python3.11/dist-packages (from python-dateutil>=2.7.0->pystac) (1.17.0)\n",
            "Downloading pystac-1.13.0-py3-none-any.whl (206 kB)\n",
            "\u001b[?25l   \u001b[90m━━━━━━━━━━━━━━━━━━━━━━━━━━━━━━━━━━━━━━━━\u001b[0m \u001b[32m0.0/206.8 kB\u001b[0m \u001b[31m?\u001b[0m eta \u001b[36m-:--:--\u001b[0m\r\u001b[2K   \u001b[91m━━━━━━━━━━━━━━━━━━━━━\u001b[0m\u001b[91m╸\u001b[0m\u001b[90m━━━━━━━━━━━━━━━━━━\u001b[0m \u001b[32m112.6/206.8 kB\u001b[0m \u001b[31m3.2 MB/s\u001b[0m eta \u001b[36m0:00:01\u001b[0m\r\u001b[2K   \u001b[90m━━━━━━━━━━━━━━━━━━━━━━━━━━━━━━━━━━━━━━━━\u001b[0m \u001b[32m206.8/206.8 kB\u001b[0m \u001b[31m3.4 MB/s\u001b[0m eta \u001b[36m0:00:00\u001b[0m\n",
            "\u001b[?25hInstalling collected packages: pystac\n",
            "Successfully installed pystac-1.13.0\n"
          ]
        }
      ],
      "source": [
        "! pip install pystac"
      ]
    },
    {
      "cell_type": "markdown",
      "metadata": {
        "id": "8uDH8AuWfh3q"
      },
      "source": [
        "## STAC Catalogs\n",
        "[A STAC Catalog](https://github.com/radiantearth/stac-spec/tree/master/catalog-spec) is used to group other STAC objects like items, collections, and/or even other catalogs.\n",
        "\n",
        "We will be using a small example catalog adapted from the [example Landsat Collection](https://github.com/geotrellis/geotrellis-server/tree/977bad7a64c409341479c281c8c72222008861fd/stac-example/catalog/landsat-stac-collection) in the [GeoTrellis](https://geotrellis.io) repository. All STAC Items and Collections can be found in the [docs/example-catalog](https://github.com/stac-utils/pystac/tree/main/docs/example-catalog) directory of the PySTAC documentation repository; all assets are hosted in the Landsat S3 bucket."
      ]
    },
    {
      "cell_type": "markdown",
      "metadata": {
        "id": "N176nbhCfh3q"
      },
      "source": [
        "#### Import Packages and Store Data\n",
        "To begin, import the packages and PySTAC classes that you need to access data and work with STAC Catalogs in Python."
      ]
    },
    {
      "cell_type": "code",
      "execution_count": 3,
      "metadata": {
        "id": "i7kncrnSfh3r"
      },
      "outputs": [],
      "source": [
        "import json\n",
        "\n",
        "from pystac import Catalog, get_stac_version\n",
        "from pystac.extensions.eo import EOExtension\n",
        "from pystac.extensions.label import LabelExtension"
      ]
    },
    {
      "cell_type": "code",
      "execution_count": 24,
      "metadata": {
        "id": "HbtP_OjSfh3r"
      },
      "outputs": [],
      "source": [
        "# Read the example catalog\n",
        "link_terrascope = 'https://stacindex.org/catalogs/terrascope#/WYEJqXnNPKBm6QrPXBbczNDtd8qDTRmhwsujHEDyu3Y4R'\n",
        "root_catalog = Catalog.from_file('https://stac.terrascope.be/')\n",
        "#root_catalog = Catalog.from_file('https://raw.githubusercontent.com/stac-utils/pystac/main/docs/example-catalog/catalog.json')"
      ]
    },
    {
      "cell_type": "markdown",
      "metadata": {
        "id": "FUnQIEV-fh3r"
      },
      "source": [
        "## Explore the High-Level Catalog Information"
      ]
    },
    {
      "cell_type": "markdown",
      "metadata": {
        "id": "0Z8hm6Utfh3r"
      },
      "source": [
        "To give us an idea of how the catalog we are working with is organized, let's take a look at all elements of the STAC using the `describe` method."
      ]
    },
    {
      "cell_type": "markdown",
      "metadata": {
        "id": "bdORZOCtfh3r"
      },
      "source": [
        "<div style=\"background-color:rgba(181, 216, 229, 0.8); text-align:center; vertical-align: top; padding:10px; ml:5px; 0;\">\n",
        "NOTE: Be careful using the `describe` method on large catalogs, as it will walk and print the entire tree of the STAC.\n",
        "</div>"
      ]
    },
    {
      "cell_type": "code",
      "execution_count": 25,
      "metadata": {
        "id": "wuME5WxNfh3s",
        "outputId": "ae7ed09e-f487-423f-8424-c53131969586",
        "colab": {
          "base_uri": "https://localhost:8080/"
        }
      },
      "outputs": [
        {
          "output_type": "stream",
          "name": "stdout",
          "text": [
            "* <Catalog id=terra-stac-api>\n",
            "    * <Collection id=geoinformed-bwk-sba>\n",
            "    * <Collection id=geoinformed-bosmonitoring>\n",
            "    * <Collection id=lcfm-lcm-10>\n",
            "    * <Collection id=geoinformed-vanggewassen>\n",
            "    * <Collection id=geoinformed-watervlakken-maand>\n",
            "    * <Collection id=geoinformed-bwk>\n",
            "    * <Collection id=geoinformed-watervlakken-jaar>\n",
            "    * <Collection id=majorTom-L2A-Flanders>\n",
            "    * <Collection id=terrascope-s1-grd-sigma0-v1>\n",
            "    * <Collection id=sentinel-1-slc>\n",
            "    * <Collection id=terrascope-s1-slc-coherence-v1>\n",
            "    * <Collection id=sentinel-1-grd>\n",
            "    * <Collection id=sentinel-2-l2a>\n",
            "    * <Collection id=sentinel-2-l1c>\n",
            "    * <Collection id=terrascope-s2-chl-v1>\n",
            "    * <Collection id=terrascope-s2-cwc-v2>\n",
            "    * <Collection id=terrascope-s2-ccc-v2>\n",
            "    * <Collection id=terrascope-s2-toc-v2>\n",
            "    * <Collection id=terrascope-s2-tur-v1>\n",
            "    * <Collection id=terrascope-s3-lst-s1-v1>\n",
            "    * <Collection id=terrascope-s3-lst-s10-v1>\n",
            "    * <Collection id=terrascope-s3-syn-vgt-s1-v1>\n",
            "    * <Collection id=terrascope-s3-syn-vgt-s10-v1>\n",
            "    * <Collection id=esa-worldcover-map-10m-2020-v1>\n",
            "    * <Collection id=esa-worldcover-ndvi-10m-2020-v1>\n",
            "    * <Collection id=esa-worldcover-s1vvvhratio-10m-2020-v1>\n",
            "    * <Collection id=esa-worldcover-s2rgbnir-10m-2020-v1>\n",
            "    * <Collection id=esa-worldcover-swir-10m-2020-v1>\n",
            "    * <Collection id=esa-worldcover-map-10m-2021-v2>\n",
            "    * <Collection id=esa-worldcover-ndvi-10m-2021-v2>\n",
            "    * <Collection id=esa-worldcover-s1vvvhratio-10m-2021-v2>\n",
            "    * <Collection id=esa-worldcover-s2rgbnir-10m-2021-v2>\n",
            "    * <Collection id=esa-worldcover-swir-10m-2021-v2>\n",
            "    * <Collection id=terrascope-s2-fapar-v2>\n",
            "    * <Collection id=terrascope-s2-lai-v2>\n",
            "    * <Collection id=terrascope-s2-rhow-v1>\n",
            "    * <Collection id=terrascope-s2-fcover-v2>\n",
            "    * <Collection id=terrascope-s2-spm-v1>\n",
            "    * <Collection id=terrascope-s2-ndvi-v2>\n",
            "    * <Collection id=corsa-majorTom-Flanders>\n"
          ]
        }
      ],
      "source": [
        "root_catalog.describe()"
      ]
    },
    {
      "cell_type": "markdown",
      "metadata": {
        "id": "XvF_Vmwofh3s"
      },
      "source": [
        "From this output, we can see that the catalog has 1 collection and that this collection has 4 items.\n",
        "\n",
        "Now, let's look at the root catalog more in depth."
      ]
    },
    {
      "cell_type": "code",
      "execution_count": 6,
      "metadata": {
        "id": "LVepdKmOfh3s",
        "outputId": "a63c99fa-9560-4652-ecfa-21437bbc5d6a",
        "colab": {
          "base_uri": "https://localhost:8080/"
        }
      },
      "outputs": [
        {
          "output_type": "stream",
          "name": "stdout",
          "text": [
            "ID: landsat-stac-collection-catalog\n",
            "Title: STAC for Landsat data\n",
            "Description: STAC for Landsat data\n"
          ]
        }
      ],
      "source": [
        "# Print some basic metadata from the Catalog\n",
        "print(f\"ID: {root_catalog.id}\")\n",
        "print(f\"Title: {root_catalog.title or 'N/A'}\")\n",
        "print(f\"Description: {root_catalog.description or 'N/A'}\")"
      ]
    },
    {
      "cell_type": "markdown",
      "metadata": {
        "id": "53T2vuDsfh3s"
      },
      "source": [
        "<div style=\"background-color:rgba(181, 216, 229, 0.8); text-align:center; vertical-align: top; padding:10px; ml:5px; 0;\">\n",
        "Note: we do not print the \"stac_version\" here. PySTAC automatically updates any catalogs to the most recent supported STAC version and will automatically write this to the JSON object during serialization.\n",
        "</div>  \n",
        "\n",
        "\n",
        "Let's confirm the latest STAC Specification version supported by PySTAC."
      ]
    },
    {
      "cell_type": "code",
      "execution_count": 7,
      "metadata": {
        "id": "Y_439UV2fh3s",
        "outputId": "5032efdf-c085-4774-af57-0fdb8cbcb9d3",
        "colab": {
          "base_uri": "https://localhost:8080/"
        }
      },
      "outputs": [
        {
          "output_type": "stream",
          "name": "stdout",
          "text": [
            "1.1.0\n"
          ]
        }
      ],
      "source": [
        "print(get_stac_version())"
      ]
    },
    {
      "cell_type": "markdown",
      "metadata": {
        "id": "fCTcsHwDfh3t"
      },
      "source": [
        "With this information, we have an understanding of the layout and general information about the STAC Catalog at hand. Now, let's dive deeper into this catalog."
      ]
    },
    {
      "cell_type": "markdown",
      "metadata": {
        "id": "Ie0JZP_6fh3t"
      },
      "source": [
        "## Crawl STAC Child Catalogs and/or Collections\n",
        "\n",
        "[STAC Collections](https://github.com/radiantearth/stac-spec/tree/master/collection-spec) are used to group related items and provide aggregate or summary metadata for those items.\n",
        "\n",
        "STAC Catalogs may have many nested layers of catalogs or collections within the top-level collection. Our example catalog only has one collection within the main catalog at [landsat-8-l1/collection.json](/public/example-catalog/landsat-8-l1/collection.json). We can list the collections in a given catalog using the `Catalog.get_collections` method. This method returns an iterable of PySTAC [Collection](https://pystac.readthedocs.io/en/latest/api.html#collection) instances, which we will turn into a `list`."
      ]
    },
    {
      "cell_type": "code",
      "execution_count": 8,
      "metadata": {
        "id": "qKUMqjwQfh3t",
        "outputId": "23adedc0-50b2-4eeb-998b-0a600a1cedb1",
        "colab": {
          "base_uri": "https://localhost:8080/"
        }
      },
      "outputs": [
        {
          "output_type": "stream",
          "name": "stdout",
          "text": [
            "Number of collections: 1\n",
            "Collections IDs:\n",
            "- landsat-8-l1\n"
          ]
        }
      ],
      "source": [
        "collections = list(root_catalog.get_collections())\n",
        "\n",
        "print(f\"Number of collections: {len(collections)}\")\n",
        "print(\"Collections IDs:\")\n",
        "for collection in collections:\n",
        "    print(f\"- {collection.id}\")"
      ]
    },
    {
      "cell_type": "markdown",
      "metadata": {
        "id": "KrcsB7Uofh3t"
      },
      "source": [
        "Let's grab that collection as a PySTAC [Collection](https://pystac.readthedocs.io/en/latest/api/collection.html#pystac-collection) instance using the `Catalog.get_child` method so we can look at it in more detail. This method gets a child catalog or collection by ID, so we'll use the collection ID that we printed above. Since this method returns `None` if no child exists with the given ID, let's check to make sure we actually got the `Collection`."
      ]
    },
    {
      "cell_type": "code",
      "execution_count": 9,
      "metadata": {
        "id": "HXp7emYPfh3t",
        "outputId": "291cc17e-1f0b-49ed-c031-12f3b6267197",
        "colab": {
          "base_uri": "https://localhost:8080/"
        }
      },
      "outputs": [
        {
          "output_type": "stream",
          "name": "stdout",
          "text": [
            "Collection has a root child. You may proceed to the following steps.\n"
          ]
        }
      ],
      "source": [
        "collection = root_catalog.get_child(\"landsat-8-l1\")\n",
        "if collection is None:\n",
        "    print(\"Collection is Empty. Check your downloads and try again.\")\n",
        "else:\n",
        "    print(\"Collection has a root child. You may proceed to the following steps.\")"
      ]
    },
    {
      "cell_type": "markdown",
      "metadata": {
        "id": "WLldFs0Vfh3t"
      },
      "source": [
        "## Crawl the STAC Items\n",
        "\n",
        "[STAC Items](https://github.com/radiantearth/stac-spec/tree/master/item-spec) are the fundamental building blocks of a STAC Catalog. Each Item represents a single spatiotemporal resource (e.g. a satellite scene).\n",
        "\n",
        "Both catalogs and collections may have items associated with them. Let's crawl our catalog, starting at the root, to see what Items we have. The `Catalog.get_all_items` method provides a convenient way of recursively listing all Items associated with a catalog and all of its sub-catalogs."
      ]
    },
    {
      "cell_type": "code",
      "execution_count": 10,
      "metadata": {
        "id": "lTeEPjMJfh3t",
        "outputId": "7895e211-ed5e-4f55-ee55-0e10da54cc6b",
        "colab": {
          "base_uri": "https://localhost:8080/"
        }
      },
      "outputs": [
        {
          "output_type": "stream",
          "name": "stdout",
          "text": [
            "Number of items: 4\n",
            "- LC80140332018166LGN00\n",
            "- LC80150322018141LGN00\n",
            "- LC80150332018189LGN00\n",
            "- LC80300332018166LGN00\n"
          ]
        }
      ],
      "source": [
        "items = list(root_catalog.get_all_items())\n",
        "\n",
        "print(f\"Number of items: {len(items)}\")\n",
        "for item in items:\n",
        "    print(f\"- {item.id}\")"
      ]
    },
    {
      "cell_type": "markdown",
      "metadata": {
        "id": "qsqRNdBufh3t"
      },
      "source": [
        "These IDs are not very descriptive; in the next section, we will see how we can access the rich metadata associated with each item."
      ]
    },
    {
      "cell_type": "markdown",
      "metadata": {
        "id": "PjozSTn9fh3t"
      },
      "source": [
        "## Explore STAC Item Metadata"
      ]
    },
    {
      "cell_type": "markdown",
      "metadata": {
        "id": "tbAwvOPgfh3t"
      },
      "source": [
        "### Item Metadata\n",
        "\n",
        "Items can have *a lot* of metadata. This can be a bit overwhelming at first, but let's break the metadata fields down into a few categories:\n",
        "\n",
        "1. Core Item Metadata\n",
        "2. Common Metadata\n",
        "3. STAC Extensions\n",
        "\n",
        "We will walk through each of these metadata categories in the following sections.\n",
        "\n",
        "First, let's grab one of the Items using the `Catalog.get_item` method. We will use `recursive=True` to recursively crawl all child catalogs and/or collections to find the item."
      ]
    },
    {
      "cell_type": "code",
      "execution_count": 11,
      "metadata": {
        "id": "G4FxeLc8fh3t"
      },
      "outputs": [],
      "source": [
        "item = root_catalog.get_item(\"LC80140332018166LGN00\", recursive=True)"
      ]
    },
    {
      "cell_type": "markdown",
      "metadata": {
        "id": "nrGWeCmTfh3u"
      },
      "source": [
        "#### 1. Core Item Metadata\n",
        "\n",
        "The core item metadata fields include spatiotemporal information and the ID of the collection to which the item belongs. These fields are all at the top level of the item JSON and we can access them through attributes on the [PySTAC Item](https://pystac.readthedocs.io/en/latest/api/collection.html#pystac-collection) instance."
      ]
    },
    {
      "cell_type": "code",
      "execution_count": 12,
      "metadata": {
        "id": "E2M06Aj9fh3u",
        "outputId": "596f272f-6fd5-4833-d7ee-9851c6e344c2",
        "colab": {
          "base_uri": "https://localhost:8080/"
        }
      },
      "outputs": [
        {
          "output_type": "execute_result",
          "data": {
            "text/plain": [
              "{'type': 'Polygon',\n",
              " 'coordinates': [[[-76.12180471942207, 39.95810181489563],\n",
              "   [-73.94910518227414, 39.55117185146004],\n",
              "   [-74.49564725552679, 37.826064511480496],\n",
              "   [-76.66550404911956, 38.240699151776084],\n",
              "   [-76.12180471942207, 39.95810181489563]]]}"
            ]
          },
          "metadata": {},
          "execution_count": 12
        }
      ],
      "source": [
        "item.geometry"
      ]
    },
    {
      "cell_type": "code",
      "execution_count": 13,
      "metadata": {
        "id": "NAMlfqSZfh3u",
        "outputId": "53ec3f0a-79f4-402a-c13a-a3a45a6f9fe7",
        "colab": {
          "base_uri": "https://localhost:8080/"
        }
      },
      "outputs": [
        {
          "output_type": "execute_result",
          "data": {
            "text/plain": [
              "[-76.66703, 37.82561, -73.94861, 39.95958]"
            ]
          },
          "metadata": {},
          "execution_count": 13
        }
      ],
      "source": [
        "item.bbox"
      ]
    },
    {
      "cell_type": "code",
      "execution_count": 14,
      "metadata": {
        "id": "XZmZ3JoEfh3u",
        "outputId": "9f215097-1b2b-4d10-daaa-62246194e89b",
        "colab": {
          "base_uri": "https://localhost:8080/"
        }
      },
      "outputs": [
        {
          "output_type": "execute_result",
          "data": {
            "text/plain": [
              "datetime.datetime(2018, 6, 15, 15, 39, 9, tzinfo=tzutc())"
            ]
          },
          "metadata": {},
          "execution_count": 14
        }
      ],
      "source": [
        "item.datetime"
      ]
    },
    {
      "cell_type": "code",
      "execution_count": 15,
      "metadata": {
        "id": "BajJ7mwpfh3u",
        "outputId": "534fc046-1f78-44f3-dfb3-03c56ba6ba69",
        "colab": {
          "base_uri": "https://localhost:8080/",
          "height": 36
        }
      },
      "outputs": [
        {
          "output_type": "execute_result",
          "data": {
            "text/plain": [
              "'landsat-8-l1'"
            ],
            "application/vnd.google.colaboratory.intrinsic+json": {
              "type": "string"
            }
          },
          "metadata": {},
          "execution_count": 15
        }
      ],
      "source": [
        "item.collection_id"
      ]
    },
    {
      "cell_type": "markdown",
      "metadata": {
        "id": "pi6I2yvqfh3u"
      },
      "source": [
        "We can also access the same information as the cell above by running the `Item.get_collection` method."
      ]
    },
    {
      "cell_type": "code",
      "execution_count": 16,
      "metadata": {
        "id": "7sSNiQZDfh3u",
        "outputId": "6a94c993-86c1-4b2d-88a8-4b0c02171bab",
        "colab": {
          "base_uri": "https://localhost:8080/",
          "height": 219
        }
      },
      "outputs": [
        {
          "output_type": "execute_result",
          "data": {
            "text/plain": [
              "<Collection id=landsat-8-l1>"
            ],
            "text/html": [
              "\n",
              "\n",
              "<style>\n",
              ".pystac-summary {\n",
              "    cursor: pointer;\n",
              "    display: list-item;\n",
              "    list-style: revert;\n",
              "    margin-bottom: 0 !important;\n",
              "\n",
              "    .pystac-l {\n",
              "        padding-left: 0.5em;\n",
              "        color: rgb(64, 128, 128);\n",
              "        font-style: italic;\n",
              "    }\n",
              "}\n",
              ".pystac-row {\n",
              "    overflow-wrap: break-word;\n",
              "    padding-left: .825em;\n",
              "\n",
              "    .pystac-k {\n",
              "        display: inline-block;\n",
              "        margin: 0px 0.5em 0px 0px;\n",
              "    }\n",
              "    .pystac-v {\n",
              "        color: rgb(186, 33, 33);\n",
              "    }\n",
              "}\n",
              ".pystac-k {\n",
              "    color: rgb(0, 128, 0);\n",
              "    font-weight: 700;\n",
              "}\n",
              "</style>\n",
              "<div class=\"jp-RenderedJSON jp-mod-trusted jp-OutputArea-output\">\n",
              "    <div class=\"container\" style=\"line-height: normal;\">\n",
              "        <ul style=\"padding: 0px; margin: 0px; list-style: none; display: block;\">\n",
              "            \n",
              "                \n",
              "                    \n",
              "        <li class=\"pystac-row\">\n",
              "            <span class=\"pystac-k\">type</span>\n",
              "            <span class=\"pystac-v\">\"Collection\"</span>\n",
              "        </li>\n",
              "    \n",
              "                \n",
              "            \n",
              "                \n",
              "                    \n",
              "        <li class=\"pystac-row\">\n",
              "            <span class=\"pystac-k\">id</span>\n",
              "            <span class=\"pystac-v\">\"landsat-8-l1\"</span>\n",
              "        </li>\n",
              "    \n",
              "                \n",
              "            \n",
              "                \n",
              "                    \n",
              "        <li class=\"pystac-row\">\n",
              "            <span class=\"pystac-k\">stac_version</span>\n",
              "            <span class=\"pystac-v\">\"1.1.0\"</span>\n",
              "        </li>\n",
              "    \n",
              "                \n",
              "            \n",
              "                \n",
              "                    \n",
              "        <li class=\"pystac-row\">\n",
              "            <span class=\"pystac-k\">description</span>\n",
              "            <span class=\"pystac-v\">\"Landsat 8 imagery radiometrically calibrated and orthorectified using ground points and Digital Elevation Model (DEM) data to correct relief displacement.\"</span>\n",
              "        </li>\n",
              "    \n",
              "                \n",
              "            \n",
              "                \n",
              "                    <li><details>\n",
              "        <summary class=\"pystac-summary\"><span class=\"pystac-k\">links</span><span class=\"pystac-l\">[] 7 items</span></summary>\n",
              "        \n",
              "            <ul style=\"margin: 0px; padding: 0px 0px 0px 1.75em; list-style: none; display: block;\">\n",
              "        \n",
              "            \n",
              "                \n",
              "        <li><details>\n",
              "            <summary class=\"pystac-summary\"><span class=\"pystac-k\">0</span></summary>\n",
              "            <ul style=\"margin: 0px; padding: 0px 0px 0px 1.75em; list-style: none; display: block;\">\n",
              "        \n",
              "            \n",
              "                \n",
              "        <li class=\"pystac-row\">\n",
              "            <span class=\"pystac-k\">rel</span>\n",
              "            <span class=\"pystac-v\">\"root\"</span>\n",
              "        </li>\n",
              "    \n",
              "            \n",
              "        \n",
              "            \n",
              "                \n",
              "        <li class=\"pystac-row\">\n",
              "            <span class=\"pystac-k\">href</span>\n",
              "            <span class=\"pystac-v\">\"https://raw.githubusercontent.com/stac-utils/pystac/main/docs/example-catalog/catalog.json\"</span>\n",
              "        </li>\n",
              "    \n",
              "            \n",
              "        \n",
              "            \n",
              "                \n",
              "        <li class=\"pystac-row\">\n",
              "            <span class=\"pystac-k\">type</span>\n",
              "            <span class=\"pystac-v\">\"application/json\"</span>\n",
              "        </li>\n",
              "    \n",
              "            \n",
              "        \n",
              "            \n",
              "                \n",
              "        <li class=\"pystac-row\">\n",
              "            <span class=\"pystac-k\">title</span>\n",
              "            <span class=\"pystac-v\">\"STAC for Landsat data\"</span>\n",
              "        </li>\n",
              "    \n",
              "            \n",
              "        \n",
              "    </ul>\n",
              "        </details></li>\n",
              "    \n",
              "            \n",
              "        \n",
              "    </ul>\n",
              "        \n",
              "            <ul style=\"margin: 0px; padding: 0px 0px 0px 1.75em; list-style: none; display: block;\">\n",
              "        \n",
              "            \n",
              "                \n",
              "        <li><details>\n",
              "            <summary class=\"pystac-summary\"><span class=\"pystac-k\">1</span></summary>\n",
              "            <ul style=\"margin: 0px; padding: 0px 0px 0px 1.75em; list-style: none; display: block;\">\n",
              "        \n",
              "            \n",
              "                \n",
              "        <li class=\"pystac-row\">\n",
              "            <span class=\"pystac-k\">rel</span>\n",
              "            <span class=\"pystac-v\">\"item\"</span>\n",
              "        </li>\n",
              "    \n",
              "            \n",
              "        \n",
              "            \n",
              "                \n",
              "        <li class=\"pystac-row\">\n",
              "            <span class=\"pystac-k\">href</span>\n",
              "            <span class=\"pystac-v\">\"https://raw.githubusercontent.com/stac-utils/pystac/main/docs/example-catalog/landsat-8-l1/2018-06/LC80140332018166LGN00.json\"</span>\n",
              "        </li>\n",
              "    \n",
              "            \n",
              "        \n",
              "    </ul>\n",
              "        </details></li>\n",
              "    \n",
              "            \n",
              "        \n",
              "    </ul>\n",
              "        \n",
              "            <ul style=\"margin: 0px; padding: 0px 0px 0px 1.75em; list-style: none; display: block;\">\n",
              "        \n",
              "            \n",
              "                \n",
              "        <li><details>\n",
              "            <summary class=\"pystac-summary\"><span class=\"pystac-k\">2</span></summary>\n",
              "            <ul style=\"margin: 0px; padding: 0px 0px 0px 1.75em; list-style: none; display: block;\">\n",
              "        \n",
              "            \n",
              "                \n",
              "        <li class=\"pystac-row\">\n",
              "            <span class=\"pystac-k\">rel</span>\n",
              "            <span class=\"pystac-v\">\"item\"</span>\n",
              "        </li>\n",
              "    \n",
              "            \n",
              "        \n",
              "            \n",
              "                \n",
              "        <li class=\"pystac-row\">\n",
              "            <span class=\"pystac-k\">href</span>\n",
              "            <span class=\"pystac-v\">\"https://raw.githubusercontent.com/stac-utils/pystac/main/docs/example-catalog/landsat-8-l1/2018-05/LC80150322018141LGN00.json\"</span>\n",
              "        </li>\n",
              "    \n",
              "            \n",
              "        \n",
              "    </ul>\n",
              "        </details></li>\n",
              "    \n",
              "            \n",
              "        \n",
              "    </ul>\n",
              "        \n",
              "            <ul style=\"margin: 0px; padding: 0px 0px 0px 1.75em; list-style: none; display: block;\">\n",
              "        \n",
              "            \n",
              "                \n",
              "        <li><details>\n",
              "            <summary class=\"pystac-summary\"><span class=\"pystac-k\">3</span></summary>\n",
              "            <ul style=\"margin: 0px; padding: 0px 0px 0px 1.75em; list-style: none; display: block;\">\n",
              "        \n",
              "            \n",
              "                \n",
              "        <li class=\"pystac-row\">\n",
              "            <span class=\"pystac-k\">rel</span>\n",
              "            <span class=\"pystac-v\">\"item\"</span>\n",
              "        </li>\n",
              "    \n",
              "            \n",
              "        \n",
              "            \n",
              "                \n",
              "        <li class=\"pystac-row\">\n",
              "            <span class=\"pystac-k\">href</span>\n",
              "            <span class=\"pystac-v\">\"https://raw.githubusercontent.com/stac-utils/pystac/main/docs/example-catalog/landsat-8-l1/2018-07/LC80150332018189LGN00.json\"</span>\n",
              "        </li>\n",
              "    \n",
              "            \n",
              "        \n",
              "    </ul>\n",
              "        </details></li>\n",
              "    \n",
              "            \n",
              "        \n",
              "    </ul>\n",
              "        \n",
              "            <ul style=\"margin: 0px; padding: 0px 0px 0px 1.75em; list-style: none; display: block;\">\n",
              "        \n",
              "            \n",
              "                \n",
              "        <li><details>\n",
              "            <summary class=\"pystac-summary\"><span class=\"pystac-k\">4</span></summary>\n",
              "            <ul style=\"margin: 0px; padding: 0px 0px 0px 1.75em; list-style: none; display: block;\">\n",
              "        \n",
              "            \n",
              "                \n",
              "        <li class=\"pystac-row\">\n",
              "            <span class=\"pystac-k\">rel</span>\n",
              "            <span class=\"pystac-v\">\"item\"</span>\n",
              "        </li>\n",
              "    \n",
              "            \n",
              "        \n",
              "            \n",
              "                \n",
              "        <li class=\"pystac-row\">\n",
              "            <span class=\"pystac-k\">href</span>\n",
              "            <span class=\"pystac-v\">\"https://raw.githubusercontent.com/stac-utils/pystac/main/docs/example-catalog/landsat-8-l1/2018-06/LC80300332018166LGN00.json\"</span>\n",
              "        </li>\n",
              "    \n",
              "            \n",
              "        \n",
              "    </ul>\n",
              "        </details></li>\n",
              "    \n",
              "            \n",
              "        \n",
              "    </ul>\n",
              "        \n",
              "            <ul style=\"margin: 0px; padding: 0px 0px 0px 1.75em; list-style: none; display: block;\">\n",
              "        \n",
              "            \n",
              "                \n",
              "        <li><details>\n",
              "            <summary class=\"pystac-summary\"><span class=\"pystac-k\">5</span></summary>\n",
              "            <ul style=\"margin: 0px; padding: 0px 0px 0px 1.75em; list-style: none; display: block;\">\n",
              "        \n",
              "            \n",
              "                \n",
              "        <li class=\"pystac-row\">\n",
              "            <span class=\"pystac-k\">rel</span>\n",
              "            <span class=\"pystac-v\">\"self\"</span>\n",
              "        </li>\n",
              "    \n",
              "            \n",
              "        \n",
              "            \n",
              "                \n",
              "        <li class=\"pystac-row\">\n",
              "            <span class=\"pystac-k\">href</span>\n",
              "            <span class=\"pystac-v\">\"https://raw.githubusercontent.com/stac-utils/pystac/main/docs/example-catalog/landsat-8-l1/collection.json\"</span>\n",
              "        </li>\n",
              "    \n",
              "            \n",
              "        \n",
              "            \n",
              "                \n",
              "        <li class=\"pystac-row\">\n",
              "            <span class=\"pystac-k\">type</span>\n",
              "            <span class=\"pystac-v\">\"application/json\"</span>\n",
              "        </li>\n",
              "    \n",
              "            \n",
              "        \n",
              "    </ul>\n",
              "        </details></li>\n",
              "    \n",
              "            \n",
              "        \n",
              "    </ul>\n",
              "        \n",
              "            <ul style=\"margin: 0px; padding: 0px 0px 0px 1.75em; list-style: none; display: block;\">\n",
              "        \n",
              "            \n",
              "                \n",
              "        <li><details>\n",
              "            <summary class=\"pystac-summary\"><span class=\"pystac-k\">6</span></summary>\n",
              "            <ul style=\"margin: 0px; padding: 0px 0px 0px 1.75em; list-style: none; display: block;\">\n",
              "        \n",
              "            \n",
              "                \n",
              "        <li class=\"pystac-row\">\n",
              "            <span class=\"pystac-k\">rel</span>\n",
              "            <span class=\"pystac-v\">\"parent\"</span>\n",
              "        </li>\n",
              "    \n",
              "            \n",
              "        \n",
              "            \n",
              "                \n",
              "        <li class=\"pystac-row\">\n",
              "            <span class=\"pystac-k\">href</span>\n",
              "            <span class=\"pystac-v\">\"https://raw.githubusercontent.com/stac-utils/pystac/main/docs/example-catalog/catalog.json\"</span>\n",
              "        </li>\n",
              "    \n",
              "            \n",
              "        \n",
              "            \n",
              "                \n",
              "        <li class=\"pystac-row\">\n",
              "            <span class=\"pystac-k\">type</span>\n",
              "            <span class=\"pystac-v\">\"application/json\"</span>\n",
              "        </li>\n",
              "    \n",
              "            \n",
              "        \n",
              "            \n",
              "                \n",
              "        <li class=\"pystac-row\">\n",
              "            <span class=\"pystac-k\">title</span>\n",
              "            <span class=\"pystac-v\">\"STAC for Landsat data\"</span>\n",
              "        </li>\n",
              "    \n",
              "            \n",
              "        \n",
              "    </ul>\n",
              "        </details></li>\n",
              "    \n",
              "            \n",
              "        \n",
              "    </ul>\n",
              "        \n",
              "    </details></li>\n",
              "                \n",
              "            \n",
              "                \n",
              "                    <li><details>\n",
              "        <summary class=\"pystac-summary\"><span class=\"pystac-k\">stac_extensions</span><span class=\"pystac-l\">[] 1 items</span></summary>\n",
              "        \n",
              "            <ul style=\"margin: 0px; padding: 0px 0px 0px 1.75em; list-style: none; display: block;\">\n",
              "        \n",
              "            \n",
              "                \n",
              "        <li class=\"pystac-row\">\n",
              "            <span class=\"pystac-k\">0</span>\n",
              "            <span class=\"pystac-v\">\"https://example.com/stac/landsat-extension/1.0/schema.json\"</span>\n",
              "        </li>\n",
              "    \n",
              "            \n",
              "        \n",
              "    </ul>\n",
              "        \n",
              "    </details></li>\n",
              "                \n",
              "            \n",
              "                \n",
              "                    \n",
              "        <li><details>\n",
              "            <summary class=\"pystac-summary\"><span class=\"pystac-k\">properties</span></summary>\n",
              "            <ul style=\"margin: 0px; padding: 0px 0px 0px 1.75em; list-style: none; display: block;\">\n",
              "        \n",
              "            \n",
              "                \n",
              "        <li class=\"pystac-row\">\n",
              "            <span class=\"pystac-k\">collection</span>\n",
              "            <span class=\"pystac-v\">\"landsat-8-l1\"</span>\n",
              "        </li>\n",
              "    \n",
              "            \n",
              "        \n",
              "            \n",
              "                <li><details>\n",
              "        <summary class=\"pystac-summary\"><span class=\"pystac-k\">instruments</span><span class=\"pystac-l\">[] 1 items</span></summary>\n",
              "        \n",
              "            <ul style=\"margin: 0px; padding: 0px 0px 0px 1.75em; list-style: none; display: block;\">\n",
              "        \n",
              "            \n",
              "                \n",
              "        <li class=\"pystac-row\">\n",
              "            <span class=\"pystac-k\">0</span>\n",
              "            <span class=\"pystac-v\">\"OLI_TIRS\"</span>\n",
              "        </li>\n",
              "    \n",
              "            \n",
              "        \n",
              "    </ul>\n",
              "        \n",
              "    </details></li>\n",
              "            \n",
              "        \n",
              "            \n",
              "                \n",
              "        <li class=\"pystac-row\">\n",
              "            <span class=\"pystac-k\">view:sun_azimuth</span>\n",
              "            <span class=\"pystac-v\">149.01607154</span>\n",
              "        </li>\n",
              "    \n",
              "            \n",
              "        \n",
              "            \n",
              "                <li><details>\n",
              "        <summary class=\"pystac-summary\"><span class=\"pystac-k\">eo:bands</span><span class=\"pystac-l\">[] 11 items</span></summary>\n",
              "        \n",
              "            <ul style=\"margin: 0px; padding: 0px 0px 0px 1.75em; list-style: none; display: block;\">\n",
              "        \n",
              "            \n",
              "                \n",
              "        <li><details>\n",
              "            <summary class=\"pystac-summary\"><span class=\"pystac-k\">0</span></summary>\n",
              "            <ul style=\"margin: 0px; padding: 0px 0px 0px 1.75em; list-style: none; display: block;\">\n",
              "        \n",
              "            \n",
              "                \n",
              "        <li class=\"pystac-row\">\n",
              "            <span class=\"pystac-k\">name</span>\n",
              "            <span class=\"pystac-v\">\"B1\"</span>\n",
              "        </li>\n",
              "    \n",
              "            \n",
              "        \n",
              "            \n",
              "                \n",
              "        <li class=\"pystac-row\">\n",
              "            <span class=\"pystac-k\">full_width_half_max</span>\n",
              "            <span class=\"pystac-v\">0.02</span>\n",
              "        </li>\n",
              "    \n",
              "            \n",
              "        \n",
              "            \n",
              "                \n",
              "        <li class=\"pystac-row\">\n",
              "            <span class=\"pystac-k\">center_wavelength</span>\n",
              "            <span class=\"pystac-v\">0.44</span>\n",
              "        </li>\n",
              "    \n",
              "            \n",
              "        \n",
              "            \n",
              "                \n",
              "        <li class=\"pystac-row\">\n",
              "            <span class=\"pystac-k\">common_name</span>\n",
              "            <span class=\"pystac-v\">\"coastal\"</span>\n",
              "        </li>\n",
              "    \n",
              "            \n",
              "        \n",
              "    </ul>\n",
              "        </details></li>\n",
              "    \n",
              "            \n",
              "        \n",
              "    </ul>\n",
              "        \n",
              "            <ul style=\"margin: 0px; padding: 0px 0px 0px 1.75em; list-style: none; display: block;\">\n",
              "        \n",
              "            \n",
              "                \n",
              "        <li><details>\n",
              "            <summary class=\"pystac-summary\"><span class=\"pystac-k\">1</span></summary>\n",
              "            <ul style=\"margin: 0px; padding: 0px 0px 0px 1.75em; list-style: none; display: block;\">\n",
              "        \n",
              "            \n",
              "                \n",
              "        <li class=\"pystac-row\">\n",
              "            <span class=\"pystac-k\">name</span>\n",
              "            <span class=\"pystac-v\">\"B2\"</span>\n",
              "        </li>\n",
              "    \n",
              "            \n",
              "        \n",
              "            \n",
              "                \n",
              "        <li class=\"pystac-row\">\n",
              "            <span class=\"pystac-k\">full_width_half_max</span>\n",
              "            <span class=\"pystac-v\">0.06</span>\n",
              "        </li>\n",
              "    \n",
              "            \n",
              "        \n",
              "            \n",
              "                \n",
              "        <li class=\"pystac-row\">\n",
              "            <span class=\"pystac-k\">center_wavelength</span>\n",
              "            <span class=\"pystac-v\">0.48</span>\n",
              "        </li>\n",
              "    \n",
              "            \n",
              "        \n",
              "            \n",
              "                \n",
              "        <li class=\"pystac-row\">\n",
              "            <span class=\"pystac-k\">common_name</span>\n",
              "            <span class=\"pystac-v\">\"blue\"</span>\n",
              "        </li>\n",
              "    \n",
              "            \n",
              "        \n",
              "    </ul>\n",
              "        </details></li>\n",
              "    \n",
              "            \n",
              "        \n",
              "    </ul>\n",
              "        \n",
              "            <ul style=\"margin: 0px; padding: 0px 0px 0px 1.75em; list-style: none; display: block;\">\n",
              "        \n",
              "            \n",
              "                \n",
              "        <li><details>\n",
              "            <summary class=\"pystac-summary\"><span class=\"pystac-k\">2</span></summary>\n",
              "            <ul style=\"margin: 0px; padding: 0px 0px 0px 1.75em; list-style: none; display: block;\">\n",
              "        \n",
              "            \n",
              "                \n",
              "        <li class=\"pystac-row\">\n",
              "            <span class=\"pystac-k\">name</span>\n",
              "            <span class=\"pystac-v\">\"B3\"</span>\n",
              "        </li>\n",
              "    \n",
              "            \n",
              "        \n",
              "            \n",
              "                \n",
              "        <li class=\"pystac-row\">\n",
              "            <span class=\"pystac-k\">full_width_half_max</span>\n",
              "            <span class=\"pystac-v\">0.06</span>\n",
              "        </li>\n",
              "    \n",
              "            \n",
              "        \n",
              "            \n",
              "                \n",
              "        <li class=\"pystac-row\">\n",
              "            <span class=\"pystac-k\">center_wavelength</span>\n",
              "            <span class=\"pystac-v\">0.56</span>\n",
              "        </li>\n",
              "    \n",
              "            \n",
              "        \n",
              "            \n",
              "                \n",
              "        <li class=\"pystac-row\">\n",
              "            <span class=\"pystac-k\">common_name</span>\n",
              "            <span class=\"pystac-v\">\"green\"</span>\n",
              "        </li>\n",
              "    \n",
              "            \n",
              "        \n",
              "    </ul>\n",
              "        </details></li>\n",
              "    \n",
              "            \n",
              "        \n",
              "    </ul>\n",
              "        \n",
              "            <ul style=\"margin: 0px; padding: 0px 0px 0px 1.75em; list-style: none; display: block;\">\n",
              "        \n",
              "            \n",
              "                \n",
              "        <li><details>\n",
              "            <summary class=\"pystac-summary\"><span class=\"pystac-k\">3</span></summary>\n",
              "            <ul style=\"margin: 0px; padding: 0px 0px 0px 1.75em; list-style: none; display: block;\">\n",
              "        \n",
              "            \n",
              "                \n",
              "        <li class=\"pystac-row\">\n",
              "            <span class=\"pystac-k\">name</span>\n",
              "            <span class=\"pystac-v\">\"B4\"</span>\n",
              "        </li>\n",
              "    \n",
              "            \n",
              "        \n",
              "            \n",
              "                \n",
              "        <li class=\"pystac-row\">\n",
              "            <span class=\"pystac-k\">full_width_half_max</span>\n",
              "            <span class=\"pystac-v\">0.04</span>\n",
              "        </li>\n",
              "    \n",
              "            \n",
              "        \n",
              "            \n",
              "                \n",
              "        <li class=\"pystac-row\">\n",
              "            <span class=\"pystac-k\">center_wavelength</span>\n",
              "            <span class=\"pystac-v\">0.65</span>\n",
              "        </li>\n",
              "    \n",
              "            \n",
              "        \n",
              "            \n",
              "                \n",
              "        <li class=\"pystac-row\">\n",
              "            <span class=\"pystac-k\">common_name</span>\n",
              "            <span class=\"pystac-v\">\"red\"</span>\n",
              "        </li>\n",
              "    \n",
              "            \n",
              "        \n",
              "    </ul>\n",
              "        </details></li>\n",
              "    \n",
              "            \n",
              "        \n",
              "    </ul>\n",
              "        \n",
              "            <ul style=\"margin: 0px; padding: 0px 0px 0px 1.75em; list-style: none; display: block;\">\n",
              "        \n",
              "            \n",
              "                \n",
              "        <li><details>\n",
              "            <summary class=\"pystac-summary\"><span class=\"pystac-k\">4</span></summary>\n",
              "            <ul style=\"margin: 0px; padding: 0px 0px 0px 1.75em; list-style: none; display: block;\">\n",
              "        \n",
              "            \n",
              "                \n",
              "        <li class=\"pystac-row\">\n",
              "            <span class=\"pystac-k\">name</span>\n",
              "            <span class=\"pystac-v\">\"B5\"</span>\n",
              "        </li>\n",
              "    \n",
              "            \n",
              "        \n",
              "            \n",
              "                \n",
              "        <li class=\"pystac-row\">\n",
              "            <span class=\"pystac-k\">full_width_half_max</span>\n",
              "            <span class=\"pystac-v\">0.03</span>\n",
              "        </li>\n",
              "    \n",
              "            \n",
              "        \n",
              "            \n",
              "                \n",
              "        <li class=\"pystac-row\">\n",
              "            <span class=\"pystac-k\">center_wavelength</span>\n",
              "            <span class=\"pystac-v\">0.86</span>\n",
              "        </li>\n",
              "    \n",
              "            \n",
              "        \n",
              "            \n",
              "                \n",
              "        <li class=\"pystac-row\">\n",
              "            <span class=\"pystac-k\">common_name</span>\n",
              "            <span class=\"pystac-v\">\"nir\"</span>\n",
              "        </li>\n",
              "    \n",
              "            \n",
              "        \n",
              "    </ul>\n",
              "        </details></li>\n",
              "    \n",
              "            \n",
              "        \n",
              "    </ul>\n",
              "        \n",
              "            <ul style=\"margin: 0px; padding: 0px 0px 0px 1.75em; list-style: none; display: block;\">\n",
              "        \n",
              "            \n",
              "                \n",
              "        <li><details>\n",
              "            <summary class=\"pystac-summary\"><span class=\"pystac-k\">5</span></summary>\n",
              "            <ul style=\"margin: 0px; padding: 0px 0px 0px 1.75em; list-style: none; display: block;\">\n",
              "        \n",
              "            \n",
              "                \n",
              "        <li class=\"pystac-row\">\n",
              "            <span class=\"pystac-k\">name</span>\n",
              "            <span class=\"pystac-v\">\"B6\"</span>\n",
              "        </li>\n",
              "    \n",
              "            \n",
              "        \n",
              "            \n",
              "                \n",
              "        <li class=\"pystac-row\">\n",
              "            <span class=\"pystac-k\">full_width_half_max</span>\n",
              "            <span class=\"pystac-v\">0.08</span>\n",
              "        </li>\n",
              "    \n",
              "            \n",
              "        \n",
              "            \n",
              "                \n",
              "        <li class=\"pystac-row\">\n",
              "            <span class=\"pystac-k\">center_wavelength</span>\n",
              "            <span class=\"pystac-v\">1.6</span>\n",
              "        </li>\n",
              "    \n",
              "            \n",
              "        \n",
              "            \n",
              "                \n",
              "        <li class=\"pystac-row\">\n",
              "            <span class=\"pystac-k\">common_name</span>\n",
              "            <span class=\"pystac-v\">\"swir16\"</span>\n",
              "        </li>\n",
              "    \n",
              "            \n",
              "        \n",
              "    </ul>\n",
              "        </details></li>\n",
              "    \n",
              "            \n",
              "        \n",
              "    </ul>\n",
              "        \n",
              "            <ul style=\"margin: 0px; padding: 0px 0px 0px 1.75em; list-style: none; display: block;\">\n",
              "        \n",
              "            \n",
              "                \n",
              "        <li><details>\n",
              "            <summary class=\"pystac-summary\"><span class=\"pystac-k\">6</span></summary>\n",
              "            <ul style=\"margin: 0px; padding: 0px 0px 0px 1.75em; list-style: none; display: block;\">\n",
              "        \n",
              "            \n",
              "                \n",
              "        <li class=\"pystac-row\">\n",
              "            <span class=\"pystac-k\">name</span>\n",
              "            <span class=\"pystac-v\">\"B7\"</span>\n",
              "        </li>\n",
              "    \n",
              "            \n",
              "        \n",
              "            \n",
              "                \n",
              "        <li class=\"pystac-row\">\n",
              "            <span class=\"pystac-k\">full_width_half_max</span>\n",
              "            <span class=\"pystac-v\">0.22</span>\n",
              "        </li>\n",
              "    \n",
              "            \n",
              "        \n",
              "            \n",
              "                \n",
              "        <li class=\"pystac-row\">\n",
              "            <span class=\"pystac-k\">center_wavelength</span>\n",
              "            <span class=\"pystac-v\">2.2</span>\n",
              "        </li>\n",
              "    \n",
              "            \n",
              "        \n",
              "            \n",
              "                \n",
              "        <li class=\"pystac-row\">\n",
              "            <span class=\"pystac-k\">common_name</span>\n",
              "            <span class=\"pystac-v\">\"swir22\"</span>\n",
              "        </li>\n",
              "    \n",
              "            \n",
              "        \n",
              "    </ul>\n",
              "        </details></li>\n",
              "    \n",
              "            \n",
              "        \n",
              "    </ul>\n",
              "        \n",
              "            <ul style=\"margin: 0px; padding: 0px 0px 0px 1.75em; list-style: none; display: block;\">\n",
              "        \n",
              "            \n",
              "                \n",
              "        <li><details>\n",
              "            <summary class=\"pystac-summary\"><span class=\"pystac-k\">7</span></summary>\n",
              "            <ul style=\"margin: 0px; padding: 0px 0px 0px 1.75em; list-style: none; display: block;\">\n",
              "        \n",
              "            \n",
              "                \n",
              "        <li class=\"pystac-row\">\n",
              "            <span class=\"pystac-k\">name</span>\n",
              "            <span class=\"pystac-v\">\"B8\"</span>\n",
              "        </li>\n",
              "    \n",
              "            \n",
              "        \n",
              "            \n",
              "                \n",
              "        <li class=\"pystac-row\">\n",
              "            <span class=\"pystac-k\">full_width_half_max</span>\n",
              "            <span class=\"pystac-v\">0.18</span>\n",
              "        </li>\n",
              "    \n",
              "            \n",
              "        \n",
              "            \n",
              "                \n",
              "        <li class=\"pystac-row\">\n",
              "            <span class=\"pystac-k\">center_wavelength</span>\n",
              "            <span class=\"pystac-v\">0.59</span>\n",
              "        </li>\n",
              "    \n",
              "            \n",
              "        \n",
              "            \n",
              "                \n",
              "        <li class=\"pystac-row\">\n",
              "            <span class=\"pystac-k\">common_name</span>\n",
              "            <span class=\"pystac-v\">\"pan\"</span>\n",
              "        </li>\n",
              "    \n",
              "            \n",
              "        \n",
              "    </ul>\n",
              "        </details></li>\n",
              "    \n",
              "            \n",
              "        \n",
              "    </ul>\n",
              "        \n",
              "            <ul style=\"margin: 0px; padding: 0px 0px 0px 1.75em; list-style: none; display: block;\">\n",
              "        \n",
              "            \n",
              "                \n",
              "        <li><details>\n",
              "            <summary class=\"pystac-summary\"><span class=\"pystac-k\">8</span></summary>\n",
              "            <ul style=\"margin: 0px; padding: 0px 0px 0px 1.75em; list-style: none; display: block;\">\n",
              "        \n",
              "            \n",
              "                \n",
              "        <li class=\"pystac-row\">\n",
              "            <span class=\"pystac-k\">name</span>\n",
              "            <span class=\"pystac-v\">\"B9\"</span>\n",
              "        </li>\n",
              "    \n",
              "            \n",
              "        \n",
              "            \n",
              "                \n",
              "        <li class=\"pystac-row\">\n",
              "            <span class=\"pystac-k\">full_width_half_max</span>\n",
              "            <span class=\"pystac-v\">0.02</span>\n",
              "        </li>\n",
              "    \n",
              "            \n",
              "        \n",
              "            \n",
              "                \n",
              "        <li class=\"pystac-row\">\n",
              "            <span class=\"pystac-k\">center_wavelength</span>\n",
              "            <span class=\"pystac-v\">1.37</span>\n",
              "        </li>\n",
              "    \n",
              "            \n",
              "        \n",
              "            \n",
              "                \n",
              "        <li class=\"pystac-row\">\n",
              "            <span class=\"pystac-k\">common_name</span>\n",
              "            <span class=\"pystac-v\">\"cirrus\"</span>\n",
              "        </li>\n",
              "    \n",
              "            \n",
              "        \n",
              "    </ul>\n",
              "        </details></li>\n",
              "    \n",
              "            \n",
              "        \n",
              "    </ul>\n",
              "        \n",
              "            <ul style=\"margin: 0px; padding: 0px 0px 0px 1.75em; list-style: none; display: block;\">\n",
              "        \n",
              "            \n",
              "                \n",
              "        <li><details>\n",
              "            <summary class=\"pystac-summary\"><span class=\"pystac-k\">9</span></summary>\n",
              "            <ul style=\"margin: 0px; padding: 0px 0px 0px 1.75em; list-style: none; display: block;\">\n",
              "        \n",
              "            \n",
              "                \n",
              "        <li class=\"pystac-row\">\n",
              "            <span class=\"pystac-k\">name</span>\n",
              "            <span class=\"pystac-v\">\"B10\"</span>\n",
              "        </li>\n",
              "    \n",
              "            \n",
              "        \n",
              "            \n",
              "                \n",
              "        <li class=\"pystac-row\">\n",
              "            <span class=\"pystac-k\">full_width_half_max</span>\n",
              "            <span class=\"pystac-v\">0.8</span>\n",
              "        </li>\n",
              "    \n",
              "            \n",
              "        \n",
              "            \n",
              "                \n",
              "        <li class=\"pystac-row\">\n",
              "            <span class=\"pystac-k\">center_wavelength</span>\n",
              "            <span class=\"pystac-v\">10.9</span>\n",
              "        </li>\n",
              "    \n",
              "            \n",
              "        \n",
              "            \n",
              "                \n",
              "        <li class=\"pystac-row\">\n",
              "            <span class=\"pystac-k\">common_name</span>\n",
              "            <span class=\"pystac-v\">\"lwir11\"</span>\n",
              "        </li>\n",
              "    \n",
              "            \n",
              "        \n",
              "    </ul>\n",
              "        </details></li>\n",
              "    \n",
              "            \n",
              "        \n",
              "    </ul>\n",
              "        \n",
              "            <ul style=\"margin: 0px; padding: 0px 0px 0px 1.75em; list-style: none; display: block;\">\n",
              "        \n",
              "            \n",
              "                \n",
              "        <li><details>\n",
              "            <summary class=\"pystac-summary\"><span class=\"pystac-k\">10</span></summary>\n",
              "            <ul style=\"margin: 0px; padding: 0px 0px 0px 1.75em; list-style: none; display: block;\">\n",
              "        \n",
              "            \n",
              "                \n",
              "        <li class=\"pystac-row\">\n",
              "            <span class=\"pystac-k\">name</span>\n",
              "            <span class=\"pystac-v\">\"B11\"</span>\n",
              "        </li>\n",
              "    \n",
              "            \n",
              "        \n",
              "            \n",
              "                \n",
              "        <li class=\"pystac-row\">\n",
              "            <span class=\"pystac-k\">full_width_half_max</span>\n",
              "            <span class=\"pystac-v\">1</span>\n",
              "        </li>\n",
              "    \n",
              "            \n",
              "        \n",
              "            \n",
              "                \n",
              "        <li class=\"pystac-row\">\n",
              "            <span class=\"pystac-k\">center_wavelength</span>\n",
              "            <span class=\"pystac-v\">12</span>\n",
              "        </li>\n",
              "    \n",
              "            \n",
              "        \n",
              "            \n",
              "                \n",
              "        <li class=\"pystac-row\">\n",
              "            <span class=\"pystac-k\">common_name</span>\n",
              "            <span class=\"pystac-v\">\"lwir2\"</span>\n",
              "        </li>\n",
              "    \n",
              "            \n",
              "        \n",
              "    </ul>\n",
              "        </details></li>\n",
              "    \n",
              "            \n",
              "        \n",
              "    </ul>\n",
              "        \n",
              "    </details></li>\n",
              "            \n",
              "        \n",
              "            \n",
              "                \n",
              "        <li class=\"pystac-row\">\n",
              "            <span class=\"pystac-k\">view:off_nadir</span>\n",
              "            <span class=\"pystac-v\">0</span>\n",
              "        </li>\n",
              "    \n",
              "            \n",
              "        \n",
              "            \n",
              "                \n",
              "        <li class=\"pystac-row\">\n",
              "            <span class=\"pystac-k\">view:azimuth</span>\n",
              "            <span class=\"pystac-v\">0</span>\n",
              "        </li>\n",
              "    \n",
              "            \n",
              "        \n",
              "            \n",
              "                \n",
              "        <li class=\"pystac-row\">\n",
              "            <span class=\"pystac-k\">platform</span>\n",
              "            <span class=\"pystac-v\">\"landsat-8\"</span>\n",
              "        </li>\n",
              "    \n",
              "            \n",
              "        \n",
              "            \n",
              "                \n",
              "        <li class=\"pystac-row\">\n",
              "            <span class=\"pystac-k\">gsd</span>\n",
              "            <span class=\"pystac-v\">15</span>\n",
              "        </li>\n",
              "    \n",
              "            \n",
              "        \n",
              "            \n",
              "                \n",
              "        <li class=\"pystac-row\">\n",
              "            <span class=\"pystac-k\">view:sun_elevation</span>\n",
              "            <span class=\"pystac-v\">59.214247</span>\n",
              "        </li>\n",
              "    \n",
              "            \n",
              "        \n",
              "    </ul>\n",
              "        </details></li>\n",
              "    \n",
              "                \n",
              "            \n",
              "                \n",
              "                    \n",
              "        <li class=\"pystac-row\">\n",
              "            <span class=\"pystac-k\">title</span>\n",
              "            <span class=\"pystac-v\">\"Landsat 8 L1\"</span>\n",
              "        </li>\n",
              "    \n",
              "                \n",
              "            \n",
              "                \n",
              "                    \n",
              "        <li><details>\n",
              "            <summary class=\"pystac-summary\"><span class=\"pystac-k\">extent</span></summary>\n",
              "            <ul style=\"margin: 0px; padding: 0px 0px 0px 1.75em; list-style: none; display: block;\">\n",
              "        \n",
              "            \n",
              "                \n",
              "        <li><details>\n",
              "            <summary class=\"pystac-summary\"><span class=\"pystac-k\">spatial</span></summary>\n",
              "            <ul style=\"margin: 0px; padding: 0px 0px 0px 1.75em; list-style: none; display: block;\">\n",
              "        \n",
              "            \n",
              "                <li><details>\n",
              "        <summary class=\"pystac-summary\"><span class=\"pystac-k\">bbox</span><span class=\"pystac-l\">[] 1 items</span></summary>\n",
              "        \n",
              "            <ul style=\"margin: 0px; padding: 0px 0px 0px 1.75em; list-style: none; display: block;\">\n",
              "        \n",
              "            \n",
              "                <li><details>\n",
              "        <summary class=\"pystac-summary\"><span class=\"pystac-k\">0</span><span class=\"pystac-l\">[] 4 items</span></summary>\n",
              "        \n",
              "            <ul style=\"margin: 0px; padding: 0px 0px 0px 1.75em; list-style: none; display: block;\">\n",
              "        \n",
              "            \n",
              "                \n",
              "        <li class=\"pystac-row\">\n",
              "            <span class=\"pystac-k\">0</span>\n",
              "            <span class=\"pystac-v\">-180.0</span>\n",
              "        </li>\n",
              "    \n",
              "            \n",
              "        \n",
              "    </ul>\n",
              "        \n",
              "            <ul style=\"margin: 0px; padding: 0px 0px 0px 1.75em; list-style: none; display: block;\">\n",
              "        \n",
              "            \n",
              "                \n",
              "        <li class=\"pystac-row\">\n",
              "            <span class=\"pystac-k\">1</span>\n",
              "            <span class=\"pystac-v\">-90.0</span>\n",
              "        </li>\n",
              "    \n",
              "            \n",
              "        \n",
              "    </ul>\n",
              "        \n",
              "            <ul style=\"margin: 0px; padding: 0px 0px 0px 1.75em; list-style: none; display: block;\">\n",
              "        \n",
              "            \n",
              "                \n",
              "        <li class=\"pystac-row\">\n",
              "            <span class=\"pystac-k\">2</span>\n",
              "            <span class=\"pystac-v\">180.0</span>\n",
              "        </li>\n",
              "    \n",
              "            \n",
              "        \n",
              "    </ul>\n",
              "        \n",
              "            <ul style=\"margin: 0px; padding: 0px 0px 0px 1.75em; list-style: none; display: block;\">\n",
              "        \n",
              "            \n",
              "                \n",
              "        <li class=\"pystac-row\">\n",
              "            <span class=\"pystac-k\">3</span>\n",
              "            <span class=\"pystac-v\">90.0</span>\n",
              "        </li>\n",
              "    \n",
              "            \n",
              "        \n",
              "    </ul>\n",
              "        \n",
              "    </details></li>\n",
              "            \n",
              "        \n",
              "    </ul>\n",
              "        \n",
              "    </details></li>\n",
              "            \n",
              "        \n",
              "    </ul>\n",
              "        </details></li>\n",
              "    \n",
              "            \n",
              "        \n",
              "            \n",
              "                \n",
              "        <li><details>\n",
              "            <summary class=\"pystac-summary\"><span class=\"pystac-k\">temporal</span></summary>\n",
              "            <ul style=\"margin: 0px; padding: 0px 0px 0px 1.75em; list-style: none; display: block;\">\n",
              "        \n",
              "            \n",
              "                <li><details>\n",
              "        <summary class=\"pystac-summary\"><span class=\"pystac-k\">interval</span><span class=\"pystac-l\">[] 1 items</span></summary>\n",
              "        \n",
              "            <ul style=\"margin: 0px; padding: 0px 0px 0px 1.75em; list-style: none; display: block;\">\n",
              "        \n",
              "            \n",
              "                <li><details>\n",
              "        <summary class=\"pystac-summary\"><span class=\"pystac-k\">0</span><span class=\"pystac-l\">[] 2 items</span></summary>\n",
              "        \n",
              "            <ul style=\"margin: 0px; padding: 0px 0px 0px 1.75em; list-style: none; display: block;\">\n",
              "        \n",
              "            \n",
              "                \n",
              "        <li class=\"pystac-row\">\n",
              "            <span class=\"pystac-k\">0</span>\n",
              "            <span class=\"pystac-v\">\"2018-05-21T15:44:59Z\"</span>\n",
              "        </li>\n",
              "    \n",
              "            \n",
              "        \n",
              "    </ul>\n",
              "        \n",
              "            <ul style=\"margin: 0px; padding: 0px 0px 0px 1.75em; list-style: none; display: block;\">\n",
              "        \n",
              "            \n",
              "                \n",
              "        <li class=\"pystac-row\">\n",
              "            <span class=\"pystac-k\">1</span>\n",
              "            <span class=\"pystac-v\">\"2018-07-08T15:45:34Z\"</span>\n",
              "        </li>\n",
              "    \n",
              "            \n",
              "        \n",
              "    </ul>\n",
              "        \n",
              "    </details></li>\n",
              "            \n",
              "        \n",
              "    </ul>\n",
              "        \n",
              "    </details></li>\n",
              "            \n",
              "        \n",
              "    </ul>\n",
              "        </details></li>\n",
              "    \n",
              "            \n",
              "        \n",
              "    </ul>\n",
              "        </details></li>\n",
              "    \n",
              "                \n",
              "            \n",
              "                \n",
              "                    \n",
              "        <li class=\"pystac-row\">\n",
              "            <span class=\"pystac-k\">license</span>\n",
              "            <span class=\"pystac-v\">\"other\"</span>\n",
              "        </li>\n",
              "    \n",
              "                \n",
              "            \n",
              "                \n",
              "                    <li><details>\n",
              "        <summary class=\"pystac-summary\"><span class=\"pystac-k\">keywords</span><span class=\"pystac-l\">[] 3 items</span></summary>\n",
              "        \n",
              "            <ul style=\"margin: 0px; padding: 0px 0px 0px 1.75em; list-style: none; display: block;\">\n",
              "        \n",
              "            \n",
              "                \n",
              "        <li class=\"pystac-row\">\n",
              "            <span class=\"pystac-k\">0</span>\n",
              "            <span class=\"pystac-v\">\"landsat\"</span>\n",
              "        </li>\n",
              "    \n",
              "            \n",
              "        \n",
              "    </ul>\n",
              "        \n",
              "            <ul style=\"margin: 0px; padding: 0px 0px 0px 1.75em; list-style: none; display: block;\">\n",
              "        \n",
              "            \n",
              "                \n",
              "        <li class=\"pystac-row\">\n",
              "            <span class=\"pystac-k\">1</span>\n",
              "            <span class=\"pystac-v\">\"earth observation\"</span>\n",
              "        </li>\n",
              "    \n",
              "            \n",
              "        \n",
              "    </ul>\n",
              "        \n",
              "            <ul style=\"margin: 0px; padding: 0px 0px 0px 1.75em; list-style: none; display: block;\">\n",
              "        \n",
              "            \n",
              "                \n",
              "        <li class=\"pystac-row\">\n",
              "            <span class=\"pystac-k\">2</span>\n",
              "            <span class=\"pystac-v\">\"usgs\"</span>\n",
              "        </li>\n",
              "    \n",
              "            \n",
              "        \n",
              "    </ul>\n",
              "        \n",
              "    </details></li>\n",
              "                \n",
              "            \n",
              "                \n",
              "                    <li><details>\n",
              "        <summary class=\"pystac-summary\"><span class=\"pystac-k\">providers</span><span class=\"pystac-l\">[] 1 items</span></summary>\n",
              "        \n",
              "            <ul style=\"margin: 0px; padding: 0px 0px 0px 1.75em; list-style: none; display: block;\">\n",
              "        \n",
              "            \n",
              "                \n",
              "        <li><details>\n",
              "            <summary class=\"pystac-summary\"><span class=\"pystac-k\">0</span></summary>\n",
              "            <ul style=\"margin: 0px; padding: 0px 0px 0px 1.75em; list-style: none; display: block;\">\n",
              "        \n",
              "            \n",
              "                \n",
              "        <li class=\"pystac-row\">\n",
              "            <span class=\"pystac-k\">name</span>\n",
              "            <span class=\"pystac-v\">\"Development Seed\"</span>\n",
              "        </li>\n",
              "    \n",
              "            \n",
              "        \n",
              "            \n",
              "                <li><details>\n",
              "        <summary class=\"pystac-summary\"><span class=\"pystac-k\">roles</span><span class=\"pystac-l\">[] 1 items</span></summary>\n",
              "        \n",
              "            <ul style=\"margin: 0px; padding: 0px 0px 0px 1.75em; list-style: none; display: block;\">\n",
              "        \n",
              "            \n",
              "                \n",
              "        <li class=\"pystac-row\">\n",
              "            <span class=\"pystac-k\">0</span>\n",
              "            <span class=\"pystac-v\">\"processor\"</span>\n",
              "        </li>\n",
              "    \n",
              "            \n",
              "        \n",
              "    </ul>\n",
              "        \n",
              "    </details></li>\n",
              "            \n",
              "        \n",
              "            \n",
              "                \n",
              "        <li class=\"pystac-row\">\n",
              "            <span class=\"pystac-k\">url</span>\n",
              "            <span class=\"pystac-v\">\"https://github.com/sat-utils/sat-api\"</span>\n",
              "        </li>\n",
              "    \n",
              "            \n",
              "        \n",
              "    </ul>\n",
              "        </details></li>\n",
              "    \n",
              "            \n",
              "        \n",
              "    </ul>\n",
              "        \n",
              "    </details></li>\n",
              "                \n",
              "            \n",
              "        </ul>\n",
              "    </div>\n",
              "</div>"
            ]
          },
          "metadata": {},
          "execution_count": 16
        }
      ],
      "source": [
        "item.get_collection()"
      ]
    },
    {
      "cell_type": "markdown",
      "metadata": {
        "id": "xGsTVAEjfh3u"
      },
      "source": [
        "####  2. Common Metadata\n",
        "\n",
        "Certain fields that are commonly used in Items, but may also be found in other objects (e.g. Assets) are defined in the [Common Metadata](https://github.com/radiantearth/stac-spec/blob/v1.0.0/item-spec/common-metadata.md) section of the spec. These include licensing and instrument information, descriptions of datetime ranges, and some other common fields. These properties can be found as attributes of the `Item.common_metadata` property, which is an instance of the `CommonMetadata` class."
      ]
    },
    {
      "cell_type": "code",
      "execution_count": null,
      "metadata": {
        "id": "mRHrMUwGfh3u",
        "outputId": "6b3a478f-c7f9-48ce-a1c0-da29c3057872"
      },
      "outputs": [
        {
          "data": {
            "text/plain": [
              "['OLI_TIRS']"
            ]
          },
          "execution_count": 16,
          "metadata": {},
          "output_type": "execute_result"
        }
      ],
      "source": [
        "item.common_metadata.instruments"
      ]
    },
    {
      "cell_type": "code",
      "execution_count": null,
      "metadata": {
        "id": "NNXgBbkTfh3v",
        "outputId": "bc26cd1d-9b84-414e-b6f3-d4fae9426f32"
      },
      "outputs": [
        {
          "data": {
            "text/plain": [
              "'landsat-8'"
            ]
          },
          "execution_count": 17,
          "metadata": {},
          "output_type": "execute_result"
        }
      ],
      "source": [
        "item.common_metadata.platform"
      ]
    },
    {
      "cell_type": "code",
      "execution_count": null,
      "metadata": {
        "id": "wco4klBXfh3v",
        "outputId": "ce27da62-aede-4885-8740-86f69975ca81"
      },
      "outputs": [
        {
          "data": {
            "text/plain": [
              "30"
            ]
          },
          "execution_count": 18,
          "metadata": {},
          "output_type": "execute_result"
        }
      ],
      "source": [
        "item.common_metadata.gsd"
      ]
    },
    {
      "cell_type": "markdown",
      "metadata": {
        "id": "GH18Ashtfh3v"
      },
      "source": [
        "#### 3. STAC Extensions\n",
        "\n",
        "[STAC Extensions](https://github.com/radiantearth/stac-spec/tree/master/extensions) are a mechanism for providing additional metadata not covered by the core STAC Spec. We can see which STAC Extensions are implemented by this particular Item by examining the list of extension URIs in the `stac_extensions` field."
      ]
    },
    {
      "cell_type": "code",
      "execution_count": null,
      "metadata": {
        "id": "9C4TTAJ7fh3y",
        "outputId": "7996bede-597e-40e4-d443-06d5383b699a"
      },
      "outputs": [
        {
          "data": {
            "text/plain": [
              "['https://stac-extensions.github.io/eo/v1.1.0/schema.json',\n",
              " 'https://stac-extensions.github.io/view/v1.0.0/schema.json',\n",
              " 'https://stac-extensions.github.io/projection/v1.1.0/schema.json']"
            ]
          },
          "execution_count": 19,
          "metadata": {},
          "output_type": "execute_result"
        }
      ],
      "source": [
        "item.stac_extensions"
      ]
    },
    {
      "cell_type": "markdown",
      "metadata": {
        "id": "npEtnAQDfh3y"
      },
      "source": [
        "This Item implements the [Electro-Optical](https://github.com/stac-extensions/eo), [View Geometry](https://github.com/stac-extensions/view), and [Projection](https://github.com/stac-extensions/projection) Extensions.\n",
        "\n",
        "We can also check if a specific extension is implemented using the `has_extension` method for that extension class."
      ]
    },
    {
      "cell_type": "code",
      "execution_count": 17,
      "metadata": {
        "id": "gPd-2o5Pfh3y",
        "outputId": "018b53ef-2253-409c-d14b-ccb652770481",
        "colab": {
          "base_uri": "https://localhost:8080/"
        }
      },
      "outputs": [
        {
          "output_type": "execute_result",
          "data": {
            "text/plain": [
              "True"
            ]
          },
          "metadata": {},
          "execution_count": 17
        }
      ],
      "source": [
        "EOExtension.has_extension(item)"
      ]
    },
    {
      "cell_type": "code",
      "execution_count": 18,
      "metadata": {
        "id": "dQaWNtXkfh3y",
        "outputId": "3998eb7c-1a7d-4f18-d594-64a2f5c7657c",
        "colab": {
          "base_uri": "https://localhost:8080/"
        }
      },
      "outputs": [
        {
          "output_type": "execute_result",
          "data": {
            "text/plain": [
              "False"
            ]
          },
          "metadata": {},
          "execution_count": 18
        }
      ],
      "source": [
        "LabelExtension.has_extension(item)"
      ]
    },
    {
      "cell_type": "markdown",
      "metadata": {
        "id": "vLBe4-n7fh3z"
      },
      "source": [
        "We can access fields associated with the extension as attributes on the extension instance. For instance, the [\"eo:cloud_cover\" field](https://github.com/stac-extensions/eo#item-properties-or-asset-fields) defined in the Electro-Optical Extension can be accessed using the [EOExtension.cloud_cover](https://pystac.readthedocs.io/en/latest/api.html#pystac.extensions.eo.EOExtension.cloud_cover) attribute."
      ]
    },
    {
      "cell_type": "code",
      "execution_count": 19,
      "metadata": {
        "id": "I4q7Wuvefh3z",
        "outputId": "a03e4f1c-64f1-4897-a05e-a980a6d0b7bc",
        "colab": {
          "base_uri": "https://localhost:8080/"
        }
      },
      "outputs": [
        {
          "output_type": "execute_result",
          "data": {
            "text/plain": [
              "22"
            ]
          },
          "metadata": {},
          "execution_count": 19
        }
      ],
      "source": [
        "eo_item_ext = EOExtension.ext(item)\n",
        "eo_item_ext.cloud_cover"
      ]
    },
    {
      "cell_type": "markdown",
      "metadata": {
        "id": "GUbXMVKofh3z"
      },
      "source": [
        "We can also access the cloud cover field directly in the Item properties."
      ]
    },
    {
      "cell_type": "code",
      "source": [
        "item.properties"
      ],
      "metadata": {
        "id": "lSjE87uzgLhJ",
        "outputId": "0cfcb439-00cd-4b3f-94a2-a218259b960b",
        "colab": {
          "base_uri": "https://localhost:8080/"
        }
      },
      "execution_count": 23,
      "outputs": [
        {
          "output_type": "execute_result",
          "data": {
            "text/plain": [
              "{'collection': 'landsat-8-l1',\n",
              " 'datetime': '2018-06-15T15:39:09Z',\n",
              " 'view:sun_azimuth': 125.59055137,\n",
              " 'view:sun_elevation': 66.54485226,\n",
              " 'eo:cloud_cover': 22,\n",
              " 'instruments': ['OLI_TIRS'],\n",
              " 'view:off_nadir': 0,\n",
              " 'platform': 'landsat-8',\n",
              " 'gsd': 30,\n",
              " 'proj:transform': [357585.0, 30.0, 0.0, 4423815.0, 0.0, -30.0],\n",
              " 'proj:geometry': {'type': 'Polygon',\n",
              "  'coordinates': [[[357585.0, 4187685.0],\n",
              "    [357585.0, 4423815.0],\n",
              "    [589815.0, 4423815.0],\n",
              "    [589815.0, 4187685.0],\n",
              "    [357585.0, 4187685.0]]]},\n",
              " 'proj:shape': [7741, 7871],\n",
              " 'proj:code': 'EPSG:32618'}"
            ]
          },
          "metadata": {},
          "execution_count": 23
        }
      ]
    },
    {
      "cell_type": "code",
      "execution_count": 20,
      "metadata": {
        "id": "OHVMdsIEfh3z",
        "outputId": "25202102-9f79-41b9-a030-302e1a54ad2e",
        "colab": {
          "base_uri": "https://localhost:8080/"
        }
      },
      "outputs": [
        {
          "output_type": "execute_result",
          "data": {
            "text/plain": [
              "22"
            ]
          },
          "metadata": {},
          "execution_count": 20
        }
      ],
      "source": [
        "# @title Testo del titolo predefinito\n",
        "item.properties['eo:cloud_cover']"
      ]
    },
    {
      "cell_type": "markdown",
      "metadata": {
        "id": "vdYNPScsfh3z"
      },
      "source": [
        "## Access STAC Item's Assets"
      ]
    },
    {
      "cell_type": "markdown",
      "metadata": {
        "id": "_Zwlt9e1fh3z"
      },
      "source": [
        "To access the item's assets, we can use the `assets` attribute, which is a dictionary:"
      ]
    },
    {
      "cell_type": "code",
      "execution_count": null,
      "metadata": {
        "id": "IhzI3Nclfh3z",
        "outputId": "8aff9aba-b922-4dad-8ad9-da7ebd9ea766"
      },
      "outputs": [
        {
          "name": "stdout",
          "output_type": "stream",
          "text": [
            "index: https://s3-us-west-2.amazonaws.com/landsat-pds/c1/L8/014/033/LC08_L1TP_014033_20180615_20180703_01_T1/index.html (text/html)\n",
            "thumbnail: https://s3-us-west-2.amazonaws.com/landsat-pds/c1/L8/014/033/LC08_L1TP_014033_20180615_20180703_01_T1/LC08_L1TP_014033_20180615_20180703_01_T1_thumb_large.jpg (image/jpeg)\n",
            "B1: https://s3-us-west-2.amazonaws.com/landsat-pds/c1/L8/014/033/LC08_L1TP_014033_20180615_20180703_01_T1/LC08_L1TP_014033_20180615_20180703_01_T1_B1.TIF (image/tiff)\n",
            "B2: https://s3-us-west-2.amazonaws.com/landsat-pds/c1/L8/014/033/LC08_L1TP_014033_20180615_20180703_01_T1/LC08_L1TP_014033_20180615_20180703_01_T1_B2.TIF (image/tiff)\n",
            "B3: https://s3-us-west-2.amazonaws.com/landsat-pds/c1/L8/014/033/LC08_L1TP_014033_20180615_20180703_01_T1/LC08_L1TP_014033_20180615_20180703_01_T1_B3.TIF (image/tiff)\n",
            "B4: https://s3-us-west-2.amazonaws.com/landsat-pds/c1/L8/014/033/LC08_L1TP_014033_20180615_20180703_01_T1/LC08_L1TP_014033_20180615_20180703_01_T1_B4.TIF (image/tiff)\n",
            "B5: https://s3-us-west-2.amazonaws.com/landsat-pds/c1/L8/014/033/LC08_L1TP_014033_20180615_20180703_01_T1/LC08_L1TP_014033_20180615_20180703_01_T1_B5.TIF (image/tiff)\n",
            "B6: https://s3-us-west-2.amazonaws.com/landsat-pds/c1/L8/014/033/LC08_L1TP_014033_20180615_20180703_01_T1/LC08_L1TP_014033_20180615_20180703_01_T1_B6.TIF (image/tiff)\n",
            "B7: https://s3-us-west-2.amazonaws.com/landsat-pds/c1/L8/014/033/LC08_L1TP_014033_20180615_20180703_01_T1/LC08_L1TP_014033_20180615_20180703_01_T1_B7.TIF (image/tiff)\n",
            "B8: https://s3-us-west-2.amazonaws.com/landsat-pds/c1/L8/014/033/LC08_L1TP_014033_20180615_20180703_01_T1/LC08_L1TP_014033_20180615_20180703_01_T1_B8.TIF (image/tiff)\n",
            "B9: https://s3-us-west-2.amazonaws.com/landsat-pds/c1/L8/014/033/LC08_L1TP_014033_20180615_20180703_01_T1/LC08_L1TP_014033_20180615_20180703_01_T1_B9.TIF (image/tiff)\n",
            "B10: https://s3-us-west-2.amazonaws.com/landsat-pds/c1/L8/014/033/LC08_L1TP_014033_20180615_20180703_01_T1/LC08_L1TP_014033_20180615_20180703_01_T1_B10.TIF (image/tiff)\n",
            "B11: https://s3-us-west-2.amazonaws.com/landsat-pds/c1/L8/014/033/LC08_L1TP_014033_20180615_20180703_01_T1/LC08_L1TP_014033_20180615_20180703_01_T1_B11.TIF (image/tiff)\n",
            "ANG: https://s3-us-west-2.amazonaws.com/landsat-pds/c1/L8/014/033/LC08_L1TP_014033_20180615_20180703_01_T1/LC08_L1TP_014033_20180615_20180703_01_T1_ANG.txt (text/plain)\n",
            "MTL: https://s3-us-west-2.amazonaws.com/landsat-pds/c1/L8/014/033/LC08_L1TP_014033_20180615_20180703_01_T1/LC08_L1TP_014033_20180615_20180703_01_T1_MTL.txt (text/plain)\n",
            "BQA: https://s3-us-west-2.amazonaws.com/landsat-pds/c1/L8/014/033/LC08_L1TP_014033_20180615_20180703_01_T1/LC08_L1TP_014033_20180615_20180703_01_T1_BQA.TIF (image/tiff)\n"
          ]
        }
      ],
      "source": [
        "for asset_key in item.assets:\n",
        "    asset = item.assets[asset_key]\n",
        "    print('{}: {} ({})'.format(asset_key, asset.href, asset.media_type))"
      ]
    },
    {
      "cell_type": "markdown",
      "metadata": {
        "id": "ANbl1O_7fh3z"
      },
      "source": [
        "We can use the `to_dict()` method to convert an asset, or any PySTAC object, into a dictionary:"
      ]
    },
    {
      "cell_type": "code",
      "execution_count": null,
      "metadata": {
        "id": "sbCk3vhWfh3z",
        "outputId": "bb6229a9-875d-4538-ba78-ecebef09fb3b"
      },
      "outputs": [
        {
          "data": {
            "text/plain": [
              "{'href': 'https://s3-us-west-2.amazonaws.com/landsat-pds/c1/L8/014/033/LC08_L1TP_014033_20180615_20180703_01_T1/LC08_L1TP_014033_20180615_20180703_01_T1_B3.TIF',\n",
              " 'type': 'image/tiff',\n",
              " 'title': 'Band 3 (green)',\n",
              " 'eo:bands': [{'name': 'B3',\n",
              "   'full_width_half_max': 0.06,\n",
              "   'center_wavelength': 0.56,\n",
              "   'common_name': 'green'}],\n",
              " 'roles': []}"
            ]
          },
          "execution_count": 25,
          "metadata": {},
          "output_type": "execute_result"
        }
      ],
      "source": [
        "asset = item.assets['B3']\n",
        "asset.to_dict()"
      ]
    },
    {
      "cell_type": "markdown",
      "metadata": {
        "id": "kkmgE1JYfh3z"
      },
      "source": [
        "Here, we use the `eo Extension` to get the band information for the asset:"
      ]
    },
    {
      "cell_type": "code",
      "execution_count": null,
      "metadata": {
        "id": "OpnQ3IdLfh3z",
        "outputId": "00d5b402-00cf-4d45-c837-adc72346fb5e"
      },
      "outputs": [
        {
          "data": {
            "text/plain": [
              "[<Band name=B3>]"
            ]
          },
          "execution_count": 26,
          "metadata": {},
          "output_type": "execute_result"
        }
      ],
      "source": [
        "eo_asset_ext = EOExtension.ext(asset)\n",
        "bands = eo_asset_ext.bands\n",
        "bands"
      ]
    },
    {
      "cell_type": "code",
      "execution_count": null,
      "metadata": {
        "id": "wrbqTNYJfh30",
        "outputId": "2095b183-ddf9-4d4b-9c9c-cf5d866a5c78"
      },
      "outputs": [
        {
          "data": {
            "text/plain": [
              "{'name': 'B3',\n",
              " 'full_width_half_max': 0.06,\n",
              " 'center_wavelength': 0.56,\n",
              " 'common_name': 'green'}"
            ]
          },
          "execution_count": 27,
          "metadata": {},
          "output_type": "execute_result"
        }
      ],
      "source": [
        "bands[0].to_dict()"
      ]
    },
    {
      "cell_type": "markdown",
      "metadata": {
        "id": "iBwrV9IJfh30"
      },
      "source": [
        "You have now successfully explored the common components of an existing STAC Catalog. To learn how to write your own STAC Catalog, see the [following tutorial](/en/tutorials/2-create-stac-catalog-python/index.html)."
      ]
    },
    {
      "cell_type": "markdown",
      "metadata": {
        "id": "Z9MoLxv9fh30"
      },
      "source": [
        "#### Join the conversation\n",
        "If you have any questions, you’re welcome to ask our community on [CNG Discourse](https://cng.discourse.group/c/stac/15)."
      ]
    }
  ],
  "metadata": {
    "kernelspec": {
      "display_name": "Python 3 (ipykernel)",
      "language": "python",
      "name": "python3"
    },
    "language_info": {
      "codemirror_mode": {
        "name": "ipython",
        "version": 3
      },
      "file_extension": ".py",
      "mimetype": "text/x-python",
      "name": "python",
      "nbconvert_exporter": "python",
      "pygments_lexer": "ipython3",
      "version": "3.11.0"
    },
    "vscode": {
      "interpreter": {
        "hash": "b0fa6594d8f4cbf19f97940f81e996739fb7646882a419484c72d19e05852a7e"
      }
    },
    "colab": {
      "provenance": []
    }
  },
  "nbformat": 4,
  "nbformat_minor": 0
}