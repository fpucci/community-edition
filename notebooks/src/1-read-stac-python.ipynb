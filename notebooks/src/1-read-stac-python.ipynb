{
  "cells": [
    {
      "cell_type": "markdown",
      "metadata": {
        "id": "AOUvBi5hBP5G"
      },
      "source": [
        "# Read a STAC Catalog Using PySTAC"
      ]
    },
    {
      "cell_type": "markdown",
      "metadata": {
        "id": "zVtu3e6CBP5I"
      },
      "source": [
        "In this tutorial, you will gain an understanding of how to explore a STAC Catalog using [PySTAC](https://pystac.readthedocs.io/en/stable/index.html). You will be able to use these skills to explore any of the [many existing STAC Catalogs](https://stacindex.org/catalogs).\n",
        "\n",
        "This tutorial as well as the following 3 tutorials were adapted from the [PySTAC site tutorials](https://pystac.readthedocs.io/en/stable/index.html).\n",
        "\n",
        "Throughout this tutorial, a variety of PySTAC classes, methods, and instances are used to read the STAC Catalog. We encourage you to look at the [PySTAC API Reference](https://pystac.readthedocs.io/en/latest/api.html) while going through this tutorial."
      ]
    },
    {
      "cell_type": "markdown",
      "metadata": {
        "id": "Ckp5TYUvBP5I"
      },
      "source": [
        "## Dependencies\n",
        "If you need to install pystac, uncomment the line below and run this cell."
      ]
    },
    {
      "cell_type": "code",
      "execution_count": null,
      "metadata": {
        "id": "u4H-jRj7BP5J"
      },
      "outputs": [],
      "source": [
        "# ! pip install pystac"
      ]
    },
    {
      "cell_type": "markdown",
      "metadata": {
        "id": "pa6_U3LBBP5J"
      },
      "source": [
        "## STAC Catalogs\n",
        "[A STAC Catalog](https://github.com/radiantearth/stac-spec/tree/master/catalog-spec) is used to group other STAC objects like items, collections, and/or even other catalogs.\n",
        "\n",
        "We will be using a small example catalog adapted from the [example Landsat Collection](https://github.com/geotrellis/geotrellis-server/tree/977bad7a64c409341479c281c8c72222008861fd/stac-example/catalog/landsat-stac-collection) in the [GeoTrellis](https://geotrellis.io) repository. All STAC Items and Collections can be found in the [docs/example-catalog](https://github.com/stac-utils/pystac/tree/main/docs/example-catalog) directory of the PySTAC documentation repository; all assets are hosted in the Landsat S3 bucket."
      ]
    },
    {
      "cell_type": "markdown",
      "metadata": {
        "id": "glHO_7crBP5K"
      },
      "source": [
        "#### Import Packages and Store Data\n",
        "To begin, import the packages and PySTAC classes that you need to access data and work with STAC Catalogs in Python."
      ]
    },
    {
      "cell_type": "code",
      "execution_count": null,
      "metadata": {
        "id": "2hXFYstNBP5K"
      },
      "outputs": [],
      "source": [
        "import json\n",
        "\n",
        "from pystac import Catalog, get_stac_version\n",
        "from pystac.extensions.eo import EOExtension\n",
        "from pystac.extensions.label import LabelExtension"
      ]
    },
    {
      "cell_type": "code",
      "execution_count": null,
      "metadata": {
        "id": "PPXKyCAPBP5K"
      },
      "outputs": [],
      "source": [
        "# Read the example catalog\n",
        "root_catalog = Catalog.from_file('https://raw.githubusercontent.com/stac-utils/pystac/main/docs/example-catalog/catalog.json')"
      ]
    },
    {
      "cell_type": "markdown",
      "metadata": {
        "id": "dgB3ak1EBP5K"
      },
      "source": [
        "## Explore the High-Level Catalog Information"
      ]
    },
    {
      "cell_type": "markdown",
      "metadata": {
        "id": "1pH68WcPBP5L"
      },
      "source": [
        "To give us an idea of how the catalog we are working with is organized, let's take a look at all elements of the STAC using the `describe` method."
      ]
    },
    {
      "cell_type": "markdown",
      "metadata": {
        "id": "eWr2wDELBP5L"
      },
      "source": [
        "<div style=\"background-color:rgba(181, 216, 229, 0.8); text-align:center; vertical-align: top; padding:10px; ml:5px; 0;\">\n",
        "NOTE: Be careful using the `describe` method on large catalogs, as it will walk and print the entire tree of the STAC.\n",
        "</div>"
      ]
    },
    {
      "cell_type": "code",
      "execution_count": null,
      "metadata": {
        "id": "-GReozWwBP5L",
        "outputId": "8253bf1e-96bb-4154-db51-d7e2a480bc89"
      },
      "outputs": [
        {
          "name": "stdout",
          "output_type": "stream",
          "text": [
            "* <Catalog id=landsat-stac-collection-catalog>\n",
            "    * <Collection id=landsat-8-l1>\n",
            "      * <Item id=LC80140332018166LGN00>\n",
            "      * <Item id=LC80150322018141LGN00>\n",
            "      * <Item id=LC80150332018189LGN00>\n",
            "      * <Item id=LC80300332018166LGN00>\n"
          ]
        }
      ],
      "source": [
        "root_catalog.describe()"
      ]
    },
    {
      "cell_type": "markdown",
      "metadata": {
        "id": "ZA9QE1GaBP5L"
      },
      "source": [
        "From this output, we can see that the catalog has 1 collection and that this collection has 4 items.\n",
        "\n",
        "Now, let's look at the root catalog more in depth."
      ]
    },
    {
      "cell_type": "code",
      "execution_count": null,
      "metadata": {
        "id": "z_Z-qWnFBP5L",
        "outputId": "1be00454-9fa0-47dd-dbfb-30423a3d31b5"
      },
      "outputs": [
        {
          "name": "stdout",
          "output_type": "stream",
          "text": [
            "ID: landsat-stac-collection-catalog\n",
            "Title: STAC for Landsat data\n",
            "Description: STAC for Landsat data\n"
          ]
        }
      ],
      "source": [
        "# Print some basic metadata from the Catalog\n",
        "print(f\"ID: {root_catalog.id}\")\n",
        "print(f\"Title: {root_catalog.title or 'N/A'}\")\n",
        "print(f\"Description: {root_catalog.description or 'N/A'}\")"
      ]
    },
    {
      "cell_type": "markdown",
      "metadata": {
        "id": "oY4B2ZoVBP5M"
      },
      "source": [
        "<div style=\"background-color:rgba(181, 216, 229, 0.8); text-align:center; vertical-align: top; padding:10px; ml:5px; 0;\">\n",
        "Note: we do not print the \"stac_version\" here. PySTAC automatically updates any catalogs to the most recent supported STAC version and will automatically write this to the JSON object during serialization.\n",
        "</div>  \n",
        "\n",
        "\n",
        "Let's confirm the latest STAC Specification version supported by PySTAC."
      ]
    },
    {
      "cell_type": "code",
      "execution_count": null,
      "metadata": {
        "id": "xlVwyDp9BP5M",
        "outputId": "6164b2d4-f61f-48aa-eb74-c29437f4712d"
      },
      "outputs": [
        {
          "name": "stdout",
          "output_type": "stream",
          "text": [
            "1.0.0\n"
          ]
        }
      ],
      "source": [
        "print(get_stac_version())"
      ]
    },
    {
      "cell_type": "markdown",
      "metadata": {
        "id": "H6fMyDmjBP5M"
      },
      "source": [
        "With this information, we have an understanding of the layout and general information about the STAC Catalog at hand. Now, let's dive deeper into this catalog."
      ]
    },
    {
      "cell_type": "markdown",
      "metadata": {
        "id": "eZrvnySSBP5M"
      },
      "source": [
        "## Crawl STAC Child Catalogs and/or Collections\n",
        "\n",
        "[STAC Collections](https://github.com/radiantearth/stac-spec/tree/master/collection-spec) are used to group related items and provide aggregate or summary metadata for those items.\n",
        "\n",
        "STAC Catalogs may have many nested layers of catalogs or collections within the top-level collection. Our example catalog only has one collection within the main catalog at [landsat-8-l1/collection.json](/public/example-catalog/landsat-8-l1/collection.json). We can list the collections in a given catalog using the `Catalog.get_collections` method. This method returns an iterable of PySTAC [Collection](https://pystac.readthedocs.io/en/latest/api.html#collection) instances, which we will turn into a `list`."
      ]
    },
    {
      "cell_type": "code",
      "execution_count": null,
      "metadata": {
        "id": "weIZjUDlBP5M",
        "outputId": "5a704620-f7ef-461f-bcd2-aff991d8d50b"
      },
      "outputs": [
        {
          "name": "stdout",
          "output_type": "stream",
          "text": [
            "Number of collections: 1\n",
            "Collections IDs:\n",
            "- landsat-8-l1\n"
          ]
        }
      ],
      "source": [
        "collections = list(root_catalog.get_collections())\n",
        "\n",
        "print(f\"Number of collections: {len(collections)}\")\n",
        "print(\"Collections IDs:\")\n",
        "for collection in collections:\n",
        "    print(f\"- {collection.id}\")"
      ]
    },
    {
      "cell_type": "markdown",
      "metadata": {
        "id": "2iU0shyLBP5M"
      },
      "source": [
        "Let's grab that collection as a PySTAC [Collection](https://pystac.readthedocs.io/en/latest/api/collection.html#pystac-collection) instance using the `Catalog.get_child` method so we can look at it in more detail. This method gets a child catalog or collection by ID, so we'll use the collection ID that we printed above. Since this method returns `None` if no child exists with the given ID, let's check to make sure we actually got the `Collection`."
      ]
    },
    {
      "cell_type": "code",
      "execution_count": null,
      "metadata": {
        "id": "Ii18kYQNBP5M",
        "outputId": "df5db9e2-676a-401a-82dd-11dad6f4efd2"
      },
      "outputs": [
        {
          "name": "stdout",
          "output_type": "stream",
          "text": [
            "Collection has a root child. You may proceed to the following steps.\n"
          ]
        }
      ],
      "source": [
        "collection = root_catalog.get_child(\"landsat-8-l1\")\n",
        "if collection is None:\n",
        "    print(\"Collection is Empty. Check your downloads and try again.\")\n",
        "else:\n",
        "    print(\"Collection has a root child. You may proceed to the following steps.\")"
      ]
    },
    {
      "cell_type": "markdown",
      "metadata": {
        "id": "IhFTyJfFBP5M"
      },
      "source": [
        "## Crawl the STAC Items\n",
        "\n",
        "[STAC Items](https://github.com/radiantearth/stac-spec/tree/master/item-spec) are the fundamental building blocks of a STAC Catalog. Each Item represents a single spatiotemporal resource (e.g. a satellite scene).\n",
        "\n",
        "Both catalogs and collections may have items associated with them. Let's crawl our catalog, starting at the root, to see what Items we have. The `Catalog.get_all_items` method provides a convenient way of recursively listing all Items associated with a catalog and all of its sub-catalogs."
      ]
    },
    {
      "cell_type": "code",
      "execution_count": null,
      "metadata": {
        "id": "0KlmhgUzBP5M",
        "outputId": "9e65ea75-23fc-4e94-eba5-6fd476832a89"
      },
      "outputs": [
        {
          "name": "stdout",
          "output_type": "stream",
          "text": [
            "Number of items: 4\n",
            "- LC80140332018166LGN00\n",
            "- LC80150322018141LGN00\n",
            "- LC80150332018189LGN00\n",
            "- LC80300332018166LGN00\n"
          ]
        }
      ],
      "source": [
        "items = list(root_catalog.get_all_items())\n",
        "\n",
        "print(f\"Number of items: {len(items)}\")\n",
        "for item in items:\n",
        "    print(f\"- {item.id}\")"
      ]
    },
    {
      "cell_type": "markdown",
      "metadata": {
        "id": "et-y6WN-BP5N"
      },
      "source": [
        "These IDs are not very descriptive; in the next section, we will see how we can access the rich metadata associated with each item."
      ]
    },
    {
      "cell_type": "markdown",
      "metadata": {
        "id": "t2-oaeXWBP5N"
      },
      "source": [
        "## Explore STAC Item Metadata"
      ]
    },
    {
      "cell_type": "markdown",
      "metadata": {
        "id": "Ot1EBFgeBP5N"
      },
      "source": [
        "### Item Metadata\n",
        "\n",
        "Items can have *a lot* of metadata. This can be a bit overwhelming at first, but let's break the metadata fields down into a few categories:\n",
        "\n",
        "1. Core Item Metadata\n",
        "2. Common Metadata\n",
        "3. STAC Extensions\n",
        "\n",
        "We will walk through each of these metadata categories in the following sections.\n",
        "\n",
        "First, let's grab one of the Items using the `Catalog.get_item` method. We will use `recursive=True` to recursively crawl all child catalogs and/or collections to find the item."
      ]
    },
    {
      "cell_type": "code",
      "execution_count": null,
      "metadata": {
        "id": "cmauzbsvBP5N"
      },
      "outputs": [],
      "source": [
        "item = root_catalog.get_item(\"LC80140332018166LGN00\", recursive=True)"
      ]
    },
    {
      "cell_type": "markdown",
      "metadata": {
        "id": "r0qhpD19BP5N"
      },
      "source": [
        "#### 1. Core Item Metadata\n",
        "\n",
        "The core item metadata fields include spatiotemporal information and the ID of the collection to which the item belongs. These fields are all at the top level of the item JSON and we can access them through attributes on the [PySTAC Item](https://pystac.readthedocs.io/en/latest/api/collection.html#pystac-collection) instance."
      ]
    },
    {
      "cell_type": "code",
      "execution_count": null,
      "metadata": {
        "id": "YiDe05dGBP5N",
        "outputId": "71d36677-1409-4b6b-9d21-e0262590f33c"
      },
      "outputs": [
        {
          "data": {
            "text/plain": [
              "{'type': 'Polygon',\n",
              " 'coordinates': [[[-76.12180471942207, 39.95810181489563],\n",
              "   [-73.94910518227414, 39.55117185146004],\n",
              "   [-74.49564725552679, 37.826064511480496],\n",
              "   [-76.66550404911956, 38.240699151776084],\n",
              "   [-76.12180471942207, 39.95810181489563]]]}"
            ]
          },
          "execution_count": 11,
          "metadata": {},
          "output_type": "execute_result"
        }
      ],
      "source": [
        "item.geometry"
      ]
    },
    {
      "cell_type": "code",
      "execution_count": null,
      "metadata": {
        "id": "9h66R2cSBP5N",
        "outputId": "6a57b992-a88a-46b2-c48e-edb0bd53abcb"
      },
      "outputs": [
        {
          "data": {
            "text/plain": [
              "[-76.66703, 37.82561, -73.94861, 39.95958]"
            ]
          },
          "execution_count": 12,
          "metadata": {},
          "output_type": "execute_result"
        }
      ],
      "source": [
        "item.bbox"
      ]
    },
    {
      "cell_type": "code",
      "execution_count": null,
      "metadata": {
        "id": "iHbia78VBP5N",
        "outputId": "20d0ff7f-0a21-461f-81b7-7f5b64ec5137"
      },
      "outputs": [
        {
          "data": {
            "text/plain": [
              "datetime.datetime(2018, 6, 15, 15, 39, 9, tzinfo=tzutc())"
            ]
          },
          "execution_count": 13,
          "metadata": {},
          "output_type": "execute_result"
        }
      ],
      "source": [
        "item.datetime"
      ]
    },
    {
      "cell_type": "code",
      "execution_count": null,
      "metadata": {
        "id": "Si2UcOzhBP5N",
        "outputId": "e06d8cae-5e25-49e2-f99a-760bf7244e07"
      },
      "outputs": [
        {
          "data": {
            "text/plain": [
              "'landsat-8-l1'"
            ]
          },
          "execution_count": 14,
          "metadata": {},
          "output_type": "execute_result"
        }
      ],
      "source": [
        "item.collection_id"
      ]
    },
    {
      "cell_type": "markdown",
      "metadata": {
        "id": "ksMo7RVhBP5O"
      },
      "source": [
        "We can also access the same information as the cell above by running the `Item.get_collection` method."
      ]
    },
    {
      "cell_type": "code",
      "execution_count": null,
      "metadata": {
        "id": "RyakaK_nBP5O",
        "outputId": "50d39cf6-7e19-4ac1-b52b-75c32ad39f79"
      },
      "outputs": [
        {
          "data": {
            "text/html": [
              "\n",
              "\n",
              "<style>\n",
              ".pystac-summary {\n",
              "    cursor: pointer;\n",
              "    display:list-item;\n",
              "}\n",
              ".pystac-key {\n",
              "    color: rgb(0, 128, 0);\n",
              "    font-weight: 700;\n",
              "}\n",
              ".pystac-key-value {\n",
              "    display: inline-block;\n",
              "    margin: 0px 0.5em 0px 0px;\n",
              "}\n",
              "</style>\n",
              "<div class=\"jp-RenderedJSON jp-mod-trusted jp-OutputArea-output\">\n",
              "    <div class=\"container\" style=\"line-height: normal;\">\n",
              "        <ul style=\"padding: 0px; margin: 0px; list-style: none; display: block;\">\n",
              "            \n",
              "                \n",
              "                    \n",
              "        <li style=\"overflow-wrap: break-word; padding-left: 2.125em; text-indent: -0.5em;\">\n",
              "            <span class=\"pystac-key pystac-key-value\">type</span>\n",
              "            <span style=\"color: rgb(186, 33, 33);\">\"Collection\"</span>\n",
              "        </li>\n",
              "    \n",
              "                \n",
              "            \n",
              "                \n",
              "                    \n",
              "        <li style=\"overflow-wrap: break-word; padding-left: 2.125em; text-indent: -0.5em;\">\n",
              "            <span class=\"pystac-key pystac-key-value\">id</span>\n",
              "            <span style=\"color: rgb(186, 33, 33);\">\"landsat-8-l1\"</span>\n",
              "        </li>\n",
              "    \n",
              "                \n",
              "            \n",
              "                \n",
              "                    \n",
              "        <li style=\"overflow-wrap: break-word; padding-left: 2.125em; text-indent: -0.5em;\">\n",
              "            <span class=\"pystac-key pystac-key-value\">stac_version</span>\n",
              "            <span style=\"color: rgb(186, 33, 33);\">\"1.0.0\"</span>\n",
              "        </li>\n",
              "    \n",
              "                \n",
              "            \n",
              "                \n",
              "                    \n",
              "        <li style=\"overflow-wrap: break-word; padding-left: 2.125em; text-indent: -0.5em;\">\n",
              "            <span class=\"pystac-key pystac-key-value\">description</span>\n",
              "            <span style=\"color: rgb(186, 33, 33);\">\"Landsat 8 imagery radiometrically calibrated and orthorectified using ground points and Digital Elevation Model (DEM) data to correct relief displacement.\"</span>\n",
              "        </li>\n",
              "    \n",
              "                \n",
              "            \n",
              "                \n",
              "                    <li><details>\n",
              "        <summary class=\"pystac-summary\">\n",
              "            <span class=\"pystac-key\">links</span>\n",
              "            <span style=\"padding-left: 0.5em; color: rgb(64, 128, 128); font-style: italic;\">[] 7 items</span>\n",
              "        </summary>\n",
              "        \n",
              "            <ul style=\"margin: 0px; padding: 0px 0px 0px 1.75em; list-style: none; display: block;\">\n",
              "        \n",
              "            \n",
              "                \n",
              "        <li><details>\n",
              "            <summary class=\"pystac-summary\"><span class=\"pystac-key\">0</span></summary>\n",
              "            <ul style=\"margin: 0px; padding: 0px 0px 0px 1.75em; list-style: none; display: block;\">\n",
              "        \n",
              "            \n",
              "                \n",
              "        <li style=\"overflow-wrap: break-word; padding-left: 2.125em; text-indent: -0.5em;\">\n",
              "            <span class=\"pystac-key pystac-key-value\">rel</span>\n",
              "            <span style=\"color: rgb(186, 33, 33);\">\"root\"</span>\n",
              "        </li>\n",
              "    \n",
              "            \n",
              "        \n",
              "            \n",
              "                \n",
              "        <li style=\"overflow-wrap: break-word; padding-left: 2.125em; text-indent: -0.5em;\">\n",
              "            <span class=\"pystac-key pystac-key-value\">href</span>\n",
              "            <span style=\"color: rgb(186, 33, 33);\">\"https://raw.githubusercontent.com/stac-utils/pystac/main/docs/example-catalog/catalog.json\"</span>\n",
              "        </li>\n",
              "    \n",
              "            \n",
              "        \n",
              "            \n",
              "                \n",
              "        <li style=\"overflow-wrap: break-word; padding-left: 2.125em; text-indent: -0.5em;\">\n",
              "            <span class=\"pystac-key pystac-key-value\">type</span>\n",
              "            <span style=\"color: rgb(186, 33, 33);\">\"application/json\"</span>\n",
              "        </li>\n",
              "    \n",
              "            \n",
              "        \n",
              "            \n",
              "                \n",
              "        <li style=\"overflow-wrap: break-word; padding-left: 2.125em; text-indent: -0.5em;\">\n",
              "            <span class=\"pystac-key pystac-key-value\">title</span>\n",
              "            <span style=\"color: rgb(186, 33, 33);\">\"STAC for Landsat data\"</span>\n",
              "        </li>\n",
              "    \n",
              "            \n",
              "        \n",
              "    </ul>\n",
              "        </details></li>\n",
              "    \n",
              "            \n",
              "        \n",
              "    </ul>\n",
              "        \n",
              "            <ul style=\"margin: 0px; padding: 0px 0px 0px 1.75em; list-style: none; display: block;\">\n",
              "        \n",
              "            \n",
              "                \n",
              "        <li><details>\n",
              "            <summary class=\"pystac-summary\"><span class=\"pystac-key\">1</span></summary>\n",
              "            <ul style=\"margin: 0px; padding: 0px 0px 0px 1.75em; list-style: none; display: block;\">\n",
              "        \n",
              "            \n",
              "                \n",
              "        <li style=\"overflow-wrap: break-word; padding-left: 2.125em; text-indent: -0.5em;\">\n",
              "            <span class=\"pystac-key pystac-key-value\">rel</span>\n",
              "            <span style=\"color: rgb(186, 33, 33);\">\"item\"</span>\n",
              "        </li>\n",
              "    \n",
              "            \n",
              "        \n",
              "            \n",
              "                \n",
              "        <li style=\"overflow-wrap: break-word; padding-left: 2.125em; text-indent: -0.5em;\">\n",
              "            <span class=\"pystac-key pystac-key-value\">href</span>\n",
              "            <span style=\"color: rgb(186, 33, 33);\">\"https://raw.githubusercontent.com/stac-utils/pystac/main/docs/example-catalog/landsat-8-l1/2018-06/LC80140332018166LGN00.json\"</span>\n",
              "        </li>\n",
              "    \n",
              "            \n",
              "        \n",
              "    </ul>\n",
              "        </details></li>\n",
              "    \n",
              "            \n",
              "        \n",
              "    </ul>\n",
              "        \n",
              "            <ul style=\"margin: 0px; padding: 0px 0px 0px 1.75em; list-style: none; display: block;\">\n",
              "        \n",
              "            \n",
              "                \n",
              "        <li><details>\n",
              "            <summary class=\"pystac-summary\"><span class=\"pystac-key\">2</span></summary>\n",
              "            <ul style=\"margin: 0px; padding: 0px 0px 0px 1.75em; list-style: none; display: block;\">\n",
              "        \n",
              "            \n",
              "                \n",
              "        <li style=\"overflow-wrap: break-word; padding-left: 2.125em; text-indent: -0.5em;\">\n",
              "            <span class=\"pystac-key pystac-key-value\">rel</span>\n",
              "            <span style=\"color: rgb(186, 33, 33);\">\"item\"</span>\n",
              "        </li>\n",
              "    \n",
              "            \n",
              "        \n",
              "            \n",
              "                \n",
              "        <li style=\"overflow-wrap: break-word; padding-left: 2.125em; text-indent: -0.5em;\">\n",
              "            <span class=\"pystac-key pystac-key-value\">href</span>\n",
              "            <span style=\"color: rgb(186, 33, 33);\">\"https://raw.githubusercontent.com/stac-utils/pystac/main/docs/example-catalog/landsat-8-l1/2018-05/LC80150322018141LGN00.json\"</span>\n",
              "        </li>\n",
              "    \n",
              "            \n",
              "        \n",
              "    </ul>\n",
              "        </details></li>\n",
              "    \n",
              "            \n",
              "        \n",
              "    </ul>\n",
              "        \n",
              "            <ul style=\"margin: 0px; padding: 0px 0px 0px 1.75em; list-style: none; display: block;\">\n",
              "        \n",
              "            \n",
              "                \n",
              "        <li><details>\n",
              "            <summary class=\"pystac-summary\"><span class=\"pystac-key\">3</span></summary>\n",
              "            <ul style=\"margin: 0px; padding: 0px 0px 0px 1.75em; list-style: none; display: block;\">\n",
              "        \n",
              "            \n",
              "                \n",
              "        <li style=\"overflow-wrap: break-word; padding-left: 2.125em; text-indent: -0.5em;\">\n",
              "            <span class=\"pystac-key pystac-key-value\">rel</span>\n",
              "            <span style=\"color: rgb(186, 33, 33);\">\"item\"</span>\n",
              "        </li>\n",
              "    \n",
              "            \n",
              "        \n",
              "            \n",
              "                \n",
              "        <li style=\"overflow-wrap: break-word; padding-left: 2.125em; text-indent: -0.5em;\">\n",
              "            <span class=\"pystac-key pystac-key-value\">href</span>\n",
              "            <span style=\"color: rgb(186, 33, 33);\">\"https://raw.githubusercontent.com/stac-utils/pystac/main/docs/example-catalog/landsat-8-l1/2018-07/LC80150332018189LGN00.json\"</span>\n",
              "        </li>\n",
              "    \n",
              "            \n",
              "        \n",
              "    </ul>\n",
              "        </details></li>\n",
              "    \n",
              "            \n",
              "        \n",
              "    </ul>\n",
              "        \n",
              "            <ul style=\"margin: 0px; padding: 0px 0px 0px 1.75em; list-style: none; display: block;\">\n",
              "        \n",
              "            \n",
              "                \n",
              "        <li><details>\n",
              "            <summary class=\"pystac-summary\"><span class=\"pystac-key\">4</span></summary>\n",
              "            <ul style=\"margin: 0px; padding: 0px 0px 0px 1.75em; list-style: none; display: block;\">\n",
              "        \n",
              "            \n",
              "                \n",
              "        <li style=\"overflow-wrap: break-word; padding-left: 2.125em; text-indent: -0.5em;\">\n",
              "            <span class=\"pystac-key pystac-key-value\">rel</span>\n",
              "            <span style=\"color: rgb(186, 33, 33);\">\"item\"</span>\n",
              "        </li>\n",
              "    \n",
              "            \n",
              "        \n",
              "            \n",
              "                \n",
              "        <li style=\"overflow-wrap: break-word; padding-left: 2.125em; text-indent: -0.5em;\">\n",
              "            <span class=\"pystac-key pystac-key-value\">href</span>\n",
              "            <span style=\"color: rgb(186, 33, 33);\">\"https://raw.githubusercontent.com/stac-utils/pystac/main/docs/example-catalog/landsat-8-l1/2018-06/LC80300332018166LGN00.json\"</span>\n",
              "        </li>\n",
              "    \n",
              "            \n",
              "        \n",
              "    </ul>\n",
              "        </details></li>\n",
              "    \n",
              "            \n",
              "        \n",
              "    </ul>\n",
              "        \n",
              "            <ul style=\"margin: 0px; padding: 0px 0px 0px 1.75em; list-style: none; display: block;\">\n",
              "        \n",
              "            \n",
              "                \n",
              "        <li><details>\n",
              "            <summary class=\"pystac-summary\"><span class=\"pystac-key\">5</span></summary>\n",
              "            <ul style=\"margin: 0px; padding: 0px 0px 0px 1.75em; list-style: none; display: block;\">\n",
              "        \n",
              "            \n",
              "                \n",
              "        <li style=\"overflow-wrap: break-word; padding-left: 2.125em; text-indent: -0.5em;\">\n",
              "            <span class=\"pystac-key pystac-key-value\">rel</span>\n",
              "            <span style=\"color: rgb(186, 33, 33);\">\"self\"</span>\n",
              "        </li>\n",
              "    \n",
              "            \n",
              "        \n",
              "            \n",
              "                \n",
              "        <li style=\"overflow-wrap: break-word; padding-left: 2.125em; text-indent: -0.5em;\">\n",
              "            <span class=\"pystac-key pystac-key-value\">href</span>\n",
              "            <span style=\"color: rgb(186, 33, 33);\">\"https://raw.githubusercontent.com/stac-utils/pystac/main/docs/example-catalog/landsat-8-l1/collection.json\"</span>\n",
              "        </li>\n",
              "    \n",
              "            \n",
              "        \n",
              "            \n",
              "                \n",
              "        <li style=\"overflow-wrap: break-word; padding-left: 2.125em; text-indent: -0.5em;\">\n",
              "            <span class=\"pystac-key pystac-key-value\">type</span>\n",
              "            <span style=\"color: rgb(186, 33, 33);\">\"application/json\"</span>\n",
              "        </li>\n",
              "    \n",
              "            \n",
              "        \n",
              "    </ul>\n",
              "        </details></li>\n",
              "    \n",
              "            \n",
              "        \n",
              "    </ul>\n",
              "        \n",
              "            <ul style=\"margin: 0px; padding: 0px 0px 0px 1.75em; list-style: none; display: block;\">\n",
              "        \n",
              "            \n",
              "                \n",
              "        <li><details>\n",
              "            <summary class=\"pystac-summary\"><span class=\"pystac-key\">6</span></summary>\n",
              "            <ul style=\"margin: 0px; padding: 0px 0px 0px 1.75em; list-style: none; display: block;\">\n",
              "        \n",
              "            \n",
              "                \n",
              "        <li style=\"overflow-wrap: break-word; padding-left: 2.125em; text-indent: -0.5em;\">\n",
              "            <span class=\"pystac-key pystac-key-value\">rel</span>\n",
              "            <span style=\"color: rgb(186, 33, 33);\">\"parent\"</span>\n",
              "        </li>\n",
              "    \n",
              "            \n",
              "        \n",
              "            \n",
              "                \n",
              "        <li style=\"overflow-wrap: break-word; padding-left: 2.125em; text-indent: -0.5em;\">\n",
              "            <span class=\"pystac-key pystac-key-value\">href</span>\n",
              "            <span style=\"color: rgb(186, 33, 33);\">\"https://raw.githubusercontent.com/stac-utils/pystac/main/docs/example-catalog/catalog.json\"</span>\n",
              "        </li>\n",
              "    \n",
              "            \n",
              "        \n",
              "            \n",
              "                \n",
              "        <li style=\"overflow-wrap: break-word; padding-left: 2.125em; text-indent: -0.5em;\">\n",
              "            <span class=\"pystac-key pystac-key-value\">type</span>\n",
              "            <span style=\"color: rgb(186, 33, 33);\">\"application/json\"</span>\n",
              "        </li>\n",
              "    \n",
              "            \n",
              "        \n",
              "            \n",
              "                \n",
              "        <li style=\"overflow-wrap: break-word; padding-left: 2.125em; text-indent: -0.5em;\">\n",
              "            <span class=\"pystac-key pystac-key-value\">title</span>\n",
              "            <span style=\"color: rgb(186, 33, 33);\">\"STAC for Landsat data\"</span>\n",
              "        </li>\n",
              "    \n",
              "            \n",
              "        \n",
              "    </ul>\n",
              "        </details></li>\n",
              "    \n",
              "            \n",
              "        \n",
              "    </ul>\n",
              "        \n",
              "    </details></li>\n",
              "                \n",
              "            \n",
              "                \n",
              "                    <li><details>\n",
              "        <summary class=\"pystac-summary\">\n",
              "            <span class=\"pystac-key\">stac_extensions</span>\n",
              "            <span style=\"padding-left: 0.5em; color: rgb(64, 128, 128); font-style: italic;\">[] 1 items</span>\n",
              "        </summary>\n",
              "        \n",
              "            <ul style=\"margin: 0px; padding: 0px 0px 0px 1.75em; list-style: none; display: block;\">\n",
              "        \n",
              "            \n",
              "                \n",
              "        <li style=\"overflow-wrap: break-word; padding-left: 2.125em; text-indent: -0.5em;\">\n",
              "            <span class=\"pystac-key pystac-key-value\">0</span>\n",
              "            <span style=\"color: rgb(186, 33, 33);\">\"https://example.com/stac/landsat-extension/1.0/schema.json\"</span>\n",
              "        </li>\n",
              "    \n",
              "            \n",
              "        \n",
              "    </ul>\n",
              "        \n",
              "    </details></li>\n",
              "                \n",
              "            \n",
              "                \n",
              "                    \n",
              "        <li><details>\n",
              "            <summary class=\"pystac-summary\"><span class=\"pystac-key\">properties</span></summary>\n",
              "            <ul style=\"margin: 0px; padding: 0px 0px 0px 1.75em; list-style: none; display: block;\">\n",
              "        \n",
              "            \n",
              "                \n",
              "        <li style=\"overflow-wrap: break-word; padding-left: 2.125em; text-indent: -0.5em;\">\n",
              "            <span class=\"pystac-key pystac-key-value\">collection</span>\n",
              "            <span style=\"color: rgb(186, 33, 33);\">\"landsat-8-l1\"</span>\n",
              "        </li>\n",
              "    \n",
              "            \n",
              "        \n",
              "            \n",
              "                <li><details>\n",
              "        <summary class=\"pystac-summary\">\n",
              "            <span class=\"pystac-key\">instruments</span>\n",
              "            <span style=\"padding-left: 0.5em; color: rgb(64, 128, 128); font-style: italic;\">[] 1 items</span>\n",
              "        </summary>\n",
              "        \n",
              "            <ul style=\"margin: 0px; padding: 0px 0px 0px 1.75em; list-style: none; display: block;\">\n",
              "        \n",
              "            \n",
              "                \n",
              "        <li style=\"overflow-wrap: break-word; padding-left: 2.125em; text-indent: -0.5em;\">\n",
              "            <span class=\"pystac-key pystac-key-value\">0</span>\n",
              "            <span style=\"color: rgb(186, 33, 33);\">\"OLI_TIRS\"</span>\n",
              "        </li>\n",
              "    \n",
              "            \n",
              "        \n",
              "    </ul>\n",
              "        \n",
              "    </details></li>\n",
              "            \n",
              "        \n",
              "            \n",
              "                \n",
              "        <li style=\"overflow-wrap: break-word; padding-left: 2.125em; text-indent: -0.5em;\">\n",
              "            <span class=\"pystac-key pystac-key-value\">view:sun_azimuth</span>\n",
              "            <span style=\"color: rgb(186, 33, 33);\">149.01607154</span>\n",
              "        </li>\n",
              "    \n",
              "            \n",
              "        \n",
              "            \n",
              "                <li><details>\n",
              "        <summary class=\"pystac-summary\">\n",
              "            <span class=\"pystac-key\">eo:bands</span>\n",
              "            <span style=\"padding-left: 0.5em; color: rgb(64, 128, 128); font-style: italic;\">[] 11 items</span>\n",
              "        </summary>\n",
              "        \n",
              "            <ul style=\"margin: 0px; padding: 0px 0px 0px 1.75em; list-style: none; display: block;\">\n",
              "        \n",
              "            \n",
              "                \n",
              "        <li><details>\n",
              "            <summary class=\"pystac-summary\"><span class=\"pystac-key\">0</span></summary>\n",
              "            <ul style=\"margin: 0px; padding: 0px 0px 0px 1.75em; list-style: none; display: block;\">\n",
              "        \n",
              "            \n",
              "                \n",
              "        <li style=\"overflow-wrap: break-word; padding-left: 2.125em; text-indent: -0.5em;\">\n",
              "            <span class=\"pystac-key pystac-key-value\">name</span>\n",
              "            <span style=\"color: rgb(186, 33, 33);\">\"B1\"</span>\n",
              "        </li>\n",
              "    \n",
              "            \n",
              "        \n",
              "            \n",
              "                \n",
              "        <li style=\"overflow-wrap: break-word; padding-left: 2.125em; text-indent: -0.5em;\">\n",
              "            <span class=\"pystac-key pystac-key-value\">full_width_half_max</span>\n",
              "            <span style=\"color: rgb(186, 33, 33);\">0.02</span>\n",
              "        </li>\n",
              "    \n",
              "            \n",
              "        \n",
              "            \n",
              "                \n",
              "        <li style=\"overflow-wrap: break-word; padding-left: 2.125em; text-indent: -0.5em;\">\n",
              "            <span class=\"pystac-key pystac-key-value\">center_wavelength</span>\n",
              "            <span style=\"color: rgb(186, 33, 33);\">0.44</span>\n",
              "        </li>\n",
              "    \n",
              "            \n",
              "        \n",
              "            \n",
              "                \n",
              "        <li style=\"overflow-wrap: break-word; padding-left: 2.125em; text-indent: -0.5em;\">\n",
              "            <span class=\"pystac-key pystac-key-value\">common_name</span>\n",
              "            <span style=\"color: rgb(186, 33, 33);\">\"coastal\"</span>\n",
              "        </li>\n",
              "    \n",
              "            \n",
              "        \n",
              "    </ul>\n",
              "        </details></li>\n",
              "    \n",
              "            \n",
              "        \n",
              "    </ul>\n",
              "        \n",
              "            <ul style=\"margin: 0px; padding: 0px 0px 0px 1.75em; list-style: none; display: block;\">\n",
              "        \n",
              "            \n",
              "                \n",
              "        <li><details>\n",
              "            <summary class=\"pystac-summary\"><span class=\"pystac-key\">1</span></summary>\n",
              "            <ul style=\"margin: 0px; padding: 0px 0px 0px 1.75em; list-style: none; display: block;\">\n",
              "        \n",
              "            \n",
              "                \n",
              "        <li style=\"overflow-wrap: break-word; padding-left: 2.125em; text-indent: -0.5em;\">\n",
              "            <span class=\"pystac-key pystac-key-value\">name</span>\n",
              "            <span style=\"color: rgb(186, 33, 33);\">\"B2\"</span>\n",
              "        </li>\n",
              "    \n",
              "            \n",
              "        \n",
              "            \n",
              "                \n",
              "        <li style=\"overflow-wrap: break-word; padding-left: 2.125em; text-indent: -0.5em;\">\n",
              "            <span class=\"pystac-key pystac-key-value\">full_width_half_max</span>\n",
              "            <span style=\"color: rgb(186, 33, 33);\">0.06</span>\n",
              "        </li>\n",
              "    \n",
              "            \n",
              "        \n",
              "            \n",
              "                \n",
              "        <li style=\"overflow-wrap: break-word; padding-left: 2.125em; text-indent: -0.5em;\">\n",
              "            <span class=\"pystac-key pystac-key-value\">center_wavelength</span>\n",
              "            <span style=\"color: rgb(186, 33, 33);\">0.48</span>\n",
              "        </li>\n",
              "    \n",
              "            \n",
              "        \n",
              "            \n",
              "                \n",
              "        <li style=\"overflow-wrap: break-word; padding-left: 2.125em; text-indent: -0.5em;\">\n",
              "            <span class=\"pystac-key pystac-key-value\">common_name</span>\n",
              "            <span style=\"color: rgb(186, 33, 33);\">\"blue\"</span>\n",
              "        </li>\n",
              "    \n",
              "            \n",
              "        \n",
              "    </ul>\n",
              "        </details></li>\n",
              "    \n",
              "            \n",
              "        \n",
              "    </ul>\n",
              "        \n",
              "            <ul style=\"margin: 0px; padding: 0px 0px 0px 1.75em; list-style: none; display: block;\">\n",
              "        \n",
              "            \n",
              "                \n",
              "        <li><details>\n",
              "            <summary class=\"pystac-summary\"><span class=\"pystac-key\">2</span></summary>\n",
              "            <ul style=\"margin: 0px; padding: 0px 0px 0px 1.75em; list-style: none; display: block;\">\n",
              "        \n",
              "            \n",
              "                \n",
              "        <li style=\"overflow-wrap: break-word; padding-left: 2.125em; text-indent: -0.5em;\">\n",
              "            <span class=\"pystac-key pystac-key-value\">name</span>\n",
              "            <span style=\"color: rgb(186, 33, 33);\">\"B3\"</span>\n",
              "        </li>\n",
              "    \n",
              "            \n",
              "        \n",
              "            \n",
              "                \n",
              "        <li style=\"overflow-wrap: break-word; padding-left: 2.125em; text-indent: -0.5em;\">\n",
              "            <span class=\"pystac-key pystac-key-value\">full_width_half_max</span>\n",
              "            <span style=\"color: rgb(186, 33, 33);\">0.06</span>\n",
              "        </li>\n",
              "    \n",
              "            \n",
              "        \n",
              "            \n",
              "                \n",
              "        <li style=\"overflow-wrap: break-word; padding-left: 2.125em; text-indent: -0.5em;\">\n",
              "            <span class=\"pystac-key pystac-key-value\">center_wavelength</span>\n",
              "            <span style=\"color: rgb(186, 33, 33);\">0.56</span>\n",
              "        </li>\n",
              "    \n",
              "            \n",
              "        \n",
              "            \n",
              "                \n",
              "        <li style=\"overflow-wrap: break-word; padding-left: 2.125em; text-indent: -0.5em;\">\n",
              "            <span class=\"pystac-key pystac-key-value\">common_name</span>\n",
              "            <span style=\"color: rgb(186, 33, 33);\">\"green\"</span>\n",
              "        </li>\n",
              "    \n",
              "            \n",
              "        \n",
              "    </ul>\n",
              "        </details></li>\n",
              "    \n",
              "            \n",
              "        \n",
              "    </ul>\n",
              "        \n",
              "            <ul style=\"margin: 0px; padding: 0px 0px 0px 1.75em; list-style: none; display: block;\">\n",
              "        \n",
              "            \n",
              "                \n",
              "        <li><details>\n",
              "            <summary class=\"pystac-summary\"><span class=\"pystac-key\">3</span></summary>\n",
              "            <ul style=\"margin: 0px; padding: 0px 0px 0px 1.75em; list-style: none; display: block;\">\n",
              "        \n",
              "            \n",
              "                \n",
              "        <li style=\"overflow-wrap: break-word; padding-left: 2.125em; text-indent: -0.5em;\">\n",
              "            <span class=\"pystac-key pystac-key-value\">name</span>\n",
              "            <span style=\"color: rgb(186, 33, 33);\">\"B4\"</span>\n",
              "        </li>\n",
              "    \n",
              "            \n",
              "        \n",
              "            \n",
              "                \n",
              "        <li style=\"overflow-wrap: break-word; padding-left: 2.125em; text-indent: -0.5em;\">\n",
              "            <span class=\"pystac-key pystac-key-value\">full_width_half_max</span>\n",
              "            <span style=\"color: rgb(186, 33, 33);\">0.04</span>\n",
              "        </li>\n",
              "    \n",
              "            \n",
              "        \n",
              "            \n",
              "                \n",
              "        <li style=\"overflow-wrap: break-word; padding-left: 2.125em; text-indent: -0.5em;\">\n",
              "            <span class=\"pystac-key pystac-key-value\">center_wavelength</span>\n",
              "            <span style=\"color: rgb(186, 33, 33);\">0.65</span>\n",
              "        </li>\n",
              "    \n",
              "            \n",
              "        \n",
              "            \n",
              "                \n",
              "        <li style=\"overflow-wrap: break-word; padding-left: 2.125em; text-indent: -0.5em;\">\n",
              "            <span class=\"pystac-key pystac-key-value\">common_name</span>\n",
              "            <span style=\"color: rgb(186, 33, 33);\">\"red\"</span>\n",
              "        </li>\n",
              "    \n",
              "            \n",
              "        \n",
              "    </ul>\n",
              "        </details></li>\n",
              "    \n",
              "            \n",
              "        \n",
              "    </ul>\n",
              "        \n",
              "            <ul style=\"margin: 0px; padding: 0px 0px 0px 1.75em; list-style: none; display: block;\">\n",
              "        \n",
              "            \n",
              "                \n",
              "        <li><details>\n",
              "            <summary class=\"pystac-summary\"><span class=\"pystac-key\">4</span></summary>\n",
              "            <ul style=\"margin: 0px; padding: 0px 0px 0px 1.75em; list-style: none; display: block;\">\n",
              "        \n",
              "            \n",
              "                \n",
              "        <li style=\"overflow-wrap: break-word; padding-left: 2.125em; text-indent: -0.5em;\">\n",
              "            <span class=\"pystac-key pystac-key-value\">name</span>\n",
              "            <span style=\"color: rgb(186, 33, 33);\">\"B5\"</span>\n",
              "        </li>\n",
              "    \n",
              "            \n",
              "        \n",
              "            \n",
              "                \n",
              "        <li style=\"overflow-wrap: break-word; padding-left: 2.125em; text-indent: -0.5em;\">\n",
              "            <span class=\"pystac-key pystac-key-value\">full_width_half_max</span>\n",
              "            <span style=\"color: rgb(186, 33, 33);\">0.03</span>\n",
              "        </li>\n",
              "    \n",
              "            \n",
              "        \n",
              "            \n",
              "                \n",
              "        <li style=\"overflow-wrap: break-word; padding-left: 2.125em; text-indent: -0.5em;\">\n",
              "            <span class=\"pystac-key pystac-key-value\">center_wavelength</span>\n",
              "            <span style=\"color: rgb(186, 33, 33);\">0.86</span>\n",
              "        </li>\n",
              "    \n",
              "            \n",
              "        \n",
              "            \n",
              "                \n",
              "        <li style=\"overflow-wrap: break-word; padding-left: 2.125em; text-indent: -0.5em;\">\n",
              "            <span class=\"pystac-key pystac-key-value\">common_name</span>\n",
              "            <span style=\"color: rgb(186, 33, 33);\">\"nir\"</span>\n",
              "        </li>\n",
              "    \n",
              "            \n",
              "        \n",
              "    </ul>\n",
              "        </details></li>\n",
              "    \n",
              "            \n",
              "        \n",
              "    </ul>\n",
              "        \n",
              "            <ul style=\"margin: 0px; padding: 0px 0px 0px 1.75em; list-style: none; display: block;\">\n",
              "        \n",
              "            \n",
              "                \n",
              "        <li><details>\n",
              "            <summary class=\"pystac-summary\"><span class=\"pystac-key\">5</span></summary>\n",
              "            <ul style=\"margin: 0px; padding: 0px 0px 0px 1.75em; list-style: none; display: block;\">\n",
              "        \n",
              "            \n",
              "                \n",
              "        <li style=\"overflow-wrap: break-word; padding-left: 2.125em; text-indent: -0.5em;\">\n",
              "            <span class=\"pystac-key pystac-key-value\">name</span>\n",
              "            <span style=\"color: rgb(186, 33, 33);\">\"B6\"</span>\n",
              "        </li>\n",
              "    \n",
              "            \n",
              "        \n",
              "            \n",
              "                \n",
              "        <li style=\"overflow-wrap: break-word; padding-left: 2.125em; text-indent: -0.5em;\">\n",
              "            <span class=\"pystac-key pystac-key-value\">full_width_half_max</span>\n",
              "            <span style=\"color: rgb(186, 33, 33);\">0.08</span>\n",
              "        </li>\n",
              "    \n",
              "            \n",
              "        \n",
              "            \n",
              "                \n",
              "        <li style=\"overflow-wrap: break-word; padding-left: 2.125em; text-indent: -0.5em;\">\n",
              "            <span class=\"pystac-key pystac-key-value\">center_wavelength</span>\n",
              "            <span style=\"color: rgb(186, 33, 33);\">1.6</span>\n",
              "        </li>\n",
              "    \n",
              "            \n",
              "        \n",
              "            \n",
              "                \n",
              "        <li style=\"overflow-wrap: break-word; padding-left: 2.125em; text-indent: -0.5em;\">\n",
              "            <span class=\"pystac-key pystac-key-value\">common_name</span>\n",
              "            <span style=\"color: rgb(186, 33, 33);\">\"swir16\"</span>\n",
              "        </li>\n",
              "    \n",
              "            \n",
              "        \n",
              "    </ul>\n",
              "        </details></li>\n",
              "    \n",
              "            \n",
              "        \n",
              "    </ul>\n",
              "        \n",
              "            <ul style=\"margin: 0px; padding: 0px 0px 0px 1.75em; list-style: none; display: block;\">\n",
              "        \n",
              "            \n",
              "                \n",
              "        <li><details>\n",
              "            <summary class=\"pystac-summary\"><span class=\"pystac-key\">6</span></summary>\n",
              "            <ul style=\"margin: 0px; padding: 0px 0px 0px 1.75em; list-style: none; display: block;\">\n",
              "        \n",
              "            \n",
              "                \n",
              "        <li style=\"overflow-wrap: break-word; padding-left: 2.125em; text-indent: -0.5em;\">\n",
              "            <span class=\"pystac-key pystac-key-value\">name</span>\n",
              "            <span style=\"color: rgb(186, 33, 33);\">\"B7\"</span>\n",
              "        </li>\n",
              "    \n",
              "            \n",
              "        \n",
              "            \n",
              "                \n",
              "        <li style=\"overflow-wrap: break-word; padding-left: 2.125em; text-indent: -0.5em;\">\n",
              "            <span class=\"pystac-key pystac-key-value\">full_width_half_max</span>\n",
              "            <span style=\"color: rgb(186, 33, 33);\">0.22</span>\n",
              "        </li>\n",
              "    \n",
              "            \n",
              "        \n",
              "            \n",
              "                \n",
              "        <li style=\"overflow-wrap: break-word; padding-left: 2.125em; text-indent: -0.5em;\">\n",
              "            <span class=\"pystac-key pystac-key-value\">center_wavelength</span>\n",
              "            <span style=\"color: rgb(186, 33, 33);\">2.2</span>\n",
              "        </li>\n",
              "    \n",
              "            \n",
              "        \n",
              "            \n",
              "                \n",
              "        <li style=\"overflow-wrap: break-word; padding-left: 2.125em; text-indent: -0.5em;\">\n",
              "            <span class=\"pystac-key pystac-key-value\">common_name</span>\n",
              "            <span style=\"color: rgb(186, 33, 33);\">\"swir22\"</span>\n",
              "        </li>\n",
              "    \n",
              "            \n",
              "        \n",
              "    </ul>\n",
              "        </details></li>\n",
              "    \n",
              "            \n",
              "        \n",
              "    </ul>\n",
              "        \n",
              "            <ul style=\"margin: 0px; padding: 0px 0px 0px 1.75em; list-style: none; display: block;\">\n",
              "        \n",
              "            \n",
              "                \n",
              "        <li><details>\n",
              "            <summary class=\"pystac-summary\"><span class=\"pystac-key\">7</span></summary>\n",
              "            <ul style=\"margin: 0px; padding: 0px 0px 0px 1.75em; list-style: none; display: block;\">\n",
              "        \n",
              "            \n",
              "                \n",
              "        <li style=\"overflow-wrap: break-word; padding-left: 2.125em; text-indent: -0.5em;\">\n",
              "            <span class=\"pystac-key pystac-key-value\">name</span>\n",
              "            <span style=\"color: rgb(186, 33, 33);\">\"B8\"</span>\n",
              "        </li>\n",
              "    \n",
              "            \n",
              "        \n",
              "            \n",
              "                \n",
              "        <li style=\"overflow-wrap: break-word; padding-left: 2.125em; text-indent: -0.5em;\">\n",
              "            <span class=\"pystac-key pystac-key-value\">full_width_half_max</span>\n",
              "            <span style=\"color: rgb(186, 33, 33);\">0.18</span>\n",
              "        </li>\n",
              "    \n",
              "            \n",
              "        \n",
              "            \n",
              "                \n",
              "        <li style=\"overflow-wrap: break-word; padding-left: 2.125em; text-indent: -0.5em;\">\n",
              "            <span class=\"pystac-key pystac-key-value\">center_wavelength</span>\n",
              "            <span style=\"color: rgb(186, 33, 33);\">0.59</span>\n",
              "        </li>\n",
              "    \n",
              "            \n",
              "        \n",
              "            \n",
              "                \n",
              "        <li style=\"overflow-wrap: break-word; padding-left: 2.125em; text-indent: -0.5em;\">\n",
              "            <span class=\"pystac-key pystac-key-value\">common_name</span>\n",
              "            <span style=\"color: rgb(186, 33, 33);\">\"pan\"</span>\n",
              "        </li>\n",
              "    \n",
              "            \n",
              "        \n",
              "    </ul>\n",
              "        </details></li>\n",
              "    \n",
              "            \n",
              "        \n",
              "    </ul>\n",
              "        \n",
              "            <ul style=\"margin: 0px; padding: 0px 0px 0px 1.75em; list-style: none; display: block;\">\n",
              "        \n",
              "            \n",
              "                \n",
              "        <li><details>\n",
              "            <summary class=\"pystac-summary\"><span class=\"pystac-key\">8</span></summary>\n",
              "            <ul style=\"margin: 0px; padding: 0px 0px 0px 1.75em; list-style: none; display: block;\">\n",
              "        \n",
              "            \n",
              "                \n",
              "        <li style=\"overflow-wrap: break-word; padding-left: 2.125em; text-indent: -0.5em;\">\n",
              "            <span class=\"pystac-key pystac-key-value\">name</span>\n",
              "            <span style=\"color: rgb(186, 33, 33);\">\"B9\"</span>\n",
              "        </li>\n",
              "    \n",
              "            \n",
              "        \n",
              "            \n",
              "                \n",
              "        <li style=\"overflow-wrap: break-word; padding-left: 2.125em; text-indent: -0.5em;\">\n",
              "            <span class=\"pystac-key pystac-key-value\">full_width_half_max</span>\n",
              "            <span style=\"color: rgb(186, 33, 33);\">0.02</span>\n",
              "        </li>\n",
              "    \n",
              "            \n",
              "        \n",
              "            \n",
              "                \n",
              "        <li style=\"overflow-wrap: break-word; padding-left: 2.125em; text-indent: -0.5em;\">\n",
              "            <span class=\"pystac-key pystac-key-value\">center_wavelength</span>\n",
              "            <span style=\"color: rgb(186, 33, 33);\">1.37</span>\n",
              "        </li>\n",
              "    \n",
              "            \n",
              "        \n",
              "            \n",
              "                \n",
              "        <li style=\"overflow-wrap: break-word; padding-left: 2.125em; text-indent: -0.5em;\">\n",
              "            <span class=\"pystac-key pystac-key-value\">common_name</span>\n",
              "            <span style=\"color: rgb(186, 33, 33);\">\"cirrus\"</span>\n",
              "        </li>\n",
              "    \n",
              "            \n",
              "        \n",
              "    </ul>\n",
              "        </details></li>\n",
              "    \n",
              "            \n",
              "        \n",
              "    </ul>\n",
              "        \n",
              "            <ul style=\"margin: 0px; padding: 0px 0px 0px 1.75em; list-style: none; display: block;\">\n",
              "        \n",
              "            \n",
              "                \n",
              "        <li><details>\n",
              "            <summary class=\"pystac-summary\"><span class=\"pystac-key\">9</span></summary>\n",
              "            <ul style=\"margin: 0px; padding: 0px 0px 0px 1.75em; list-style: none; display: block;\">\n",
              "        \n",
              "            \n",
              "                \n",
              "        <li style=\"overflow-wrap: break-word; padding-left: 2.125em; text-indent: -0.5em;\">\n",
              "            <span class=\"pystac-key pystac-key-value\">name</span>\n",
              "            <span style=\"color: rgb(186, 33, 33);\">\"B10\"</span>\n",
              "        </li>\n",
              "    \n",
              "            \n",
              "        \n",
              "            \n",
              "                \n",
              "        <li style=\"overflow-wrap: break-word; padding-left: 2.125em; text-indent: -0.5em;\">\n",
              "            <span class=\"pystac-key pystac-key-value\">full_width_half_max</span>\n",
              "            <span style=\"color: rgb(186, 33, 33);\">0.8</span>\n",
              "        </li>\n",
              "    \n",
              "            \n",
              "        \n",
              "            \n",
              "                \n",
              "        <li style=\"overflow-wrap: break-word; padding-left: 2.125em; text-indent: -0.5em;\">\n",
              "            <span class=\"pystac-key pystac-key-value\">center_wavelength</span>\n",
              "            <span style=\"color: rgb(186, 33, 33);\">10.9</span>\n",
              "        </li>\n",
              "    \n",
              "            \n",
              "        \n",
              "            \n",
              "                \n",
              "        <li style=\"overflow-wrap: break-word; padding-left: 2.125em; text-indent: -0.5em;\">\n",
              "            <span class=\"pystac-key pystac-key-value\">common_name</span>\n",
              "            <span style=\"color: rgb(186, 33, 33);\">\"lwir11\"</span>\n",
              "        </li>\n",
              "    \n",
              "            \n",
              "        \n",
              "    </ul>\n",
              "        </details></li>\n",
              "    \n",
              "            \n",
              "        \n",
              "    </ul>\n",
              "        \n",
              "            <ul style=\"margin: 0px; padding: 0px 0px 0px 1.75em; list-style: none; display: block;\">\n",
              "        \n",
              "            \n",
              "                \n",
              "        <li><details>\n",
              "            <summary class=\"pystac-summary\"><span class=\"pystac-key\">10</span></summary>\n",
              "            <ul style=\"margin: 0px; padding: 0px 0px 0px 1.75em; list-style: none; display: block;\">\n",
              "        \n",
              "            \n",
              "                \n",
              "        <li style=\"overflow-wrap: break-word; padding-left: 2.125em; text-indent: -0.5em;\">\n",
              "            <span class=\"pystac-key pystac-key-value\">name</span>\n",
              "            <span style=\"color: rgb(186, 33, 33);\">\"B11\"</span>\n",
              "        </li>\n",
              "    \n",
              "            \n",
              "        \n",
              "            \n",
              "                \n",
              "        <li style=\"overflow-wrap: break-word; padding-left: 2.125em; text-indent: -0.5em;\">\n",
              "            <span class=\"pystac-key pystac-key-value\">full_width_half_max</span>\n",
              "            <span style=\"color: rgb(186, 33, 33);\">1</span>\n",
              "        </li>\n",
              "    \n",
              "            \n",
              "        \n",
              "            \n",
              "                \n",
              "        <li style=\"overflow-wrap: break-word; padding-left: 2.125em; text-indent: -0.5em;\">\n",
              "            <span class=\"pystac-key pystac-key-value\">center_wavelength</span>\n",
              "            <span style=\"color: rgb(186, 33, 33);\">12</span>\n",
              "        </li>\n",
              "    \n",
              "            \n",
              "        \n",
              "            \n",
              "                \n",
              "        <li style=\"overflow-wrap: break-word; padding-left: 2.125em; text-indent: -0.5em;\">\n",
              "            <span class=\"pystac-key pystac-key-value\">common_name</span>\n",
              "            <span style=\"color: rgb(186, 33, 33);\">\"lwir2\"</span>\n",
              "        </li>\n",
              "    \n",
              "            \n",
              "        \n",
              "    </ul>\n",
              "        </details></li>\n",
              "    \n",
              "            \n",
              "        \n",
              "    </ul>\n",
              "        \n",
              "    </details></li>\n",
              "            \n",
              "        \n",
              "            \n",
              "                \n",
              "        <li style=\"overflow-wrap: break-word; padding-left: 2.125em; text-indent: -0.5em;\">\n",
              "            <span class=\"pystac-key pystac-key-value\">view:off_nadir</span>\n",
              "            <span style=\"color: rgb(186, 33, 33);\">0</span>\n",
              "        </li>\n",
              "    \n",
              "            \n",
              "        \n",
              "            \n",
              "                \n",
              "        <li style=\"overflow-wrap: break-word; padding-left: 2.125em; text-indent: -0.5em;\">\n",
              "            <span class=\"pystac-key pystac-key-value\">view:azimuth</span>\n",
              "            <span style=\"color: rgb(186, 33, 33);\">0</span>\n",
              "        </li>\n",
              "    \n",
              "            \n",
              "        \n",
              "            \n",
              "                \n",
              "        <li style=\"overflow-wrap: break-word; padding-left: 2.125em; text-indent: -0.5em;\">\n",
              "            <span class=\"pystac-key pystac-key-value\">platform</span>\n",
              "            <span style=\"color: rgb(186, 33, 33);\">\"landsat-8\"</span>\n",
              "        </li>\n",
              "    \n",
              "            \n",
              "        \n",
              "            \n",
              "                \n",
              "        <li style=\"overflow-wrap: break-word; padding-left: 2.125em; text-indent: -0.5em;\">\n",
              "            <span class=\"pystac-key pystac-key-value\">gsd</span>\n",
              "            <span style=\"color: rgb(186, 33, 33);\">15</span>\n",
              "        </li>\n",
              "    \n",
              "            \n",
              "        \n",
              "            \n",
              "                \n",
              "        <li style=\"overflow-wrap: break-word; padding-left: 2.125em; text-indent: -0.5em;\">\n",
              "            <span class=\"pystac-key pystac-key-value\">view:sun_elevation</span>\n",
              "            <span style=\"color: rgb(186, 33, 33);\">59.214247</span>\n",
              "        </li>\n",
              "    \n",
              "            \n",
              "        \n",
              "    </ul>\n",
              "        </details></li>\n",
              "    \n",
              "                \n",
              "            \n",
              "                \n",
              "                    \n",
              "        <li style=\"overflow-wrap: break-word; padding-left: 2.125em; text-indent: -0.5em;\">\n",
              "            <span class=\"pystac-key pystac-key-value\">title</span>\n",
              "            <span style=\"color: rgb(186, 33, 33);\">\"Landsat 8 L1\"</span>\n",
              "        </li>\n",
              "    \n",
              "                \n",
              "            \n",
              "                \n",
              "                    \n",
              "        <li><details>\n",
              "            <summary class=\"pystac-summary\"><span class=\"pystac-key\">extent</span></summary>\n",
              "            <ul style=\"margin: 0px; padding: 0px 0px 0px 1.75em; list-style: none; display: block;\">\n",
              "        \n",
              "            \n",
              "                \n",
              "        <li><details>\n",
              "            <summary class=\"pystac-summary\"><span class=\"pystac-key\">spatial</span></summary>\n",
              "            <ul style=\"margin: 0px; padding: 0px 0px 0px 1.75em; list-style: none; display: block;\">\n",
              "        \n",
              "            \n",
              "                <li><details>\n",
              "        <summary class=\"pystac-summary\">\n",
              "            <span class=\"pystac-key\">bbox</span>\n",
              "            <span style=\"padding-left: 0.5em; color: rgb(64, 128, 128); font-style: italic;\">[] 1 items</span>\n",
              "        </summary>\n",
              "        \n",
              "            <ul style=\"margin: 0px; padding: 0px 0px 0px 1.75em; list-style: none; display: block;\">\n",
              "        \n",
              "            \n",
              "                <li><details>\n",
              "        <summary class=\"pystac-summary\">\n",
              "            <span class=\"pystac-key\">0</span>\n",
              "            <span style=\"padding-left: 0.5em; color: rgb(64, 128, 128); font-style: italic;\">[] 4 items</span>\n",
              "        </summary>\n",
              "        \n",
              "            <ul style=\"margin: 0px; padding: 0px 0px 0px 1.75em; list-style: none; display: block;\">\n",
              "        \n",
              "            \n",
              "                \n",
              "        <li style=\"overflow-wrap: break-word; padding-left: 2.125em; text-indent: -0.5em;\">\n",
              "            <span class=\"pystac-key pystac-key-value\">0</span>\n",
              "            <span style=\"color: rgb(186, 33, 33);\">-180.0</span>\n",
              "        </li>\n",
              "    \n",
              "            \n",
              "        \n",
              "    </ul>\n",
              "        \n",
              "            <ul style=\"margin: 0px; padding: 0px 0px 0px 1.75em; list-style: none; display: block;\">\n",
              "        \n",
              "            \n",
              "                \n",
              "        <li style=\"overflow-wrap: break-word; padding-left: 2.125em; text-indent: -0.5em;\">\n",
              "            <span class=\"pystac-key pystac-key-value\">1</span>\n",
              "            <span style=\"color: rgb(186, 33, 33);\">-90.0</span>\n",
              "        </li>\n",
              "    \n",
              "            \n",
              "        \n",
              "    </ul>\n",
              "        \n",
              "            <ul style=\"margin: 0px; padding: 0px 0px 0px 1.75em; list-style: none; display: block;\">\n",
              "        \n",
              "            \n",
              "                \n",
              "        <li style=\"overflow-wrap: break-word; padding-left: 2.125em; text-indent: -0.5em;\">\n",
              "            <span class=\"pystac-key pystac-key-value\">2</span>\n",
              "            <span style=\"color: rgb(186, 33, 33);\">180.0</span>\n",
              "        </li>\n",
              "    \n",
              "            \n",
              "        \n",
              "    </ul>\n",
              "        \n",
              "            <ul style=\"margin: 0px; padding: 0px 0px 0px 1.75em; list-style: none; display: block;\">\n",
              "        \n",
              "            \n",
              "                \n",
              "        <li style=\"overflow-wrap: break-word; padding-left: 2.125em; text-indent: -0.5em;\">\n",
              "            <span class=\"pystac-key pystac-key-value\">3</span>\n",
              "            <span style=\"color: rgb(186, 33, 33);\">90.0</span>\n",
              "        </li>\n",
              "    \n",
              "            \n",
              "        \n",
              "    </ul>\n",
              "        \n",
              "    </details></li>\n",
              "            \n",
              "        \n",
              "    </ul>\n",
              "        \n",
              "    </details></li>\n",
              "            \n",
              "        \n",
              "    </ul>\n",
              "        </details></li>\n",
              "    \n",
              "            \n",
              "        \n",
              "            \n",
              "                \n",
              "        <li><details>\n",
              "            <summary class=\"pystac-summary\"><span class=\"pystac-key\">temporal</span></summary>\n",
              "            <ul style=\"margin: 0px; padding: 0px 0px 0px 1.75em; list-style: none; display: block;\">\n",
              "        \n",
              "            \n",
              "                <li><details>\n",
              "        <summary class=\"pystac-summary\">\n",
              "            <span class=\"pystac-key\">interval</span>\n",
              "            <span style=\"padding-left: 0.5em; color: rgb(64, 128, 128); font-style: italic;\">[] 1 items</span>\n",
              "        </summary>\n",
              "        \n",
              "            <ul style=\"margin: 0px; padding: 0px 0px 0px 1.75em; list-style: none; display: block;\">\n",
              "        \n",
              "            \n",
              "                <li><details>\n",
              "        <summary class=\"pystac-summary\">\n",
              "            <span class=\"pystac-key\">0</span>\n",
              "            <span style=\"padding-left: 0.5em; color: rgb(64, 128, 128); font-style: italic;\">[] 2 items</span>\n",
              "        </summary>\n",
              "        \n",
              "            <ul style=\"margin: 0px; padding: 0px 0px 0px 1.75em; list-style: none; display: block;\">\n",
              "        \n",
              "            \n",
              "                \n",
              "        <li style=\"overflow-wrap: break-word; padding-left: 2.125em; text-indent: -0.5em;\">\n",
              "            <span class=\"pystac-key pystac-key-value\">0</span>\n",
              "            <span style=\"color: rgb(186, 33, 33);\">\"2018-05-21T15:44:59Z\"</span>\n",
              "        </li>\n",
              "    \n",
              "            \n",
              "        \n",
              "    </ul>\n",
              "        \n",
              "            <ul style=\"margin: 0px; padding: 0px 0px 0px 1.75em; list-style: none; display: block;\">\n",
              "        \n",
              "            \n",
              "                \n",
              "        <li style=\"overflow-wrap: break-word; padding-left: 2.125em; text-indent: -0.5em;\">\n",
              "            <span class=\"pystac-key pystac-key-value\">1</span>\n",
              "            <span style=\"color: rgb(186, 33, 33);\">\"2018-07-08T15:45:34Z\"</span>\n",
              "        </li>\n",
              "    \n",
              "            \n",
              "        \n",
              "    </ul>\n",
              "        \n",
              "    </details></li>\n",
              "            \n",
              "        \n",
              "    </ul>\n",
              "        \n",
              "    </details></li>\n",
              "            \n",
              "        \n",
              "    </ul>\n",
              "        </details></li>\n",
              "    \n",
              "            \n",
              "        \n",
              "    </ul>\n",
              "        </details></li>\n",
              "    \n",
              "                \n",
              "            \n",
              "                \n",
              "                    \n",
              "        <li style=\"overflow-wrap: break-word; padding-left: 2.125em; text-indent: -0.5em;\">\n",
              "            <span class=\"pystac-key pystac-key-value\">license</span>\n",
              "            <span style=\"color: rgb(186, 33, 33);\">\"proprietary\"</span>\n",
              "        </li>\n",
              "    \n",
              "                \n",
              "            \n",
              "                \n",
              "                    <li><details>\n",
              "        <summary class=\"pystac-summary\">\n",
              "            <span class=\"pystac-key\">keywords</span>\n",
              "            <span style=\"padding-left: 0.5em; color: rgb(64, 128, 128); font-style: italic;\">[] 3 items</span>\n",
              "        </summary>\n",
              "        \n",
              "            <ul style=\"margin: 0px; padding: 0px 0px 0px 1.75em; list-style: none; display: block;\">\n",
              "        \n",
              "            \n",
              "                \n",
              "        <li style=\"overflow-wrap: break-word; padding-left: 2.125em; text-indent: -0.5em;\">\n",
              "            <span class=\"pystac-key pystac-key-value\">0</span>\n",
              "            <span style=\"color: rgb(186, 33, 33);\">\"landsat\"</span>\n",
              "        </li>\n",
              "    \n",
              "            \n",
              "        \n",
              "    </ul>\n",
              "        \n",
              "            <ul style=\"margin: 0px; padding: 0px 0px 0px 1.75em; list-style: none; display: block;\">\n",
              "        \n",
              "            \n",
              "                \n",
              "        <li style=\"overflow-wrap: break-word; padding-left: 2.125em; text-indent: -0.5em;\">\n",
              "            <span class=\"pystac-key pystac-key-value\">1</span>\n",
              "            <span style=\"color: rgb(186, 33, 33);\">\"earth observation\"</span>\n",
              "        </li>\n",
              "    \n",
              "            \n",
              "        \n",
              "    </ul>\n",
              "        \n",
              "            <ul style=\"margin: 0px; padding: 0px 0px 0px 1.75em; list-style: none; display: block;\">\n",
              "        \n",
              "            \n",
              "                \n",
              "        <li style=\"overflow-wrap: break-word; padding-left: 2.125em; text-indent: -0.5em;\">\n",
              "            <span class=\"pystac-key pystac-key-value\">2</span>\n",
              "            <span style=\"color: rgb(186, 33, 33);\">\"usgs\"</span>\n",
              "        </li>\n",
              "    \n",
              "            \n",
              "        \n",
              "    </ul>\n",
              "        \n",
              "    </details></li>\n",
              "                \n",
              "            \n",
              "                \n",
              "                    <li><details>\n",
              "        <summary class=\"pystac-summary\">\n",
              "            <span class=\"pystac-key\">providers</span>\n",
              "            <span style=\"padding-left: 0.5em; color: rgb(64, 128, 128); font-style: italic;\">[] 1 items</span>\n",
              "        </summary>\n",
              "        \n",
              "            <ul style=\"margin: 0px; padding: 0px 0px 0px 1.75em; list-style: none; display: block;\">\n",
              "        \n",
              "            \n",
              "                \n",
              "        <li><details>\n",
              "            <summary class=\"pystac-summary\"><span class=\"pystac-key\">0</span></summary>\n",
              "            <ul style=\"margin: 0px; padding: 0px 0px 0px 1.75em; list-style: none; display: block;\">\n",
              "        \n",
              "            \n",
              "                \n",
              "        <li style=\"overflow-wrap: break-word; padding-left: 2.125em; text-indent: -0.5em;\">\n",
              "            <span class=\"pystac-key pystac-key-value\">name</span>\n",
              "            <span style=\"color: rgb(186, 33, 33);\">\"Development Seed\"</span>\n",
              "        </li>\n",
              "    \n",
              "            \n",
              "        \n",
              "            \n",
              "                <li><details>\n",
              "        <summary class=\"pystac-summary\">\n",
              "            <span class=\"pystac-key\">roles</span>\n",
              "            <span style=\"padding-left: 0.5em; color: rgb(64, 128, 128); font-style: italic;\">[] 1 items</span>\n",
              "        </summary>\n",
              "        \n",
              "            <ul style=\"margin: 0px; padding: 0px 0px 0px 1.75em; list-style: none; display: block;\">\n",
              "        \n",
              "            \n",
              "                \n",
              "        <li style=\"overflow-wrap: break-word; padding-left: 2.125em; text-indent: -0.5em;\">\n",
              "            <span class=\"pystac-key pystac-key-value\">0</span>\n",
              "            <span style=\"color: rgb(186, 33, 33);\">\"processor\"</span>\n",
              "        </li>\n",
              "    \n",
              "            \n",
              "        \n",
              "    </ul>\n",
              "        \n",
              "    </details></li>\n",
              "            \n",
              "        \n",
              "            \n",
              "                \n",
              "        <li style=\"overflow-wrap: break-word; padding-left: 2.125em; text-indent: -0.5em;\">\n",
              "            <span class=\"pystac-key pystac-key-value\">url</span>\n",
              "            <span style=\"color: rgb(186, 33, 33);\">\"https://github.com/sat-utils/sat-api\"</span>\n",
              "        </li>\n",
              "    \n",
              "            \n",
              "        \n",
              "    </ul>\n",
              "        </details></li>\n",
              "    \n",
              "            \n",
              "        \n",
              "    </ul>\n",
              "        \n",
              "    </details></li>\n",
              "                \n",
              "            \n",
              "        </ul>\n",
              "    </div>\n",
              "</div>"
            ],
            "text/plain": [
              "<Collection id=landsat-8-l1>"
            ]
          },
          "execution_count": 15,
          "metadata": {},
          "output_type": "execute_result"
        }
      ],
      "source": [
        "item.get_collection()"
      ]
    },
    {
      "cell_type": "markdown",
      "metadata": {
        "id": "L98FlGl4BP5O"
      },
      "source": [
        "####  2. Common Metadata\n",
        "\n",
        "Certain fields that are commonly used in Items, but may also be found in other objects (e.g. Assets) are defined in the [Common Metadata](https://github.com/radiantearth/stac-spec/blob/v1.0.0/item-spec/common-metadata.md) section of the spec. These include licensing and instrument information, descriptions of datetime ranges, and some other common fields. These properties can be found as attributes of the `Item.common_metadata` property, which is an instance of the `CommonMetadata` class."
      ]
    },
    {
      "cell_type": "code",
      "execution_count": null,
      "metadata": {
        "id": "aLeBs08_BP5O",
        "outputId": "b1c7ea0a-05c4-4255-a24b-040a6fb6f6a2"
      },
      "outputs": [
        {
          "data": {
            "text/plain": [
              "['OLI_TIRS']"
            ]
          },
          "execution_count": 16,
          "metadata": {},
          "output_type": "execute_result"
        }
      ],
      "source": [
        "item.common_metadata.instruments"
      ]
    },
    {
      "cell_type": "code",
      "execution_count": null,
      "metadata": {
        "id": "dfcYy_sCBP5O",
        "outputId": "22a1e346-0514-4cc6-c96c-b4cecdd42d92"
      },
      "outputs": [
        {
          "data": {
            "text/plain": [
              "'landsat-8'"
            ]
          },
          "execution_count": 17,
          "metadata": {},
          "output_type": "execute_result"
        }
      ],
      "source": [
        "item.common_metadata.platform"
      ]
    },
    {
      "cell_type": "code",
      "execution_count": null,
      "metadata": {
        "id": "SOLrn02LBP5O",
        "outputId": "0af48ac1-a58c-4f5d-ea22-cde3200445aa"
      },
      "outputs": [
        {
          "data": {
            "text/plain": [
              "30"
            ]
          },
          "execution_count": 18,
          "metadata": {},
          "output_type": "execute_result"
        }
      ],
      "source": [
        "item.common_metadata.gsd"
      ]
    },
    {
      "cell_type": "markdown",
      "metadata": {
        "id": "qwwuCaEIBP5O"
      },
      "source": [
        "#### 3. STAC Extensions\n",
        "\n",
        "[STAC Extensions](https://github.com/radiantearth/stac-spec/tree/master/extensions) are a mechanism for providing additional metadata not covered by the core STAC Spec. We can see which STAC Extensions are implemented by this particular Item by examining the list of extension URIs in the `stac_extensions` field."
      ]
    },
    {
      "cell_type": "code",
      "execution_count": null,
      "metadata": {
        "id": "E5Ak44v3BP5R",
        "outputId": "3edd46c0-f928-4f3e-f720-303c9328f9ef"
      },
      "outputs": [
        {
          "data": {
            "text/plain": [
              "['https://stac-extensions.github.io/eo/v1.1.0/schema.json',\n",
              " 'https://stac-extensions.github.io/view/v1.0.0/schema.json',\n",
              " 'https://stac-extensions.github.io/projection/v1.1.0/schema.json']"
            ]
          },
          "execution_count": 19,
          "metadata": {},
          "output_type": "execute_result"
        }
      ],
      "source": [
        "item.stac_extensions"
      ]
    },
    {
      "cell_type": "markdown",
      "metadata": {
        "id": "zX88TC7VBP5S"
      },
      "source": [
        "This Item implements the [Electro-Optical](https://github.com/stac-extensions/eo), [View Geometry](https://github.com/stac-extensions/view), and [Projection](https://github.com/stac-extensions/projection) Extensions.\n",
        "\n",
        "We can also check if a specific extension is implemented using the `has_extension` method for that extension class."
      ]
    },
    {
      "cell_type": "code",
      "execution_count": null,
      "metadata": {
        "id": "0dC8yECoBP5S",
        "outputId": "d92f5b42-74c1-4fe6-f524-99ef7d563edd"
      },
      "outputs": [
        {
          "data": {
            "text/plain": [
              "True"
            ]
          },
          "execution_count": 20,
          "metadata": {},
          "output_type": "execute_result"
        }
      ],
      "source": [
        "EOExtension.has_extension(item)"
      ]
    },
    {
      "cell_type": "code",
      "execution_count": null,
      "metadata": {
        "id": "jpaFw-MIBP5S",
        "outputId": "1c09de87-c55e-4a13-e31d-8f95d555a1ae"
      },
      "outputs": [
        {
          "data": {
            "text/plain": [
              "False"
            ]
          },
          "execution_count": 21,
          "metadata": {},
          "output_type": "execute_result"
        }
      ],
      "source": [
        "LabelExtension.has_extension(item)"
      ]
    },
    {
      "cell_type": "markdown",
      "metadata": {
        "id": "5QDBSJe7BP5S"
      },
      "source": [
        "We can access fields associated with the extension as attributes on the extension instance. For instance, the [\"eo:cloud_cover\" field](https://github.com/stac-extensions/eo#item-properties-or-asset-fields) defined in the Electro-Optical Extension can be accessed using the [EOExtension.cloud_cover](https://pystac.readthedocs.io/en/latest/api.html#pystac.extensions.eo.EOExtension.cloud_cover) attribute."
      ]
    },
    {
      "cell_type": "code",
      "execution_count": null,
      "metadata": {
        "id": "Npqll8fXBP5S",
        "outputId": "47e2fb20-6e38-4676-e055-26fb595363e5"
      },
      "outputs": [
        {
          "data": {
            "text/plain": [
              "22"
            ]
          },
          "execution_count": 22,
          "metadata": {},
          "output_type": "execute_result"
        }
      ],
      "source": [
        "eo_item_ext = EOExtension.ext(item)\n",
        "eo_item_ext.cloud_cover"
      ]
    },
    {
      "cell_type": "markdown",
      "metadata": {
        "id": "G2Xk1v5RBP5S"
      },
      "source": [
        "We can also access the cloud cover field directly in the Item properties."
      ]
    },
    {
      "cell_type": "code",
      "execution_count": null,
      "metadata": {
        "id": "DLRWC6KtBP5S",
        "outputId": "51fd9507-8e1a-4795-8885-b43285446e48"
      },
      "outputs": [
        {
          "data": {
            "text/plain": [
              "22"
            ]
          },
          "execution_count": 23,
          "metadata": {},
          "output_type": "execute_result"
        }
      ],
      "source": [
        "item.properties['eo:cloud_cover']"
      ]
    },
    {
      "cell_type": "markdown",
      "metadata": {
        "id": "QmRv1NzzBP5S"
      },
      "source": [
        "## Access STAC Item's Assets"
      ]
    },
    {
      "cell_type": "markdown",
      "metadata": {
        "id": "rs0nsBVyBP5S"
      },
      "source": [
        "To access the item's assets, we can use the `assets` attribute, which is a dictionary:"
      ]
    },
    {
      "cell_type": "code",
      "execution_count": null,
      "metadata": {
        "id": "vGTp49PrBP5S",
        "outputId": "ebee0563-00ad-425c-b225-c6bda532168b"
      },
      "outputs": [
        {
          "name": "stdout",
          "output_type": "stream",
          "text": [
            "index: https://s3-us-west-2.amazonaws.com/landsat-pds/c1/L8/014/033/LC08_L1TP_014033_20180615_20180703_01_T1/index.html (text/html)\n",
            "thumbnail: https://s3-us-west-2.amazonaws.com/landsat-pds/c1/L8/014/033/LC08_L1TP_014033_20180615_20180703_01_T1/LC08_L1TP_014033_20180615_20180703_01_T1_thumb_large.jpg (image/jpeg)\n",
            "B1: https://s3-us-west-2.amazonaws.com/landsat-pds/c1/L8/014/033/LC08_L1TP_014033_20180615_20180703_01_T1/LC08_L1TP_014033_20180615_20180703_01_T1_B1.TIF (image/tiff)\n",
            "B2: https://s3-us-west-2.amazonaws.com/landsat-pds/c1/L8/014/033/LC08_L1TP_014033_20180615_20180703_01_T1/LC08_L1TP_014033_20180615_20180703_01_T1_B2.TIF (image/tiff)\n",
            "B3: https://s3-us-west-2.amazonaws.com/landsat-pds/c1/L8/014/033/LC08_L1TP_014033_20180615_20180703_01_T1/LC08_L1TP_014033_20180615_20180703_01_T1_B3.TIF (image/tiff)\n",
            "B4: https://s3-us-west-2.amazonaws.com/landsat-pds/c1/L8/014/033/LC08_L1TP_014033_20180615_20180703_01_T1/LC08_L1TP_014033_20180615_20180703_01_T1_B4.TIF (image/tiff)\n",
            "B5: https://s3-us-west-2.amazonaws.com/landsat-pds/c1/L8/014/033/LC08_L1TP_014033_20180615_20180703_01_T1/LC08_L1TP_014033_20180615_20180703_01_T1_B5.TIF (image/tiff)\n",
            "B6: https://s3-us-west-2.amazonaws.com/landsat-pds/c1/L8/014/033/LC08_L1TP_014033_20180615_20180703_01_T1/LC08_L1TP_014033_20180615_20180703_01_T1_B6.TIF (image/tiff)\n",
            "B7: https://s3-us-west-2.amazonaws.com/landsat-pds/c1/L8/014/033/LC08_L1TP_014033_20180615_20180703_01_T1/LC08_L1TP_014033_20180615_20180703_01_T1_B7.TIF (image/tiff)\n",
            "B8: https://s3-us-west-2.amazonaws.com/landsat-pds/c1/L8/014/033/LC08_L1TP_014033_20180615_20180703_01_T1/LC08_L1TP_014033_20180615_20180703_01_T1_B8.TIF (image/tiff)\n",
            "B9: https://s3-us-west-2.amazonaws.com/landsat-pds/c1/L8/014/033/LC08_L1TP_014033_20180615_20180703_01_T1/LC08_L1TP_014033_20180615_20180703_01_T1_B9.TIF (image/tiff)\n",
            "B10: https://s3-us-west-2.amazonaws.com/landsat-pds/c1/L8/014/033/LC08_L1TP_014033_20180615_20180703_01_T1/LC08_L1TP_014033_20180615_20180703_01_T1_B10.TIF (image/tiff)\n",
            "B11: https://s3-us-west-2.amazonaws.com/landsat-pds/c1/L8/014/033/LC08_L1TP_014033_20180615_20180703_01_T1/LC08_L1TP_014033_20180615_20180703_01_T1_B11.TIF (image/tiff)\n",
            "ANG: https://s3-us-west-2.amazonaws.com/landsat-pds/c1/L8/014/033/LC08_L1TP_014033_20180615_20180703_01_T1/LC08_L1TP_014033_20180615_20180703_01_T1_ANG.txt (text/plain)\n",
            "MTL: https://s3-us-west-2.amazonaws.com/landsat-pds/c1/L8/014/033/LC08_L1TP_014033_20180615_20180703_01_T1/LC08_L1TP_014033_20180615_20180703_01_T1_MTL.txt (text/plain)\n",
            "BQA: https://s3-us-west-2.amazonaws.com/landsat-pds/c1/L8/014/033/LC08_L1TP_014033_20180615_20180703_01_T1/LC08_L1TP_014033_20180615_20180703_01_T1_BQA.TIF (image/tiff)\n"
          ]
        }
      ],
      "source": [
        "for asset_key in item.assets:\n",
        "    asset = item.assets[asset_key]\n",
        "    print('{}: {} ({})'.format(asset_key, asset.href, asset.media_type))"
      ]
    },
    {
      "cell_type": "markdown",
      "metadata": {
        "id": "WGgs0t77BP5T"
      },
      "source": [
        "We can use the `to_dict()` method to convert an asset, or any PySTAC object, into a dictionary:"
      ]
    },
    {
      "cell_type": "code",
      "execution_count": null,
      "metadata": {
        "id": "q9KzG_lYBP5T",
        "outputId": "f2fc2195-e773-49d7-ab5f-dea67ec5a9ca"
      },
      "outputs": [
        {
          "data": {
            "text/plain": [
              "{'href': 'https://s3-us-west-2.amazonaws.com/landsat-pds/c1/L8/014/033/LC08_L1TP_014033_20180615_20180703_01_T1/LC08_L1TP_014033_20180615_20180703_01_T1_B3.TIF',\n",
              " 'type': 'image/tiff',\n",
              " 'title': 'Band 3 (green)',\n",
              " 'eo:bands': [{'name': 'B3',\n",
              "   'full_width_half_max': 0.06,\n",
              "   'center_wavelength': 0.56,\n",
              "   'common_name': 'green'}],\n",
              " 'roles': []}"
            ]
          },
          "execution_count": 25,
          "metadata": {},
          "output_type": "execute_result"
        }
      ],
      "source": [
        "asset = item.assets['B3']\n",
        "asset.to_dict()"
      ]
    },
    {
      "cell_type": "markdown",
      "metadata": {
        "id": "5KPWJyZTBP5T"
      },
      "source": [
        "Here, we use the `eo Extension` to get the band information for the asset:"
      ]
    },
    {
      "cell_type": "code",
      "execution_count": null,
      "metadata": {
        "id": "OBav7DXBBP5T",
        "outputId": "01e0da33-b4d0-4cfb-e07c-e8c5a194e517"
      },
      "outputs": [
        {
          "data": {
            "text/plain": [
              "[<Band name=B3>]"
            ]
          },
          "execution_count": 26,
          "metadata": {},
          "output_type": "execute_result"
        }
      ],
      "source": [
        "eo_asset_ext = EOExtension.ext(asset)\n",
        "bands = eo_asset_ext.bands\n",
        "bands"
      ]
    },
    {
      "cell_type": "code",
      "execution_count": null,
      "metadata": {
        "id": "nPTqHDV6BP5T",
        "outputId": "63bf3f7b-a39e-4622-db04-fa446da37ab6"
      },
      "outputs": [
        {
          "data": {
            "text/plain": [
              "{'name': 'B3',\n",
              " 'full_width_half_max': 0.06,\n",
              " 'center_wavelength': 0.56,\n",
              " 'common_name': 'green'}"
            ]
          },
          "execution_count": 27,
          "metadata": {},
          "output_type": "execute_result"
        }
      ],
      "source": [
        "bands[0].to_dict()"
      ]
    },
    {
      "cell_type": "markdown",
      "metadata": {
        "id": "61zutvS_BP5T"
      },
      "source": [
        "You have now successfully explored the common components of an existing STAC Catalog. To learn how to write your own STAC Catalog, see the [following tutorial](/en/tutorials/2-create-stac-catalog-python/index.html)."
      ]
    },
    {
      "cell_type": "markdown",
      "metadata": {
        "id": "tX5PT9IYBP5T"
      },
      "source": [
        "#### Join the conversation\n",
        "If you have any questions, you’re welcome to ask our community on [CNG Discourse](https://cng.discourse.group/c/stac/15)."
      ]
    },
    {
      "cell_type": "code",
      "source": [
        "! pip install terracatalogueclient"
      ],
      "metadata": {
        "id": "7QuRaYprBzP0",
        "outputId": "4efcd4ae-c9f4-471b-b81f-3a0306177d99",
        "colab": {
          "base_uri": "https://localhost:8080/"
        }
      },
      "execution_count": 1,
      "outputs": [
        {
          "output_type": "stream",
          "name": "stdout",
          "text": [
            "Collecting terracatalogueclient\n",
            "  Downloading terracatalogueclient-0.1.19-py3-none-any.whl.metadata (2.4 kB)\n",
            "Requirement already satisfied: requests in /usr/local/lib/python3.11/dist-packages (from terracatalogueclient) (2.32.3)\n",
            "Collecting requests-auth~=6.0 (from terracatalogueclient)\n",
            "  Downloading requests_auth-6.0.0-py3-none-any.whl.metadata (92 kB)\n",
            "\u001b[2K     \u001b[90m━━━━━━━━━━━━━━━━━━━━━━━━━━━━━━━━━━━━━━━━\u001b[0m \u001b[32m92.4/92.4 kB\u001b[0m \u001b[31m2.3 MB/s\u001b[0m eta \u001b[36m0:00:00\u001b[0m\n",
            "\u001b[?25hRequirement already satisfied: shapely in /usr/local/lib/python3.11/dist-packages (from terracatalogueclient) (2.1.1)\n",
            "Collecting humanfriendly (from terracatalogueclient)\n",
            "  Downloading humanfriendly-10.0-py2.py3-none-any.whl.metadata (9.2 kB)\n",
            "Collecting boto3 (from terracatalogueclient)\n",
            "  Downloading boto3-1.39.2-py3-none-any.whl.metadata (6.6 kB)\n",
            "Requirement already satisfied: charset-normalizer<4,>=2 in /usr/local/lib/python3.11/dist-packages (from requests->terracatalogueclient) (3.4.2)\n",
            "Requirement already satisfied: idna<4,>=2.5 in /usr/local/lib/python3.11/dist-packages (from requests->terracatalogueclient) (3.10)\n",
            "Requirement already satisfied: urllib3<3,>=1.21.1 in /usr/local/lib/python3.11/dist-packages (from requests->terracatalogueclient) (2.4.0)\n",
            "Requirement already satisfied: certifi>=2017.4.17 in /usr/local/lib/python3.11/dist-packages (from requests->terracatalogueclient) (2025.6.15)\n",
            "Collecting botocore<1.40.0,>=1.39.2 (from boto3->terracatalogueclient)\n",
            "  Downloading botocore-1.39.2-py3-none-any.whl.metadata (5.7 kB)\n",
            "Collecting jmespath<2.0.0,>=0.7.1 (from boto3->terracatalogueclient)\n",
            "  Downloading jmespath-1.0.1-py3-none-any.whl.metadata (7.6 kB)\n",
            "Collecting s3transfer<0.14.0,>=0.13.0 (from boto3->terracatalogueclient)\n",
            "  Downloading s3transfer-0.13.0-py3-none-any.whl.metadata (1.7 kB)\n",
            "Requirement already satisfied: numpy>=1.21 in /usr/local/lib/python3.11/dist-packages (from shapely->terracatalogueclient) (2.0.2)\n",
            "Requirement already satisfied: python-dateutil<3.0.0,>=2.1 in /usr/local/lib/python3.11/dist-packages (from botocore<1.40.0,>=1.39.2->boto3->terracatalogueclient) (2.9.0.post0)\n",
            "Requirement already satisfied: six>=1.5 in /usr/local/lib/python3.11/dist-packages (from python-dateutil<3.0.0,>=2.1->botocore<1.40.0,>=1.39.2->boto3->terracatalogueclient) (1.17.0)\n",
            "Downloading terracatalogueclient-0.1.19-py3-none-any.whl (14 kB)\n",
            "Downloading requests_auth-6.0.0-py3-none-any.whl (25 kB)\n",
            "Downloading boto3-1.39.2-py3-none-any.whl (139 kB)\n",
            "\u001b[2K   \u001b[90m━━━━━━━━━━━━━━━━━━━━━━━━━━━━━━━━━━━━━━━━\u001b[0m \u001b[32m139.9/139.9 kB\u001b[0m \u001b[31m6.8 MB/s\u001b[0m eta \u001b[36m0:00:00\u001b[0m\n",
            "\u001b[?25hDownloading humanfriendly-10.0-py2.py3-none-any.whl (86 kB)\n",
            "\u001b[2K   \u001b[90m━━━━━━━━━━━━━━━━━━━━━━━━━━━━━━━━━━━━━━━━\u001b[0m \u001b[32m86.8/86.8 kB\u001b[0m \u001b[31m6.9 MB/s\u001b[0m eta \u001b[36m0:00:00\u001b[0m\n",
            "\u001b[?25hDownloading botocore-1.39.2-py3-none-any.whl (13.8 MB)\n",
            "\u001b[2K   \u001b[90m━━━━━━━━━━━━━━━━━━━━━━━━━━━━━━━━━━━━━━━━\u001b[0m \u001b[32m13.8/13.8 MB\u001b[0m \u001b[31m55.5 MB/s\u001b[0m eta \u001b[36m0:00:00\u001b[0m\n",
            "\u001b[?25hDownloading jmespath-1.0.1-py3-none-any.whl (20 kB)\n",
            "Downloading s3transfer-0.13.0-py3-none-any.whl (85 kB)\n",
            "\u001b[2K   \u001b[90m━━━━━━━━━━━━━━━━━━━━━━━━━━━━━━━━━━━━━━━━\u001b[0m \u001b[32m85.2/85.2 kB\u001b[0m \u001b[31m7.0 MB/s\u001b[0m eta \u001b[36m0:00:00\u001b[0m\n",
            "\u001b[?25hInstalling collected packages: jmespath, humanfriendly, requests-auth, botocore, s3transfer, boto3, terracatalogueclient\n",
            "Successfully installed boto3-1.39.2 botocore-1.39.2 humanfriendly-10.0 jmespath-1.0.1 requests-auth-6.0.0 s3transfer-0.13.0 terracatalogueclient-0.1.19\n"
          ]
        }
      ]
    },
    {
      "cell_type": "code",
      "source": [
        "from terracatalogueclient import Catalogue\n",
        "catalogue = Catalogue()"
      ],
      "metadata": {
        "id": "bBuv4wa1CgeW"
      },
      "execution_count": 2,
      "outputs": []
    },
    {
      "cell_type": "code",
      "source": [
        "from terracatalogueclient import Catalogue\n",
        "catalogue = Catalogue().authenticate_non_interactive(\"aquatics\", \"Welcome!\")"
      ],
      "metadata": {
        "id": "TcIuutMcChD8"
      },
      "execution_count": 5,
      "outputs": []
    },
    {
      "cell_type": "code",
      "source": [
        "collections = catalogue.get_collections()\n",
        "for c in collections:\n",
        "    print(f\"{c.id} - {c.properties['title']}\")"
      ],
      "metadata": {
        "id": "75BqU4vUC9O1",
        "outputId": "2e0068d9-a593-4590-b56a-ac3c090e1604",
        "colab": {
          "base_uri": "https://localhost:8080/"
        }
      },
      "execution_count": 6,
      "outputs": [
        {
          "output_type": "stream",
          "name": "stdout",
          "text": [
            "urn:eop:VITO:CGS_S1_GRD_L1 - Sentinel-1 Level-1 Ground Range Detected (GRD) products\n",
            "urn:eop:VITO:CGS_S1_GRD_SIGMA0_L1 - Sentinel-1 Level-1 Ground Range Detected (GRD) SIGMA0 products\n",
            "urn:eop:VITO:CGS_S1_SLC_L1 - Sentinel-1 Level-1 Single Look Complex (SLC) products.\n",
            "urn:eop:VITO:CGS_S2_L1C - Sentinel-2 Level-1C MSI product contains Top-of-atmosphere reflectances in cartographic geometry\n",
            "urn:eop:VITO:COP_DEM_EU_25M - Copernicus European Digital Elevation Model (EU-DEM), version 1.1 in 25m resolution\n",
            "urn:eop:VITO:COP_DEM_GLO_30M_COG - Copernicus Global 30 meter Digital Elevation Model dataset in COG format  \n",
            "urn:eop:VITO:COP_DEM_GLO_90M_COG - Copernicus Global 90 meter Digital Elevation Model dataset in COG format\n",
            "urn:eop:VITO:ESA_WORLDCEREAL_ACTIVECROPLAND_V1 - ESA WorldCereal products for active cropland per agro-ecological zone - V1\n",
            "urn:eop:VITO:ESA_WORLDCEREAL_IRRIGATION_V1 - ESA WorldCereal products for active irrigation per agro-ecological zone - V1\n",
            "urn:eop:VITO:ESA_WORLDCEREAL_MAIZE_V1 - ESA WorldCereal products for maize per agro-ecological zone - V1\n",
            "urn:eop:VITO:ESA_WORLDCEREAL_SPRINGCEREALS_V1 - ESA WorldCereal products for springcereals per agro-ecological zone - V1\n",
            "urn:eop:VITO:ESA_WORLDCEREAL_TEMPORARYCROPS_V1 - ESA WorldCereal products for temporary crops per agro-ecological zone - V1\n",
            "urn:eop:VITO:ESA_WORLDCEREAL_WINTERCEREALS_V1 - ESA WorldCereal products for wintercereals per agro-ecological zone - V1\n",
            "urn:eop:VITO:ESA_WorldCover_10m_2020_AWS_V1 - ESA WorldCover products 10 meter COG format on AWS\n",
            "urn:eop:VITO:ESA_WorldCover_10m_2020_V1 - ESA WorldCover 2020 products 10 meter COG format  \n",
            "urn:eop:VITO:ESA_WorldCover_10m_2021_AWS_V2 - ESA WorldCover 2021 products 10 meter COG format on AWS\n",
            "urn:eop:VITO:ESA_WorldCover_10m_2021_V2 - ESA WorldCover 2021 products 10 meter COG format\n",
            "urn:eop:VITO:ESA_WorldCover_NDVI_10m_2020_V1 - ESA WorldCover Sentinel-2 yearly NDVI percentiles color composite 2020, 10 meter COG format\n",
            "urn:eop:VITO:ESA_WorldCover_NDVI_10m_2021_V2 - ESA WorldCover Sentinel-2 yearly NDVI percentiles color composite 2021, 10 meter COG format\n",
            "urn:eop:VITO:ESA_WorldCover_S1VVVHratio_10m_2020_V1 - ESA WorldCover Sentinel-1 color image 2020, 10 meter COG format\n",
            "urn:eop:VITO:ESA_WorldCover_S1VVVHratio_10m_2021_V2 - ESA WorldCover Sentinel-1 color image 2021, 10 meter COG format\n",
            "urn:eop:VITO:ESA_WorldCover_S2RGBNIR_10m_2020_V1 - ESA WorldCover Sentinel-2 color image 2020, 10 meter COG format\n",
            "urn:eop:VITO:ESA_WorldCover_S2RGBNIR_10m_2021_V2 - ESA WorldCover Sentinel-2 color image 2021, 10 meter COG format\n",
            "urn:eop:VITO:ESA_WorldCover_SWIR_10m_2020_V1 - ESA WorldCover Sentinel-2 yearly SWIR median composite 2020, 10 meter COG format\n",
            "urn:eop:VITO:ESA_WorldCover_SWIR_10m_2021_V2 - ESA WorldCover Sentinel-2 yearly SWIR median composite 2021, 10 meter COG format\n",
            "urn:eop:VITO:MAPEO_WATER_CHL_V1 - MapEO Water Chlorophyll-a (CHL) Products - V1\n",
            "urn:eop:VITO:MAPEO_WATER_RHOW_V1 - MapEO Water Water-Leaving Reflectance (RHOW) Products - V1\n",
            "urn:eop:VITO:MAPEO_WATER_SPM_V1 - MapEO Water Suspended Particulate Matter (SPM) Products - V1\n",
            "urn:eop:VITO:MAPEO_WATER_TUR_V1 - MapEO Water Turbidity (TUR) Products - V1\n",
            "urn:eop:VITO:PROBAV_L1C_HDF_V2 - PROBA-V L1C: radiometrically corrected raw data, given per strip/camera, HDF format - Collection 2\n",
            "urn:eop:VITO:PROBAV_L2A_100M_ANTAR_COG_V1 - PROBA-V L2A: 100M projected segment data over Antarctica, COG format - Collection 1\n",
            "urn:eop:VITO:PROBAV_L2A_100M_ANTAR_HDF_V1 - PROBA-V L2A: 100M projected segment data over Antarctica, HDF format - Collection 1\n",
            "urn:eop:VITO:PROBAV_L2A_100M_COG_V2 - PROBA-V L2A: 100M projected segment data, COG format - Collection 2\n",
            "urn:eop:VITO:PROBAV_L2A_100M_HDF_V2 - PROBA-V L2A: 100M projected segment data, HDF format - Collection 2\n",
            "urn:eop:VITO:PROBAV_L2A_1KM_ANTAR_COG_V1 - PROBA-V L2A: 1KM projected segment data over Antarctica, COG format - Collection 1\n",
            "urn:eop:VITO:PROBAV_L2A_1KM_ANTAR_HDF_V1 - PROBA-V L2A: 1KM projected segment data over Antarctica, HDF format - Collection 1\n",
            "urn:eop:VITO:PROBAV_L2A_1KM_COG_V2 - PROBA-V L2A: 1KM projected segment data, COG format - Collection 2\n",
            "urn:eop:VITO:PROBAV_L2A_1KM_HDF_V2 - PROBA-V L2A: 1KM projected segment data, HDF format - Collection 2\n",
            "urn:eop:VITO:PROBAV_L2A_333M_ANTAR_COG_V1 - PROBA-V L2A: 300M projected segment data over Antarctica, COG format - Collection 1\n",
            "urn:eop:VITO:PROBAV_L2A_333M_ANTAR_HDF_V1 - PROBA-V L2A: 300M projected segment data over antarctica, HDF format- Collection 1\n",
            "urn:eop:VITO:PROBAV_L2A_333M_COG_V2 - PROBA-V L2A: 300M projected segment data, COG format - Collection 2\n",
            "urn:eop:VITO:PROBAV_L2A_333M_HDF_V2 - PROBA-V L2A: 300M projected segment data, HDF format- Collection 2\n",
            "urn:eop:VITO:PROBAV_S10_TOC_1KM_COG_V2 - PROBA-V S10 TOC 1 km COG: 10-day synthesis of S1s as Maximum Value Compositing (MVC), COG format - Collection 2\n",
            "urn:eop:VITO:PROBAV_S10_TOC_1KM_HDF_V2 - PROBA-V S10 TOC 1 km HDF: 10-day synthesis of S1s as Maximum Value Compositing (MVC), HDF format - Collection 2\n",
            "urn:eop:VITO:PROBAV_S10_TOC_333M_COG_V2 - PROBA-V S10 TOC 300 m COG: Decadal synthesis of S1's as Maximum Value Compositing (MVC), COG format - Collection 2\n",
            "urn:eop:VITO:PROBAV_S10_TOC_333M_HDF_V2 - PROBA-V S10 TOC 300 m HDF: Decadal synthesis of S1's as Maximum Value Compositing (MVC), HDF format - Collection 2\n",
            "urn:eop:VITO:PROBAV_S10_TOC_NDVI_1KM_COG_V2 - PROBA-V S10 TOC NDVI 1 km COG: 10-day NDVI synthesis of S1s as Maximum Value Compositing (MVC), COG format, COG format - Collection 2\n",
            "urn:eop:VITO:PROBAV_S10_TOC_NDVI_1KM_HDF_V2 - PROBA-V S10 TOC NDVI 1 km HDF: 10-day NDVI synthesis of S1s as Maximum Value Compositing (MVC), HDF format- Collection 2\n",
            "urn:eop:VITO:PROBAV_S10_TOC_NDVI_333M_COG_V2 - PROBA-V S10 TOC NDVI 300 m COG: 10-day synthesis of S1s TOC as Maximum Value Compositing (MVC), COG format - Collection 2\n",
            "urn:eop:VITO:PROBAV_S10_TOC_NDVI_333M_HDF_V2 - PROBA-V S10 TOC NDVI 300 m HDF: 10-day synthesis of S1s TOC as Maximum Value Compositing (MVC), HDF format - Collection 2\n",
            "urn:eop:VITO:PROBAV_S1_TOA_100M_COG_V2 - PROBA-V S1 TOA 100m COG: 100 m resolution best-quality daily synthesis, COG format. Maximum Value Compositing (MVC) is applied - Collection 2\n",
            "urn:eop:VITO:PROBAV_S1_TOA_100M_HDF_V2 - PROBA-V S1 TOA 100 m HDF: 100 m resolution best-quality daily synthesis, HDF format. Maximum Value Compositing (MVC) is applied - Collection 2\n",
            "urn:eop:VITO:PROBAV_S1_TOA_1KM_COG_V2 - PROBA-V S1 TOA 1 km COG: 1 km resolution best-quality daily synthesis, COG format. Maximum Value Compositing (MVC) is applied - Collection 2\n",
            "urn:eop:VITO:PROBAV_S1_TOA_1KM_HDF_V2 - PROBA-V S1 TOA 1 km HDF: 1 km resolution best-quality daily synthesis, HDF format. Maximum Value Compositing (MVC) is applied - Collection 2\n",
            "urn:eop:VITO:PROBAV_S1_TOA_333M_COG_V2 - PROBA-V S1 TOA 300 m COG: 300 m resolution best-quality daily synthesis, COG format. Maximum Value Compositing (MVC) is applied - Collection 2\n",
            "urn:eop:VITO:PROBAV_S1_TOA_333M_HDF_V2 - PROBA-V S1 TOA 300 m HDF: 300 m resolution best-quality daily synthesis, HDF format. Maximum Value Compositing (MVC) is applied - Collection 2\n",
            "urn:eop:VITO:PROBAV_S1_TOC_100M_COG_V2 - PROBA-V S1 TOC 100 m COG: Data corrected for atmospheric effects with the SMAC (Simplified Method for Atmosheric Corrections) algorithm, COG format - Collection 2\n",
            "urn:eop:VITO:PROBAV_S1_TOC_100M_HDF_V2 - PROBA-V S1 TOC 100 m HDF: Data corrected for atmospheric effects with the SMAC (Simplified Method for Atmosheric Corrections) algorithm, HDF format - Collection 2\n",
            "urn:eop:VITO:PROBAV_S1_TOC_1KM_COG_V2 - PROBA-V S1 TOC 1 km COG: Data corrected for atmospheric effects with the SMAC (Simplified Method for Atmosheric Corrections) algorithm, COG format - Collection 2\n",
            "urn:eop:VITO:PROBAV_S1_TOC_1KM_HDF_V2 - PROBA-V S1 TOC 1 km HDF: Data corrected for atmospheric effects with the SMAC (Simplified Method for Atmosheric Corrections) algorithm, HDF format - Collection 2\n",
            "urn:eop:VITO:PROBAV_S1_TOC_333M_COG_V2 - PROBA-V S1 TOC 300 m COG: Data corrected for atmospheric effects with the SMAC (Simplified Method for Atmosheric Corrections) algorithm, COG format - Collection 2\n",
            "urn:eop:VITO:PROBAV_S1_TOC_333M_HDF_V2 - PROBA-V S1 TOC 300 m HDF: Data corrected for atmospheric effects with the SMAC (Simplified Method for Atmosheric Corrections) algorithm, HDF format - Collection 2\n",
            "urn:eop:VITO:PROBAV_S1_TOC_NDVI_100M_COG_V2 - PROBA-V S1 TOC NDVI 100 m COG: Data corrected for atmospheric effects with the SMAC (Simplified Method for Atmosheric Corrections) algorithm, COG format - Collection 2\n",
            "urn:eop:VITO:PROBAV_S1_TOC_NDVI_100M_HDF_V2 - PROBA-V S1 NDVI TOC 100 m HDF: Data corrected for atmospheric effects with the SMAC (Simplified Method for Atmosheric Corrections) algorithm, HDF format - Collection 2\n",
            "urn:eop:VITO:PROBAV_S5_TOA_100M_COG_V2 - PROBA-V S5 TOA 100 m COG: 100 m resolution best-quality daily synthesis, COG format. Maximum Value Compositing (MVC) is applied - Collection 2\n",
            "urn:eop:VITO:PROBAV_S5_TOA_100M_HDF_V2 - PROBA-V S5 TOA 100 m HDF: 100 m resolution best-quality 5-daily synthesis, HDF format. Maximum Value Compositing (MVC) is applied - Collection 2\n",
            "urn:eop:VITO:PROBAV_S5_TOC_100M_COG_V2 - PROBA-V S5 TOC 100 m COG: Data corrected for atmospheric effects with the SMAC (Simplified Method for Atmosheric Corrections) algorithm, COG format - Collection 2\n",
            "urn:eop:VITO:PROBAV_S5_TOC_100M_HDF_V2 - PROBA-V S5 TOC 100 m HDF: Data corrected for atmospheric effects with the SMAC (Simplified Method for Atmosheric Corrections) algorithm, HDF format - Collection 2\n",
            "urn:eop:VITO:PROBAV_S5_TOC_NDVI_100M_COG_V2 - PROBA-V S5 TOC NDVI 100 m COG: Data corrected for atmospheric effects with the SMAC (Simplified Method for Atmosheric Corrections) algorithm, COG format - Collection 2\n",
            "urn:eop:VITO:PROBAV_S5_TOC_NDVI_100M_HDF_V2 - PROBA-V S5 TOC NDVI 100 m HDF: Data corrected for atmospheric effects with the SMAC (Simplified Method for Atmosheric Corrections) algorithm, HDF format - Collection 2\n",
            "urn:eop:VITO:TERRASCOPE_S1_SLC_COHERENCE_V1 - Sentinel-1 Level-1 Single Look Complex (SLC) Coherence products.\n",
            "urn:eop:VITO:TERRASCOPE_S2_CCC_V2 - Sentinel-2 Chlorophyll Canopy Content Index (CCC) (tiles) - V2\n",
            "urn:eop:VITO:TERRASCOPE_S2_CHL_V1 - Sentinel-2 Chlorophyll-a (CHL) (tiles) - V1\n",
            "urn:eop:VITO:TERRASCOPE_S2_CWC_V2 - Sentinel-2 Chlorophyll Water Content Index (CWC) (tiles) - V2\n",
            "urn:eop:VITO:TERRASCOPE_S2_FAPAR_V2 - Sentinel-2 Fraction Absorbed Photosynthetically Radiation (FAPAR) (tiles) - V2\n",
            "urn:eop:VITO:TERRASCOPE_S2_FCOVER_V2 - Sentinel-2 Fraction of Vegetation Cover (FCOVER) (tiles) - V2\n",
            "urn:eop:VITO:TERRASCOPE_S2_LAI_V2 - Sentinel-2 Leaf Area index (LAI) (tiles) - V2\n",
            "urn:eop:VITO:TERRASCOPE_S2_NDVI_V2 - Sentinel-2 Normalized Difference Vegetation Index (NDVI) (tiles) - V2\n",
            "urn:eop:VITO:TERRASCOPE_S2_RHOW_V1 - Sentinel-2 Water-Leaving Reflectance (RHOW) Products (tiles) - V1\n",
            "urn:eop:VITO:TERRASCOPE_S2_SPM_V1 - Sentinel-2 Suspended Particulate Matter (SPM) (tiles) - V1\n",
            "urn:eop:VITO:TERRASCOPE_S2_TOC_V2 - Sentinel-2 Top of Canopy (TOC) Products (tiles) - V2\n",
            "urn:eop:VITO:TERRASCOPE_S2_TUR_V1 - Sentinel-2 Turbidity (TUR) (tiles) - V1\n",
            "urn:eop:VITO:TERRASCOPE_S3_LST_3_S10_V1 - Sentinel-3 Level 3 Land Surface Temperature 10-daily synthesis product - V1\n",
            "urn:eop:VITO:TERRASCOPE_S3_LST_3_S1_V1 - Sentinel-3 Level 3 Land Surface Temperature daily synthesis product - V1\n",
            "urn:eop:VITO:TERRASCOPE_S3_SY_2_V10_V1 - Sentinel-3 Level 2 Synergy 1 km VEGETATION-Like 10-daily synthesis TOC reflectance and NDVI  - V1\n",
            "urn:eop:VITO:TERRASCOPE_S3_SY_2_VG1_V1 - Sentinel-3 Level 2 Synergy 1 km VEGETATION-Like daily synthesis TOC reflectance and NDVI  - V1\n",
            "urn:eop:VITO:TERRASCOPE_S5P_L3_CH4_TD_V1 - Sentinel-5P Level-3 CH4 Daily Product - V1\n",
            "urn:eop:VITO:TERRASCOPE_S5P_L3_CH4_TD_V2 - Sentinel-5P Level-3 CH4 Daily Product - V2\n",
            "urn:eop:VITO:TERRASCOPE_S5P_L3_CH4_TM_V1 - Sentinel-5P Level-3 CH4 Monthly Product - V1\n",
            "urn:eop:VITO:TERRASCOPE_S5P_L3_CH4_TM_V2 - Sentinel-5P Level-3 CH4 Monthly Product - V2\n",
            "urn:eop:VITO:TERRASCOPE_S5P_L3_CH4_TY_V1 - Sentinel-5P Level-3 CH4 Yearly Product - V1\n",
            "urn:eop:VITO:TERRASCOPE_S5P_L3_CH4_TY_V2 - Sentinel-5P Level-3 CH4 Yearly Product - V2\n",
            "urn:eop:VITO:TERRASCOPE_S5P_L3_CO_TD_V1 - Sentinel-5P Level-3 CO Daily Product - V1\n",
            "urn:eop:VITO:TERRASCOPE_S5P_L3_CO_TD_V2 - Sentinel-5P Level-3 CO Daily Product - V2\n",
            "urn:eop:VITO:TERRASCOPE_S5P_L3_CO_TM_V1 - Sentinel-5P Level-3 CO Monthly Product - V1\n",
            "urn:eop:VITO:TERRASCOPE_S5P_L3_CO_TM_V2 - Sentinel-5P Level-3 CO Monthly Product - V2\n",
            "urn:eop:VITO:TERRASCOPE_S5P_L3_CO_TY_V1 - Sentinel-5P Level-3 CO Yearly Product - V1\n",
            "urn:eop:VITO:TERRASCOPE_S5P_L3_CO_TY_V2 - Sentinel-5P Level-3 CO Yearly Product - V2\n",
            "urn:eop:VITO:TERRASCOPE_S5P_L3_HCHO_TD_V1 - Sentinel-5P Level-3 HCHO Daily Product - V1\n",
            "urn:eop:VITO:TERRASCOPE_S5P_L3_HCHO_TD_V2 - Sentinel-5P Level-3 HCHO Daily Product - V2\n",
            "urn:eop:VITO:TERRASCOPE_S5P_L3_HCHO_TM_V1 - Sentinel-5P Level-3 HCHO Monthly Product\n",
            "urn:eop:VITO:TERRASCOPE_S5P_L3_HCHO_TM_V2 - Sentinel-5P Level-3 HCHO Monthly Product - V2\n",
            "urn:eop:VITO:TERRASCOPE_S5P_L3_HCHO_TY_V1 - Sentinel-5P Level-3 HCHO Yearly Product\n",
            "urn:eop:VITO:TERRASCOPE_S5P_L3_HCHO_TY_V2 - Sentinel-5P Level-3 HCHO Yearly Product - V2\n",
            "urn:eop:VITO:TERRASCOPE_S5P_L3_NO2_CAMS_TD_V2 - Sentinel-5P Level-3 NO2 from CAMS Daily Product - V2\n",
            "urn:eop:VITO:TERRASCOPE_S5P_L3_NO2_CAMS_TM_V2 - Sentinel-5P Level-3 NO2 from CAMS Monthly Product - V2\n",
            "urn:eop:VITO:TERRASCOPE_S5P_L3_NO2_CAMS_TY_V2 - Sentinel-5P Level-3 NO2 from CAMS Yearly Product - V2\n",
            "urn:eop:VITO:TERRASCOPE_S5P_L3_NO2_SURFACE_TD_V2 - Sentinel-5P Level-3 NO2 Surface Daily Product - V2\n",
            "urn:eop:VITO:TERRASCOPE_S5P_L3_NO2_SURFACE_TM_V2 - Sentinel-5P Level-3 NO2 Surface Monthly Product - V2\n",
            "urn:eop:VITO:TERRASCOPE_S5P_L3_NO2_SURFACE_TY_V2 - Sentinel-5P Level-3 NO2 Surface Yearly Product - V2\n",
            "urn:eop:VITO:TERRASCOPE_S5P_L3_NO2_TD_V1 - Sentinel-5P Level-3 NO2 Daily Product\n",
            "urn:eop:VITO:TERRASCOPE_S5P_L3_NO2_TD_V2 - Sentinel-5P Level-3 NO2 Daily Product - V2\n",
            "urn:eop:VITO:TERRASCOPE_S5P_L3_NO2_TM_V1 - Sentinel-5P Level-3 NO2 Monthly Product\n",
            "urn:eop:VITO:TERRASCOPE_S5P_L3_NO2_TM_V2 - Sentinel-5P Level-3 NO2 Monthly Product V2\n",
            "urn:eop:VITO:TERRASCOPE_S5P_L3_NO2_TY_V1 - Sentinel-5P Level-3 NO2 Yearly Product\n",
            "urn:eop:VITO:TERRASCOPE_S5P_L3_NO2_TY_V2 - Sentinel-5P Level-3 NO2 Yearly Product - V2\n",
            "urn:eop:VITO:TERRASCOPE_S5P_L3_SO2CBR_TD_V2 - Sentinel-5P Level-3 SO2CBR Daily Product, version 2\n",
            "urn:eop:VITO:TERRASCOPE_S5P_L3_SO2CBR_TM_V2 - Sentinel-5P Level-3 SO2CBR Monthly Product, version 2\n",
            "urn:eop:VITO:TERRASCOPE_S5P_L3_SO2CBR_TY_V2 - Sentinel-5P Level-3 SO2CBR Yearly Product, version 2\n",
            "urn:ogc:def:EOP:VITO:VGT_P - Physical products of SPOT VEGETATION (VGT-P)\n",
            "urn:ogc:def:EOP:VITO:VGT_S1 - Global 1 Day Synthesis of SPOT VEGETATION Images (VGT-S1)\n",
            "urn:ogc:def:EOP:VITO:VGT_S10 - Global 10 Days Synthesis of SPOT VEGETATION Images (VGT-S10)\n"
          ]
        }
      ]
    },
    {
      "cell_type": "markdown",
      "source": [
        "Query products:"
      ],
      "metadata": {
        "id": "nMFA1weBDQds"
      }
    },
    {
      "cell_type": "code",
      "source": [
        "import datetime as dt\n",
        "products = catalogue.get_products(\n",
        "    \"urn:eop:VITO:TERRASCOPE_S2_NDVI_V2\",\n",
        "    start=dt.date(2021, 5, 1),\n",
        "    end=dt.date(2021, 6, 1),\n",
        "    tileId=\"31UGS\",\n",
        "    accessedFrom=\"HTTP\"\n",
        ")\n",
        "for product in products:\n",
        "    print(product.title)\n",
        "    for data in product.data:\n",
        "      print(data.href)\n",
        "#products_list = list(products)"
      ],
      "metadata": {
        "id": "vMiuW5f7DTNk",
        "outputId": "cac257f5-9768-4e2b-a569-7ea960791850",
        "colab": {
          "base_uri": "https://localhost:8080/"
        }
      },
      "execution_count": 23,
      "outputs": [
        {
          "output_type": "stream",
          "name": "stdout",
          "text": [
            "S2A_20210502T104021_31UGS_NDVI_10M_V210\n",
            "https://services.terrascope.be/download/Sentinel2/NDVI_V2/2021/05/02/S2A_20210502T104021_31UGS_NDVI_V210/S2A_20210502T104021_31UGS_NDVI_10M_V210.tif\n",
            "S2A_20210505T105031_31UGS_NDVI_10M_V200\n",
            "https://services.terrascope.be/download/Sentinel2/NDVI_V2/2021/05/05/S2A_20210505T105031_31UGS_NDVI_V200/S2A_20210505T105031_31UGS_NDVI_10M_V200.tif\n",
            "S2A_20210509T103021_31UGS_NDVI_10M_V200\n",
            "https://services.terrascope.be/download/Sentinel2/NDVI_V2/2021/05/09/S2A_20210509T103021_31UGS_NDVI_V200/S2A_20210509T103021_31UGS_NDVI_10M_V200.tif\n",
            "S2A_20210512T104021_31UGS_NDVI_10M_V200\n",
            "https://services.terrascope.be/download/Sentinel2/NDVI_V2/2021/05/12/S2A_20210512T104021_31UGS_NDVI_V200/S2A_20210512T104021_31UGS_NDVI_10M_V200.tif\n",
            "S2A_20210519T103021_31UGS_NDVI_10M_V210\n",
            "https://services.terrascope.be/download/Sentinel2/NDVI_V2/2021/05/19/S2A_20210519T103021_31UGS_NDVI_V210/S2A_20210519T103021_31UGS_NDVI_10M_V210.tif\n",
            "S2A_20210522T104021_31UGS_NDVI_10M_V210\n",
            "https://services.terrascope.be/download/Sentinel2/NDVI_V2/2021/05/22/S2A_20210522T104021_31UGS_NDVI_V210/S2A_20210522T104021_31UGS_NDVI_10M_V210.tif\n",
            "S2A_20210525T105031_31UGS_NDVI_10M_V210\n",
            "https://services.terrascope.be/download/Sentinel2/NDVI_V2/2021/05/25/S2A_20210525T105031_31UGS_NDVI_V210/S2A_20210525T105031_31UGS_NDVI_10M_V210.tif\n",
            "S2A_20210529T103021_31UGS_NDVI_10M_V210\n",
            "https://services.terrascope.be/download/Sentinel2/NDVI_V2/2021/05/29/S2A_20210529T103021_31UGS_NDVI_V210/S2A_20210529T103021_31UGS_NDVI_10M_V210.tif\n",
            "S2B_20210504T102559_31UGS_NDVI_10M_V200\n",
            "https://services.terrascope.be/download/Sentinel2/NDVI_V2/2021/05/04/S2B_20210504T102559_31UGS_NDVI_V200/S2B_20210504T102559_31UGS_NDVI_10M_V200.tif\n",
            "S2B_20210507T103619_31UGS_NDVI_10M_V210\n",
            "https://services.terrascope.be/download/Sentinel2/NDVI_V2/2021/05/07/S2B_20210507T103619_31UGS_NDVI_V210/S2B_20210507T103619_31UGS_NDVI_10M_V210.tif\n",
            "S2B_20210514T102559_31UGS_NDVI_10M_V200\n",
            "https://services.terrascope.be/download/Sentinel2/NDVI_V2/2021/05/14/S2B_20210514T102559_31UGS_NDVI_V200/S2B_20210514T102559_31UGS_NDVI_10M_V200.tif\n",
            "S2B_20210517T103619_31UGS_NDVI_10M_V200\n",
            "https://services.terrascope.be/download/Sentinel2/NDVI_V2/2021/05/17/S2B_20210517T103619_31UGS_NDVI_V200/S2B_20210517T103619_31UGS_NDVI_10M_V200.tif\n",
            "S2B_20210520T104619_31UGS_NDVI_10M_V210\n",
            "https://services.terrascope.be/download/Sentinel2/NDVI_V2/2021/05/20/S2B_20210520T104619_31UGS_NDVI_V210/S2B_20210520T104619_31UGS_NDVI_10M_V210.tif\n",
            "S2B_20210527T103629_31UGS_NDVI_10M_V200\n",
            "https://services.terrascope.be/download/Sentinel2/NDVI_V2/2021/05/27/S2B_20210527T103629_31UGS_NDVI_V200/S2B_20210527T103629_31UGS_NDVI_10M_V200.tif\n",
            "S2B_20210530T104619_31UGS_NDVI_10M_V210\n",
            "https://services.terrascope.be/download/Sentinel2/NDVI_V2/2021/05/30/S2B_20210530T104619_31UGS_NDVI_V210/S2B_20210530T104619_31UGS_NDVI_10M_V210.tif\n"
          ]
        }
      ]
    },
    {
      "cell_type": "code",
      "source": [
        "products_list = list(products)\n",
        "print(len(products_list))"
      ],
      "metadata": {
        "id": "PNAZAT-EFbYE",
        "outputId": "7bcbee7e-25cc-435a-b24a-407430d82e24",
        "colab": {
          "base_uri": "https://localhost:8080/"
        }
      },
      "execution_count": 24,
      "outputs": [
        {
          "output_type": "stream",
          "name": "stdout",
          "text": [
            "0\n"
          ]
        }
      ]
    },
    {
      "cell_type": "markdown",
      "source": [
        "There are lots of optional dependencies depending on where and how the data you are interested in are stored. Here are some of the libraries that you will probably need:\n",
        "\n",
        "dask - to delay data loading until access\n",
        "\n",
        "fsspec - to access data from remote storage\n",
        "\n",
        "pystac - STAC object structures\n",
        "\n",
        "xarray, rioxarray - data structures\n",
        "\n",
        "xpystac, stackstac - helper for loading pystac into xarray objects"
      ],
      "metadata": {
        "id": "zJEz17_MT5Co"
      }
    },
    {
      "cell_type": "code",
      "source": [
        "!pip install adlfs dask 'fsspec[http]' planetary_computer --quiet\n",
        "!pip install stackstac xarray xpystac zarr --quie"
      ],
      "metadata": {
        "id": "CC7qcdzbTi53",
        "outputId": "3630bf67-9e1b-467c-9ed8-23d72b049371",
        "colab": {
          "base_uri": "https://localhost:8080/"
        }
      },
      "execution_count": 13,
      "outputs": [
        {
          "output_type": "stream",
          "name": "stdout",
          "text": [
            "\u001b[2K     \u001b[90m━━━━━━━━━━━━━━━━━━━━━━━━━━━━━━━━━━━━━━━━\u001b[0m \u001b[32m44.4/44.4 kB\u001b[0m \u001b[31m1.6 MB/s\u001b[0m eta \u001b[36m0:00:00\u001b[0m\n",
            "\u001b[2K     \u001b[90m━━━━━━━━━━━━━━━━━━━━━━━━━━━━━━━━━━━━━━━━\u001b[0m \u001b[32m81.9/81.9 kB\u001b[0m \u001b[31m3.2 MB/s\u001b[0m eta \u001b[36m0:00:00\u001b[0m\n",
            "\u001b[2K   \u001b[90m━━━━━━━━━━━━━━━━━━━━━━━━━━━━━━━━━━━━━━━━\u001b[0m \u001b[32m41.8/41.8 kB\u001b[0m \u001b[31m2.7 MB/s\u001b[0m eta \u001b[36m0:00:00\u001b[0m\n",
            "\u001b[2K   \u001b[90m━━━━━━━━━━━━━━━━━━━━━━━━━━━━━━━━━━━━━━━━\u001b[0m \u001b[32m210.7/210.7 kB\u001b[0m \u001b[31m8.9 MB/s\u001b[0m eta \u001b[36m0:00:00\u001b[0m\n",
            "\u001b[2K   \u001b[90m━━━━━━━━━━━━━━━━━━━━━━━━━━━━━━━━━━━━━━━━\u001b[0m \u001b[32m55.3/55.3 kB\u001b[0m \u001b[31m4.1 MB/s\u001b[0m eta \u001b[36m0:00:00\u001b[0m\n",
            "\u001b[2K   \u001b[90m━━━━━━━━━━━━━━━━━━━━━━━━━━━━━━━━━━━━━━━━\u001b[0m \u001b[32m407.0/407.0 kB\u001b[0m \u001b[31m17.1 MB/s\u001b[0m eta \u001b[36m0:00:00\u001b[0m\n",
            "\u001b[2K   \u001b[90m━━━━━━━━━━━━━━━━━━━━━━━━━━━━━━━━━━━━━━━━\u001b[0m \u001b[32m206.8/206.8 kB\u001b[0m \u001b[31m15.1 MB/s\u001b[0m eta \u001b[36m0:00:00\u001b[0m\n",
            "\u001b[2K   \u001b[90m━━━━━━━━━━━━━━━━━━━━━━━━━━━━━━━━━━━━━━━━\u001b[0m \u001b[32m41.4/41.4 kB\u001b[0m \u001b[31m3.1 MB/s\u001b[0m eta \u001b[36m0:00:00\u001b[0m\n",
            "\u001b[2K   \u001b[90m━━━━━━━━━━━━━━━━━━━━━━━━━━━━━━━━━━━━━━━━\u001b[0m \u001b[32m186.1/186.1 kB\u001b[0m \u001b[31m13.5 MB/s\u001b[0m eta \u001b[36m0:00:00\u001b[0m\n",
            "\u001b[2K   \u001b[90m━━━━━━━━━━━━━━━━━━━━━━━━━━━━━━━━━━━━━━━━\u001b[0m \u001b[32m115.4/115.4 kB\u001b[0m \u001b[31m8.9 MB/s\u001b[0m eta \u001b[36m0:00:00\u001b[0m\n",
            "\u001b[2K   \u001b[90m━━━━━━━━━━━━━━━━━━━━━━━━━━━━━━━━━━━━━━━━\u001b[0m \u001b[32m64.3/64.3 kB\u001b[0m \u001b[31m2.6 MB/s\u001b[0m eta \u001b[36m0:00:00\u001b[0m\n",
            "\u001b[2K   \u001b[90m━━━━━━━━━━━━━━━━━━━━━━━━━━━━━━━━━━━━━━━━\u001b[0m \u001b[32m209.6/209.6 kB\u001b[0m \u001b[31m7.6 MB/s\u001b[0m eta \u001b[36m0:00:00\u001b[0m\n",
            "\u001b[2K   \u001b[90m━━━━━━━━━━━━━━━━━━━━━━━━━━━━━━━━━━━━━━━━\u001b[0m \u001b[32m8.8/8.8 MB\u001b[0m \u001b[31m76.3 MB/s\u001b[0m eta \u001b[36m0:00:00\u001b[0m\n",
            "\u001b[2K   \u001b[90m━━━━━━━━━━━━━━━━━━━━━━━━━━━━━━━━━━━━━━━━\u001b[0m \u001b[32m22.2/22.2 MB\u001b[0m \u001b[31m87.3 MB/s\u001b[0m eta \u001b[36m0:00:00\u001b[0m\n",
            "\u001b[2K   \u001b[90m━━━━━━━━━━━━━━━━━━━━━━━━━━━━━━━━━━━━━━━━\u001b[0m \u001b[32m53.7/53.7 kB\u001b[0m \u001b[31m4.0 MB/s\u001b[0m eta \u001b[36m0:00:00\u001b[0m\n",
            "\u001b[?25h"
          ]
        }
      ]
    },
    {
      "cell_type": "code",
      "source": [
        "import xarray as xr\n",
        "\n",
        "import pystac"
      ],
      "metadata": {
        "id": "NgBqHGJITztw"
      },
      "execution_count": 14,
      "outputs": []
    },
    {
      "cell_type": "code",
      "source": [
        "pystac.Collection.authenticate_non_interactive(\"aquatics\", \"Welcome!\")\n",
        "from pystac import StacIO\n",
        "\n",
        "stac_io = StacIO.default()\n",
        "stac_io.headers = {\"Authorization\": \"<some-auth-header>\"}\n",
        "\n",
        "landsat_item = pystac.Item.from_file(\n",
        "    \"https://services.terrascope.be/download/Sentinel2/NDVI_V2/2021/05/02/S2A_20210502T104021_31UGS_NDVI_V210/S2A_20210502T104021_31UGS_NDVI_10M_V210.tif\", stac_io)\n",
        "xr.open_dataset(landsat_item)"
      ],
      "metadata": {
        "id": "OLVJIJzvUAvo",
        "outputId": "9f6f0cff-1460-4a86-9e47-48156d5eacdf",
        "colab": {
          "base_uri": "https://localhost:8080/",
          "height": 211
        }
      },
      "execution_count": 27,
      "outputs": [
        {
          "output_type": "error",
          "ename": "AttributeError",
          "evalue": "type object 'Collection' has no attribute 'authenticate_non_interactive'",
          "traceback": [
            "\u001b[0;31m---------------------------------------------------------------------------\u001b[0m",
            "\u001b[0;31mAttributeError\u001b[0m                            Traceback (most recent call last)",
            "\u001b[0;32m/tmp/ipython-input-27-2831917539.py\u001b[0m in \u001b[0;36m<cell line: 0>\u001b[0;34m()\u001b[0m\n\u001b[0;32m----> 1\u001b[0;31m \u001b[0mpystac\u001b[0m\u001b[0;34m.\u001b[0m\u001b[0mCollection\u001b[0m\u001b[0;34m.\u001b[0m\u001b[0mauthenticate_non_interactive\u001b[0m\u001b[0;34m(\u001b[0m\u001b[0;34m\"aquatics\"\u001b[0m\u001b[0;34m,\u001b[0m \u001b[0;34m\"Welcome!\"\u001b[0m\u001b[0;34m)\u001b[0m\u001b[0;34m\u001b[0m\u001b[0;34m\u001b[0m\u001b[0m\n\u001b[0m\u001b[1;32m      2\u001b[0m landsat_item = pystac.Item.from_file(\n\u001b[1;32m      3\u001b[0m     \u001b[0;34m\"https://services.terrascope.be/download/Sentinel2/NDVI_V2/2021/05/02/S2A_20210502T104021_31UGS_NDVI_V210/S2A_20210502T104021_31UGS_NDVI_10M_V210.tif\"\u001b[0m\u001b[0;34m\u001b[0m\u001b[0;34m\u001b[0m\u001b[0m\n\u001b[1;32m      4\u001b[0m )\n\u001b[1;32m      5\u001b[0m \u001b[0mxr\u001b[0m\u001b[0;34m.\u001b[0m\u001b[0mopen_dataset\u001b[0m\u001b[0;34m(\u001b[0m\u001b[0mlandsat_item\u001b[0m\u001b[0;34m)\u001b[0m\u001b[0;34m\u001b[0m\u001b[0;34m\u001b[0m\u001b[0m\n",
            "\u001b[0;31mAttributeError\u001b[0m: type object 'Collection' has no attribute 'authenticate_non_interactive'"
          ]
        }
      ]
    }
  ],
  "metadata": {
    "kernelspec": {
      "display_name": "Python 3 (ipykernel)",
      "language": "python",
      "name": "python3"
    },
    "language_info": {
      "codemirror_mode": {
        "name": "ipython",
        "version": 3
      },
      "file_extension": ".py",
      "mimetype": "text/x-python",
      "name": "python",
      "nbconvert_exporter": "python",
      "pygments_lexer": "ipython3",
      "version": "3.11.0"
    },
    "vscode": {
      "interpreter": {
        "hash": "b0fa6594d8f4cbf19f97940f81e996739fb7646882a419484c72d19e05852a7e"
      }
    },
    "colab": {
      "provenance": []
    }
  },
  "nbformat": 4,
  "nbformat_minor": 0
}