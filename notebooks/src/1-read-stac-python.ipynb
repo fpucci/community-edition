{
  "cells": [
    {
      "cell_type": "markdown",
      "metadata": {
        "id": "APWAlcQpfh3n"
      },
      "source": [
        "# Read a STAC Catalog Using PySTAC"
      ]
    },
    {
      "cell_type": "markdown",
      "metadata": {
        "id": "1NdEkAilfh3p"
      },
      "source": [
        "In this tutorial, you will gain an understanding of how to explore a STAC Catalog using [PySTAC](https://pystac.readthedocs.io/en/stable/index.html). You will be able to use these skills to explore any of the [many existing STAC Catalogs](https://stacindex.org/catalogs).\n",
        "\n",
        "This tutorial as well as the following 3 tutorials were adapted from the [PySTAC site tutorials](https://pystac.readthedocs.io/en/stable/index.html).\n",
        "\n",
        "Throughout this tutorial, a variety of PySTAC classes, methods, and instances are used to read the STAC Catalog. We encourage you to look at the [PySTAC API Reference](https://pystac.readthedocs.io/en/latest/api.html) while going through this tutorial."
      ]
    },
    {
      "cell_type": "markdown",
      "metadata": {
        "id": "7gH5tey7fh3p"
      },
      "source": [
        "## Dependencies\n",
        "If you need to install pystac, uncomment the line below and run this cell."
      ]
    },
    {
      "cell_type": "code",
      "execution_count": 2,
      "metadata": {
        "colab": {
          "base_uri": "https://localhost:8080/"
        },
        "id": "W226-JpWfh3p",
        "outputId": "a77a1b55-777e-4d28-9c58-78c0f52c0b55"
      },
      "outputs": [
        {
          "output_type": "stream",
          "name": "stdout",
          "text": [
            "Collecting pystac\n",
            "  Downloading pystac-1.13.0-py3-none-any.whl.metadata (4.7 kB)\n",
            "Requirement already satisfied: python-dateutil>=2.7.0 in /usr/local/lib/python3.11/dist-packages (from pystac) (2.9.0.post0)\n",
            "Requirement already satisfied: six>=1.5 in /usr/local/lib/python3.11/dist-packages (from python-dateutil>=2.7.0->pystac) (1.17.0)\n",
            "Downloading pystac-1.13.0-py3-none-any.whl (206 kB)\n",
            "\u001b[?25l   \u001b[90m━━━━━━━━━━━━━━━━━━━━━━━━━━━━━━━━━━━━━━━━\u001b[0m \u001b[32m0.0/206.8 kB\u001b[0m \u001b[31m?\u001b[0m eta \u001b[36m-:--:--\u001b[0m\r\u001b[2K   \u001b[91m━━━━━━━━━━━━━━━━━━━━━\u001b[0m\u001b[91m╸\u001b[0m\u001b[90m━━━━━━━━━━━━━━━━━━\u001b[0m \u001b[32m112.6/206.8 kB\u001b[0m \u001b[31m3.2 MB/s\u001b[0m eta \u001b[36m0:00:01\u001b[0m\r\u001b[2K   \u001b[90m━━━━━━━━━━━━━━━━━━━━━━━━━━━━━━━━━━━━━━━━\u001b[0m \u001b[32m206.8/206.8 kB\u001b[0m \u001b[31m3.4 MB/s\u001b[0m eta \u001b[36m0:00:00\u001b[0m\n",
            "\u001b[?25hInstalling collected packages: pystac\n",
            "Successfully installed pystac-1.13.0\n"
          ]
        }
      ],
      "source": [
        "! pip install pystac"
      ]
    },
    {
      "cell_type": "markdown",
      "metadata": {
        "id": "8uDH8AuWfh3q"
      },
      "source": [
        "## STAC Catalogs\n",
        "[A STAC Catalog](https://github.com/radiantearth/stac-spec/tree/master/catalog-spec) is used to group other STAC objects like items, collections, and/or even other catalogs.\n",
        "\n",
        "We will be using a small example catalog adapted from the [example Landsat Collection](https://github.com/geotrellis/geotrellis-server/tree/977bad7a64c409341479c281c8c72222008861fd/stac-example/catalog/landsat-stac-collection) in the [GeoTrellis](https://geotrellis.io) repository. All STAC Items and Collections can be found in the [docs/example-catalog](https://github.com/stac-utils/pystac/tree/main/docs/example-catalog) directory of the PySTAC documentation repository; all assets are hosted in the Landsat S3 bucket."
      ]
    },
    {
      "cell_type": "markdown",
      "metadata": {
        "id": "N176nbhCfh3q"
      },
      "source": [
        "#### Import Packages and Store Data\n",
        "To begin, import the packages and PySTAC classes that you need to access data and work with STAC Catalogs in Python."
      ]
    },
    {
      "cell_type": "code",
      "execution_count": 3,
      "metadata": {
        "id": "i7kncrnSfh3r"
      },
      "outputs": [],
      "source": [
        "import json\n",
        "\n",
        "from pystac import Catalog, get_stac_version\n",
        "from pystac.extensions.eo import EOExtension\n",
        "from pystac.extensions.label import LabelExtension"
      ]
    },
    {
      "cell_type": "code",
      "execution_count": 24,
      "metadata": {
        "id": "HbtP_OjSfh3r"
      },
      "outputs": [],
      "source": [
        "# Read the example catalog\n",
        "link_terrascope = 'https://stacindex.org/catalogs/terrascope#/WYEJqXnNPKBm6QrPXBbczNDtd8qDTRmhwsujHEDyu3Y4R'\n",
        "root_catalog = Catalog.from_file('https://stac.terrascope.be/')\n",
        "#root_catalog = Catalog.from_file('https://raw.githubusercontent.com/stac-utils/pystac/main/docs/example-catalog/catalog.json')"
      ]
    },
    {
      "cell_type": "markdown",
      "metadata": {
        "id": "FUnQIEV-fh3r"
      },
      "source": [
        "## Explore the High-Level Catalog Information"
      ]
    },
    {
      "cell_type": "markdown",
      "metadata": {
        "id": "0Z8hm6Utfh3r"
      },
      "source": [
        "To give us an idea of how the catalog we are working with is organized, let's take a look at all elements of the STAC using the `describe` method."
      ]
    },
    {
      "cell_type": "markdown",
      "metadata": {
        "id": "bdORZOCtfh3r"
      },
      "source": [
        "<div style=\"background-color:rgba(181, 216, 229, 0.8); text-align:center; vertical-align: top; padding:10px; ml:5px; 0;\">\n",
        "NOTE: Be careful using the `describe` method on large catalogs, as it will walk and print the entire tree of the STAC.\n",
        "</div>"
      ]
    },
    {
      "cell_type": "code",
      "execution_count": 25,
      "metadata": {
        "colab": {
          "base_uri": "https://localhost:8080/"
        },
        "id": "wuME5WxNfh3s",
        "outputId": "ae7ed09e-f487-423f-8424-c53131969586"
      },
      "outputs": [
        {
          "output_type": "stream",
          "name": "stdout",
          "text": [
            "* <Catalog id=terra-stac-api>\n",
            "    * <Collection id=geoinformed-bwk-sba>\n",
            "    * <Collection id=geoinformed-bosmonitoring>\n",
            "    * <Collection id=lcfm-lcm-10>\n",
            "    * <Collection id=geoinformed-vanggewassen>\n",
            "    * <Collection id=geoinformed-watervlakken-maand>\n",
            "    * <Collection id=geoinformed-bwk>\n",
            "    * <Collection id=geoinformed-watervlakken-jaar>\n",
            "    * <Collection id=majorTom-L2A-Flanders>\n",
            "    * <Collection id=terrascope-s1-grd-sigma0-v1>\n",
            "    * <Collection id=sentinel-1-slc>\n",
            "    * <Collection id=terrascope-s1-slc-coherence-v1>\n",
            "    * <Collection id=sentinel-1-grd>\n",
            "    * <Collection id=sentinel-2-l2a>\n",
            "    * <Collection id=sentinel-2-l1c>\n",
            "    * <Collection id=terrascope-s2-chl-v1>\n",
            "    * <Collection id=terrascope-s2-cwc-v2>\n",
            "    * <Collection id=terrascope-s2-ccc-v2>\n",
            "    * <Collection id=terrascope-s2-toc-v2>\n",
            "    * <Collection id=terrascope-s2-tur-v1>\n",
            "    * <Collection id=terrascope-s3-lst-s1-v1>\n",
            "    * <Collection id=terrascope-s3-lst-s10-v1>\n",
            "    * <Collection id=terrascope-s3-syn-vgt-s1-v1>\n",
            "    * <Collection id=terrascope-s3-syn-vgt-s10-v1>\n",
            "    * <Collection id=esa-worldcover-map-10m-2020-v1>\n",
            "    * <Collection id=esa-worldcover-ndvi-10m-2020-v1>\n",
            "    * <Collection id=esa-worldcover-s1vvvhratio-10m-2020-v1>\n",
            "    * <Collection id=esa-worldcover-s2rgbnir-10m-2020-v1>\n",
            "    * <Collection id=esa-worldcover-swir-10m-2020-v1>\n",
            "    * <Collection id=esa-worldcover-map-10m-2021-v2>\n",
            "    * <Collection id=esa-worldcover-ndvi-10m-2021-v2>\n",
            "    * <Collection id=esa-worldcover-s1vvvhratio-10m-2021-v2>\n",
            "    * <Collection id=esa-worldcover-s2rgbnir-10m-2021-v2>\n",
            "    * <Collection id=esa-worldcover-swir-10m-2021-v2>\n",
            "    * <Collection id=terrascope-s2-fapar-v2>\n",
            "    * <Collection id=terrascope-s2-lai-v2>\n",
            "    * <Collection id=terrascope-s2-rhow-v1>\n",
            "    * <Collection id=terrascope-s2-fcover-v2>\n",
            "    * <Collection id=terrascope-s2-spm-v1>\n",
            "    * <Collection id=terrascope-s2-ndvi-v2>\n",
            "    * <Collection id=corsa-majorTom-Flanders>\n"
          ]
        }
      ],
      "source": [
        "root_catalog.describe()"
      ]
    },
    {
      "cell_type": "markdown",
      "metadata": {
        "id": "XvF_Vmwofh3s"
      },
      "source": [
        "From this output, we can see that the catalog has 1 collection and that this collection has 4 items.\n",
        "\n",
        "Now, let's look at the root catalog more in depth."
      ]
    },
    {
      "cell_type": "code",
      "execution_count": 26,
      "metadata": {
        "colab": {
          "base_uri": "https://localhost:8080/"
        },
        "id": "LVepdKmOfh3s",
        "outputId": "6889f68a-3383-4a5f-c4cb-a66ccce57ea7"
      },
      "outputs": [
        {
          "output_type": "stream",
          "name": "stdout",
          "text": [
            "ID: terra-stac-api\n",
            "Title: Terrascope\n",
            "Description: [Terrascope](https://terrascope.be) is the Belgian Earth Observation Data Space. It provides easy access to Copernicus, PROBA-V, and SPOT-VEGETATION satellite data, products, and services. The access is free and open to all registered users, see [documentation](https://docs.terrascope.be/).\n"
          ]
        }
      ],
      "source": [
        "# Print some basic metadata from the Catalog\n",
        "print(f\"ID: {root_catalog.id}\")\n",
        "print(f\"Title: {root_catalog.title or 'N/A'}\")\n",
        "print(f\"Description: {root_catalog.description or 'N/A'}\")"
      ]
    },
    {
      "cell_type": "markdown",
      "metadata": {
        "id": "53T2vuDsfh3s"
      },
      "source": [
        "<div style=\"background-color:rgba(181, 216, 229, 0.8); text-align:center; vertical-align: top; padding:10px; ml:5px; 0;\">\n",
        "Note: we do not print the \"stac_version\" here. PySTAC automatically updates any catalogs to the most recent supported STAC version and will automatically write this to the JSON object during serialization.\n",
        "</div>  \n",
        "\n",
        "\n",
        "Let's confirm the latest STAC Specification version supported by PySTAC."
      ]
    },
    {
      "cell_type": "code",
      "execution_count": 27,
      "metadata": {
        "colab": {
          "base_uri": "https://localhost:8080/"
        },
        "id": "Y_439UV2fh3s",
        "outputId": "2748e4fb-8be4-4aac-dd54-3cf84c7938a1"
      },
      "outputs": [
        {
          "output_type": "stream",
          "name": "stdout",
          "text": [
            "1.1.0\n"
          ]
        }
      ],
      "source": [
        "print(get_stac_version())"
      ]
    },
    {
      "cell_type": "markdown",
      "metadata": {
        "id": "fCTcsHwDfh3t"
      },
      "source": [
        "With this information, we have an understanding of the layout and general information about the STAC Catalog at hand. Now, let's dive deeper into this catalog."
      ]
    },
    {
      "cell_type": "markdown",
      "metadata": {
        "id": "Ie0JZP_6fh3t"
      },
      "source": [
        "## Crawl STAC Child Catalogs and/or Collections\n",
        "\n",
        "[STAC Collections](https://github.com/radiantearth/stac-spec/tree/master/collection-spec) are used to group related items and provide aggregate or summary metadata for those items.\n",
        "\n",
        "STAC Catalogs may have many nested layers of catalogs or collections within the top-level collection. Our example catalog only has one collection within the main catalog at [landsat-8-l1/collection.json](/public/example-catalog/landsat-8-l1/collection.json). We can list the collections in a given catalog using the `Catalog.get_collections` method. This method returns an iterable of PySTAC [Collection](https://pystac.readthedocs.io/en/latest/api.html#collection) instances, which we will turn into a `list`."
      ]
    },
    {
      "cell_type": "code",
      "execution_count": 28,
      "metadata": {
        "colab": {
          "base_uri": "https://localhost:8080/"
        },
        "id": "qKUMqjwQfh3t",
        "outputId": "31fbb7d4-e939-4c1d-ce73-c7f2a915dbfb"
      },
      "outputs": [
        {
          "output_type": "stream",
          "name": "stdout",
          "text": [
            "Number of collections: 40\n",
            "Collections IDs:\n",
            "- geoinformed-bwk-sba\n",
            "- geoinformed-bosmonitoring\n",
            "- lcfm-lcm-10\n",
            "- geoinformed-vanggewassen\n",
            "- geoinformed-watervlakken-maand\n",
            "- geoinformed-bwk\n",
            "- geoinformed-watervlakken-jaar\n",
            "- majorTom-L2A-Flanders\n",
            "- terrascope-s1-grd-sigma0-v1\n",
            "- sentinel-1-slc\n",
            "- terrascope-s1-slc-coherence-v1\n",
            "- sentinel-1-grd\n",
            "- sentinel-2-l2a\n",
            "- sentinel-2-l1c\n",
            "- terrascope-s2-chl-v1\n",
            "- terrascope-s2-cwc-v2\n",
            "- terrascope-s2-ccc-v2\n",
            "- terrascope-s2-toc-v2\n",
            "- terrascope-s2-tur-v1\n",
            "- terrascope-s3-lst-s1-v1\n",
            "- terrascope-s3-lst-s10-v1\n",
            "- terrascope-s3-syn-vgt-s1-v1\n",
            "- terrascope-s3-syn-vgt-s10-v1\n",
            "- esa-worldcover-map-10m-2020-v1\n",
            "- esa-worldcover-ndvi-10m-2020-v1\n",
            "- esa-worldcover-s1vvvhratio-10m-2020-v1\n",
            "- esa-worldcover-s2rgbnir-10m-2020-v1\n",
            "- esa-worldcover-swir-10m-2020-v1\n",
            "- esa-worldcover-map-10m-2021-v2\n",
            "- esa-worldcover-ndvi-10m-2021-v2\n",
            "- esa-worldcover-s1vvvhratio-10m-2021-v2\n",
            "- esa-worldcover-s2rgbnir-10m-2021-v2\n",
            "- esa-worldcover-swir-10m-2021-v2\n",
            "- terrascope-s2-fapar-v2\n",
            "- terrascope-s2-lai-v2\n",
            "- terrascope-s2-rhow-v1\n",
            "- terrascope-s2-fcover-v2\n",
            "- terrascope-s2-spm-v1\n",
            "- terrascope-s2-ndvi-v2\n",
            "- corsa-majorTom-Flanders\n"
          ]
        }
      ],
      "source": [
        "collections = list(root_catalog.get_collections())\n",
        "\n",
        "print(f\"Number of collections: {len(collections)}\")\n",
        "print(\"Collections IDs:\")\n",
        "for collection in collections:\n",
        "    print(f\"- {collection.id}\")"
      ]
    },
    {
      "cell_type": "markdown",
      "metadata": {
        "id": "KrcsB7Uofh3t"
      },
      "source": [
        "Let's grab that collection as a PySTAC [Collection](https://pystac.readthedocs.io/en/latest/api/collection.html#pystac-collection) instance using the `Catalog.get_child` method so we can look at it in more detail. This method gets a child catalog or collection by ID, so we'll use the collection ID that we printed above. Since this method returns `None` if no child exists with the given ID, let's check to make sure we actually got the `Collection`."
      ]
    },
    {
      "cell_type": "code",
      "execution_count": 29,
      "metadata": {
        "colab": {
          "base_uri": "https://localhost:8080/"
        },
        "id": "HXp7emYPfh3t",
        "outputId": "62317212-89a4-46b2-942f-d88c14eeff0c"
      },
      "outputs": [
        {
          "output_type": "stream",
          "name": "stdout",
          "text": [
            "Collection has a root child. You may proceed to the following steps.\n"
          ]
        }
      ],
      "source": [
        "collection = root_catalog.get_child(\"terrascope-s2-ndvi-v2\")\n",
        "if collection is None:\n",
        "    print(\"Collection is Empty. Check your downloads and try again.\")\n",
        "else:\n",
        "    print(\"Collection has a root child. You may proceed to the following steps.\")"
      ]
    },
    {
      "cell_type": "markdown",
      "metadata": {
        "id": "WLldFs0Vfh3t"
      },
      "source": [
        "## Crawl the STAC Items\n",
        "\n",
        "[STAC Items](https://github.com/radiantearth/stac-spec/tree/master/item-spec) are the fundamental building blocks of a STAC Catalog. Each Item represents a single spatiotemporal resource (e.g. a satellite scene).\n",
        "\n",
        "Both catalogs and collections may have items associated with them. Let's crawl our catalog, starting at the root, to see what Items we have. The `Catalog.get_all_items` method provides a convenient way of recursively listing all Items associated with a catalog and all of its sub-catalogs."
      ]
    },
    {
      "cell_type": "code",
      "execution_count": 30,
      "metadata": {
        "colab": {
          "base_uri": "https://localhost:8080/"
        },
        "id": "lTeEPjMJfh3t",
        "outputId": "da161370-7fe9-451a-c67c-323168f2d065"
      },
      "outputs": [
        {
          "output_type": "stream",
          "name": "stdout",
          "text": [
            "Number of items: 0\n"
          ]
        }
      ],
      "source": [
        "items = list(root_catalog.get_all_items())\n",
        "\n",
        "print(f\"Number of items: {len(items)}\")\n",
        "for item in items:\n",
        "    print(f\"- {item.id}\")"
      ]
    },
    {
      "cell_type": "markdown",
      "metadata": {
        "id": "qsqRNdBufh3t"
      },
      "source": [
        "These IDs are not very descriptive; in the next section, we will see how we can access the rich metadata associated with each item."
      ]
    },
    {
      "cell_type": "markdown",
      "metadata": {
        "id": "PjozSTn9fh3t"
      },
      "source": [
        "## Explore STAC Item Metadata"
      ]
    },
    {
      "cell_type": "markdown",
      "metadata": {
        "id": "tbAwvOPgfh3t"
      },
      "source": [
        "### Item Metadata\n",
        "\n",
        "Items can have *a lot* of metadata. This can be a bit overwhelming at first, but let's break the metadata fields down into a few categories:\n",
        "\n",
        "1. Core Item Metadata\n",
        "2. Common Metadata\n",
        "3. STAC Extensions\n",
        "\n",
        "We will walk through each of these metadata categories in the following sections.\n",
        "\n",
        "First, let's grab one of the Items using the `Catalog.get_item` method. We will use `recursive=True` to recursively crawl all child catalogs and/or collections to find the item."
      ]
    },
    {
      "cell_type": "code",
      "execution_count": 34,
      "metadata": {
        "colab": {
          "base_uri": "https://localhost:8080/"
        },
        "id": "G4FxeLc8fh3t",
        "outputId": "76824dea-27c0-456d-f2dd-81301504f056"
      },
      "outputs": [
        {
          "output_type": "stream",
          "name": "stdout",
          "text": [
            "Number of items: 0\n"
          ]
        }
      ],
      "source": [
        "item = collection.get_child_links()\n",
        "print(f\"Number of items: {len(items)}\")\n"
      ]
    },
    {
      "cell_type": "markdown",
      "metadata": {
        "id": "nrGWeCmTfh3u"
      },
      "source": [
        "#### 1. Core Item Metadata\n",
        "\n",
        "The core item metadata fields include spatiotemporal information and the ID of the collection to which the item belongs. These fields are all at the top level of the item JSON and we can access them through attributes on the [PySTAC Item](https://pystac.readthedocs.io/en/latest/api/collection.html#pystac-collection) instance."
      ]
    },
    {
      "cell_type": "code",
      "execution_count": 12,
      "metadata": {
        "colab": {
          "base_uri": "https://localhost:8080/"
        },
        "id": "E2M06Aj9fh3u",
        "outputId": "596f272f-6fd5-4833-d7ee-9851c6e344c2"
      },
      "outputs": [
        {
          "output_type": "execute_result",
          "data": {
            "text/plain": [
              "{'type': 'Polygon',\n",
              " 'coordinates': [[[-76.12180471942207, 39.95810181489563],\n",
              "   [-73.94910518227414, 39.55117185146004],\n",
              "   [-74.49564725552679, 37.826064511480496],\n",
              "   [-76.66550404911956, 38.240699151776084],\n",
              "   [-76.12180471942207, 39.95810181489563]]]}"
            ]
          },
          "metadata": {},
          "execution_count": 12
        }
      ],
      "source": [
        "item.geometry"
      ]
    },
    {
      "cell_type": "code",
      "execution_count": 13,
      "metadata": {
        "colab": {
          "base_uri": "https://localhost:8080/"
        },
        "id": "NAMlfqSZfh3u",
        "outputId": "53ec3f0a-79f4-402a-c13a-a3a45a6f9fe7"
      },
      "outputs": [
        {
          "output_type": "execute_result",
          "data": {
            "text/plain": [
              "[-76.66703, 37.82561, -73.94861, 39.95958]"
            ]
          },
          "metadata": {},
          "execution_count": 13
        }
      ],
      "source": [
        "item.bbox"
      ]
    },
    {
      "cell_type": "code",
      "execution_count": 14,
      "metadata": {
        "colab": {
          "base_uri": "https://localhost:8080/"
        },
        "id": "XZmZ3JoEfh3u",
        "outputId": "9f215097-1b2b-4d10-daaa-62246194e89b"
      },
      "outputs": [
        {
          "output_type": "execute_result",
          "data": {
            "text/plain": [
              "datetime.datetime(2018, 6, 15, 15, 39, 9, tzinfo=tzutc())"
            ]
          },
          "metadata": {},
          "execution_count": 14
        }
      ],
      "source": [
        "item.datetime"
      ]
    },
    {
      "cell_type": "code",
      "execution_count": 15,
      "metadata": {
        "colab": {
          "base_uri": "https://localhost:8080/",
          "height": 36
        },
        "id": "BajJ7mwpfh3u",
        "outputId": "534fc046-1f78-44f3-dfb3-03c56ba6ba69"
      },
      "outputs": [
        {
          "output_type": "execute_result",
          "data": {
            "text/plain": [
              "'landsat-8-l1'"
            ],
            "application/vnd.google.colaboratory.intrinsic+json": {
              "type": "string"
            }
          },
          "metadata": {},
          "execution_count": 15
        }
      ],
      "source": [
        "item.collection_id"
      ]
    },
    {
      "cell_type": "markdown",
      "metadata": {
        "id": "pi6I2yvqfh3u"
      },
      "source": [
        "We can also access the same information as the cell above by running the `Item.get_collection` method."
      ]
    },
    {
      "cell_type": "code",
      "execution_count": 16,
      "metadata": {
        "colab": {
          "base_uri": "https://localhost:8080/",
          "height": 219
        },
        "id": "7sSNiQZDfh3u",
        "outputId": "6a94c993-86c1-4b2d-88a8-4b0c02171bab"
      },
      "outputs": [
        {
          "output_type": "execute_result",
          "data": {
            "text/plain": [
              "<Collection id=landsat-8-l1>"
            ],
            "text/html": [
              "\n",
              "\n",
              "<style>\n",
              ".pystac-summary {\n",
              "    cursor: pointer;\n",
              "    display: list-item;\n",
              "    list-style: revert;\n",
              "    margin-bottom: 0 !important;\n",
              "\n",
              "    .pystac-l {\n",
              "        padding-left: 0.5em;\n",
              "        color: rgb(64, 128, 128);\n",
              "        font-style: italic;\n",
              "    }\n",
              "}\n",
              ".pystac-row {\n",
              "    overflow-wrap: break-word;\n",
              "    padding-left: .825em;\n",
              "\n",
              "    .pystac-k {\n",
              "        display: inline-block;\n",
              "        margin: 0px 0.5em 0px 0px;\n",
              "    }\n",
              "    .pystac-v {\n",
              "        color: rgb(186, 33, 33);\n",
              "    }\n",
              "}\n",
              ".pystac-k {\n",
              "    color: rgb(0, 128, 0);\n",
              "    font-weight: 700;\n",
              "}\n",
              "</style>\n",
              "<div class=\"jp-RenderedJSON jp-mod-trusted jp-OutputArea-output\">\n",
              "    <div class=\"container\" style=\"line-height: normal;\">\n",
              "        <ul style=\"padding: 0px; margin: 0px; list-style: none; display: block;\">\n",
              "            \n",
              "                \n",
              "                    \n",
              "        <li class=\"pystac-row\">\n",
              "            <span class=\"pystac-k\">type</span>\n",
              "            <span class=\"pystac-v\">\"Collection\"</span>\n",
              "        </li>\n",
              "    \n",
              "                \n",
              "            \n",
              "                \n",
              "                    \n",
              "        <li class=\"pystac-row\">\n",
              "            <span class=\"pystac-k\">id</span>\n",
              "            <span class=\"pystac-v\">\"landsat-8-l1\"</span>\n",
              "        </li>\n",
              "    \n",
              "                \n",
              "            \n",
              "                \n",
              "                    \n",
              "        <li class=\"pystac-row\">\n",
              "            <span class=\"pystac-k\">stac_version</span>\n",
              "            <span class=\"pystac-v\">\"1.1.0\"</span>\n",
              "        </li>\n",
              "    \n",
              "                \n",
              "            \n",
              "                \n",
              "                    \n",
              "        <li class=\"pystac-row\">\n",
              "            <span class=\"pystac-k\">description</span>\n",
              "            <span class=\"pystac-v\">\"Landsat 8 imagery radiometrically calibrated and orthorectified using ground points and Digital Elevation Model (DEM) data to correct relief displacement.\"</span>\n",
              "        </li>\n",
              "    \n",
              "                \n",
              "            \n",
              "                \n",
              "                    <li><details>\n",
              "        <summary class=\"pystac-summary\"><span class=\"pystac-k\">links</span><span class=\"pystac-l\">[] 7 items</span></summary>\n",
              "        \n",
              "            <ul style=\"margin: 0px; padding: 0px 0px 0px 1.75em; list-style: none; display: block;\">\n",
              "        \n",
              "            \n",
              "                \n",
              "        <li><details>\n",
              "            <summary class=\"pystac-summary\"><span class=\"pystac-k\">0</span></summary>\n",
              "            <ul style=\"margin: 0px; padding: 0px 0px 0px 1.75em; list-style: none; display: block;\">\n",
              "        \n",
              "            \n",
              "                \n",
              "        <li class=\"pystac-row\">\n",
              "            <span class=\"pystac-k\">rel</span>\n",
              "            <span class=\"pystac-v\">\"root\"</span>\n",
              "        </li>\n",
              "    \n",
              "            \n",
              "        \n",
              "            \n",
              "                \n",
              "        <li class=\"pystac-row\">\n",
              "            <span class=\"pystac-k\">href</span>\n",
              "            <span class=\"pystac-v\">\"https://raw.githubusercontent.com/stac-utils/pystac/main/docs/example-catalog/catalog.json\"</span>\n",
              "        </li>\n",
              "    \n",
              "            \n",
              "        \n",
              "            \n",
              "                \n",
              "        <li class=\"pystac-row\">\n",
              "            <span class=\"pystac-k\">type</span>\n",
              "            <span class=\"pystac-v\">\"application/json\"</span>\n",
              "        </li>\n",
              "    \n",
              "            \n",
              "        \n",
              "            \n",
              "                \n",
              "        <li class=\"pystac-row\">\n",
              "            <span class=\"pystac-k\">title</span>\n",
              "            <span class=\"pystac-v\">\"STAC for Landsat data\"</span>\n",
              "        </li>\n",
              "    \n",
              "            \n",
              "        \n",
              "    </ul>\n",
              "        </details></li>\n",
              "    \n",
              "            \n",
              "        \n",
              "    </ul>\n",
              "        \n",
              "            <ul style=\"margin: 0px; padding: 0px 0px 0px 1.75em; list-style: none; display: block;\">\n",
              "        \n",
              "            \n",
              "                \n",
              "        <li><details>\n",
              "            <summary class=\"pystac-summary\"><span class=\"pystac-k\">1</span></summary>\n",
              "            <ul style=\"margin: 0px; padding: 0px 0px 0px 1.75em; list-style: none; display: block;\">\n",
              "        \n",
              "            \n",
              "                \n",
              "        <li class=\"pystac-row\">\n",
              "            <span class=\"pystac-k\">rel</span>\n",
              "            <span class=\"pystac-v\">\"item\"</span>\n",
              "        </li>\n",
              "    \n",
              "            \n",
              "        \n",
              "            \n",
              "                \n",
              "        <li class=\"pystac-row\">\n",
              "            <span class=\"pystac-k\">href</span>\n",
              "            <span class=\"pystac-v\">\"https://raw.githubusercontent.com/stac-utils/pystac/main/docs/example-catalog/landsat-8-l1/2018-06/LC80140332018166LGN00.json\"</span>\n",
              "        </li>\n",
              "    \n",
              "            \n",
              "        \n",
              "    </ul>\n",
              "        </details></li>\n",
              "    \n",
              "            \n",
              "        \n",
              "    </ul>\n",
              "        \n",
              "            <ul style=\"margin: 0px; padding: 0px 0px 0px 1.75em; list-style: none; display: block;\">\n",
              "        \n",
              "            \n",
              "                \n",
              "        <li><details>\n",
              "            <summary class=\"pystac-summary\"><span class=\"pystac-k\">2</span></summary>\n",
              "            <ul style=\"margin: 0px; padding: 0px 0px 0px 1.75em; list-style: none; display: block;\">\n",
              "        \n",
              "            \n",
              "                \n",
              "        <li class=\"pystac-row\">\n",
              "            <span class=\"pystac-k\">rel</span>\n",
              "            <span class=\"pystac-v\">\"item\"</span>\n",
              "        </li>\n",
              "    \n",
              "            \n",
              "        \n",
              "            \n",
              "                \n",
              "        <li class=\"pystac-row\">\n",
              "            <span class=\"pystac-k\">href</span>\n",
              "            <span class=\"pystac-v\">\"https://raw.githubusercontent.com/stac-utils/pystac/main/docs/example-catalog/landsat-8-l1/2018-05/LC80150322018141LGN00.json\"</span>\n",
              "        </li>\n",
              "    \n",
              "            \n",
              "        \n",
              "    </ul>\n",
              "        </details></li>\n",
              "    \n",
              "            \n",
              "        \n",
              "    </ul>\n",
              "        \n",
              "            <ul style=\"margin: 0px; padding: 0px 0px 0px 1.75em; list-style: none; display: block;\">\n",
              "        \n",
              "            \n",
              "                \n",
              "        <li><details>\n",
              "            <summary class=\"pystac-summary\"><span class=\"pystac-k\">3</span></summary>\n",
              "            <ul style=\"margin: 0px; padding: 0px 0px 0px 1.75em; list-style: none; display: block;\">\n",
              "        \n",
              "            \n",
              "                \n",
              "        <li class=\"pystac-row\">\n",
              "            <span class=\"pystac-k\">rel</span>\n",
              "            <span class=\"pystac-v\">\"item\"</span>\n",
              "        </li>\n",
              "    \n",
              "            \n",
              "        \n",
              "            \n",
              "                \n",
              "        <li class=\"pystac-row\">\n",
              "            <span class=\"pystac-k\">href</span>\n",
              "            <span class=\"pystac-v\">\"https://raw.githubusercontent.com/stac-utils/pystac/main/docs/example-catalog/landsat-8-l1/2018-07/LC80150332018189LGN00.json\"</span>\n",
              "        </li>\n",
              "    \n",
              "            \n",
              "        \n",
              "    </ul>\n",
              "        </details></li>\n",
              "    \n",
              "            \n",
              "        \n",
              "    </ul>\n",
              "        \n",
              "            <ul style=\"margin: 0px; padding: 0px 0px 0px 1.75em; list-style: none; display: block;\">\n",
              "        \n",
              "            \n",
              "                \n",
              "        <li><details>\n",
              "            <summary class=\"pystac-summary\"><span class=\"pystac-k\">4</span></summary>\n",
              "            <ul style=\"margin: 0px; padding: 0px 0px 0px 1.75em; list-style: none; display: block;\">\n",
              "        \n",
              "            \n",
              "                \n",
              "        <li class=\"pystac-row\">\n",
              "            <span class=\"pystac-k\">rel</span>\n",
              "            <span class=\"pystac-v\">\"item\"</span>\n",
              "        </li>\n",
              "    \n",
              "            \n",
              "        \n",
              "            \n",
              "                \n",
              "        <li class=\"pystac-row\">\n",
              "            <span class=\"pystac-k\">href</span>\n",
              "            <span class=\"pystac-v\">\"https://raw.githubusercontent.com/stac-utils/pystac/main/docs/example-catalog/landsat-8-l1/2018-06/LC80300332018166LGN00.json\"</span>\n",
              "        </li>\n",
              "    \n",
              "            \n",
              "        \n",
              "    </ul>\n",
              "        </details></li>\n",
              "    \n",
              "            \n",
              "        \n",
              "    </ul>\n",
              "        \n",
              "            <ul style=\"margin: 0px; padding: 0px 0px 0px 1.75em; list-style: none; display: block;\">\n",
              "        \n",
              "            \n",
              "                \n",
              "        <li><details>\n",
              "            <summary class=\"pystac-summary\"><span class=\"pystac-k\">5</span></summary>\n",
              "            <ul style=\"margin: 0px; padding: 0px 0px 0px 1.75em; list-style: none; display: block;\">\n",
              "        \n",
              "            \n",
              "                \n",
              "        <li class=\"pystac-row\">\n",
              "            <span class=\"pystac-k\">rel</span>\n",
              "            <span class=\"pystac-v\">\"self\"</span>\n",
              "        </li>\n",
              "    \n",
              "            \n",
              "        \n",
              "            \n",
              "                \n",
              "        <li class=\"pystac-row\">\n",
              "            <span class=\"pystac-k\">href</span>\n",
              "            <span class=\"pystac-v\">\"https://raw.githubusercontent.com/stac-utils/pystac/main/docs/example-catalog/landsat-8-l1/collection.json\"</span>\n",
              "        </li>\n",
              "    \n",
              "            \n",
              "        \n",
              "            \n",
              "                \n",
              "        <li class=\"pystac-row\">\n",
              "            <span class=\"pystac-k\">type</span>\n",
              "            <span class=\"pystac-v\">\"application/json\"</span>\n",
              "        </li>\n",
              "    \n",
              "            \n",
              "        \n",
              "    </ul>\n",
              "        </details></li>\n",
              "    \n",
              "            \n",
              "        \n",
              "    </ul>\n",
              "        \n",
              "            <ul style=\"margin: 0px; padding: 0px 0px 0px 1.75em; list-style: none; display: block;\">\n",
              "        \n",
              "            \n",
              "                \n",
              "        <li><details>\n",
              "            <summary class=\"pystac-summary\"><span class=\"pystac-k\">6</span></summary>\n",
              "            <ul style=\"margin: 0px; padding: 0px 0px 0px 1.75em; list-style: none; display: block;\">\n",
              "        \n",
              "            \n",
              "                \n",
              "        <li class=\"pystac-row\">\n",
              "            <span class=\"pystac-k\">rel</span>\n",
              "            <span class=\"pystac-v\">\"parent\"</span>\n",
              "        </li>\n",
              "    \n",
              "            \n",
              "        \n",
              "            \n",
              "                \n",
              "        <li class=\"pystac-row\">\n",
              "            <span class=\"pystac-k\">href</span>\n",
              "            <span class=\"pystac-v\">\"https://raw.githubusercontent.com/stac-utils/pystac/main/docs/example-catalog/catalog.json\"</span>\n",
              "        </li>\n",
              "    \n",
              "            \n",
              "        \n",
              "            \n",
              "                \n",
              "        <li class=\"pystac-row\">\n",
              "            <span class=\"pystac-k\">type</span>\n",
              "            <span class=\"pystac-v\">\"application/json\"</span>\n",
              "        </li>\n",
              "    \n",
              "            \n",
              "        \n",
              "            \n",
              "                \n",
              "        <li class=\"pystac-row\">\n",
              "            <span class=\"pystac-k\">title</span>\n",
              "            <span class=\"pystac-v\">\"STAC for Landsat data\"</span>\n",
              "        </li>\n",
              "    \n",
              "            \n",
              "        \n",
              "    </ul>\n",
              "        </details></li>\n",
              "    \n",
              "            \n",
              "        \n",
              "    </ul>\n",
              "        \n",
              "    </details></li>\n",
              "                \n",
              "            \n",
              "                \n",
              "                    <li><details>\n",
              "        <summary class=\"pystac-summary\"><span class=\"pystac-k\">stac_extensions</span><span class=\"pystac-l\">[] 1 items</span></summary>\n",
              "        \n",
              "            <ul style=\"margin: 0px; padding: 0px 0px 0px 1.75em; list-style: none; display: block;\">\n",
              "        \n",
              "            \n",
              "                \n",
              "        <li class=\"pystac-row\">\n",
              "            <span class=\"pystac-k\">0</span>\n",
              "            <span class=\"pystac-v\">\"https://example.com/stac/landsat-extension/1.0/schema.json\"</span>\n",
              "        </li>\n",
              "    \n",
              "            \n",
              "        \n",
              "    </ul>\n",
              "        \n",
              "    </details></li>\n",
              "                \n",
              "            \n",
              "                \n",
              "                    \n",
              "        <li><details>\n",
              "            <summary class=\"pystac-summary\"><span class=\"pystac-k\">properties</span></summary>\n",
              "            <ul style=\"margin: 0px; padding: 0px 0px 0px 1.75em; list-style: none; display: block;\">\n",
              "        \n",
              "            \n",
              "                \n",
              "        <li class=\"pystac-row\">\n",
              "            <span class=\"pystac-k\">collection</span>\n",
              "            <span class=\"pystac-v\">\"landsat-8-l1\"</span>\n",
              "        </li>\n",
              "    \n",
              "            \n",
              "        \n",
              "            \n",
              "                <li><details>\n",
              "        <summary class=\"pystac-summary\"><span class=\"pystac-k\">instruments</span><span class=\"pystac-l\">[] 1 items</span></summary>\n",
              "        \n",
              "            <ul style=\"margin: 0px; padding: 0px 0px 0px 1.75em; list-style: none; display: block;\">\n",
              "        \n",
              "            \n",
              "                \n",
              "        <li class=\"pystac-row\">\n",
              "            <span class=\"pystac-k\">0</span>\n",
              "            <span class=\"pystac-v\">\"OLI_TIRS\"</span>\n",
              "        </li>\n",
              "    \n",
              "            \n",
              "        \n",
              "    </ul>\n",
              "        \n",
              "    </details></li>\n",
              "            \n",
              "        \n",
              "            \n",
              "                \n",
              "        <li class=\"pystac-row\">\n",
              "            <span class=\"pystac-k\">view:sun_azimuth</span>\n",
              "            <span class=\"pystac-v\">149.01607154</span>\n",
              "        </li>\n",
              "    \n",
              "            \n",
              "        \n",
              "            \n",
              "                <li><details>\n",
              "        <summary class=\"pystac-summary\"><span class=\"pystac-k\">eo:bands</span><span class=\"pystac-l\">[] 11 items</span></summary>\n",
              "        \n",
              "            <ul style=\"margin: 0px; padding: 0px 0px 0px 1.75em; list-style: none; display: block;\">\n",
              "        \n",
              "            \n",
              "                \n",
              "        <li><details>\n",
              "            <summary class=\"pystac-summary\"><span class=\"pystac-k\">0</span></summary>\n",
              "            <ul style=\"margin: 0px; padding: 0px 0px 0px 1.75em; list-style: none; display: block;\">\n",
              "        \n",
              "            \n",
              "                \n",
              "        <li class=\"pystac-row\">\n",
              "            <span class=\"pystac-k\">name</span>\n",
              "            <span class=\"pystac-v\">\"B1\"</span>\n",
              "        </li>\n",
              "    \n",
              "            \n",
              "        \n",
              "            \n",
              "                \n",
              "        <li class=\"pystac-row\">\n",
              "            <span class=\"pystac-k\">full_width_half_max</span>\n",
              "            <span class=\"pystac-v\">0.02</span>\n",
              "        </li>\n",
              "    \n",
              "            \n",
              "        \n",
              "            \n",
              "                \n",
              "        <li class=\"pystac-row\">\n",
              "            <span class=\"pystac-k\">center_wavelength</span>\n",
              "            <span class=\"pystac-v\">0.44</span>\n",
              "        </li>\n",
              "    \n",
              "            \n",
              "        \n",
              "            \n",
              "                \n",
              "        <li class=\"pystac-row\">\n",
              "            <span class=\"pystac-k\">common_name</span>\n",
              "            <span class=\"pystac-v\">\"coastal\"</span>\n",
              "        </li>\n",
              "    \n",
              "            \n",
              "        \n",
              "    </ul>\n",
              "        </details></li>\n",
              "    \n",
              "            \n",
              "        \n",
              "    </ul>\n",
              "        \n",
              "            <ul style=\"margin: 0px; padding: 0px 0px 0px 1.75em; list-style: none; display: block;\">\n",
              "        \n",
              "            \n",
              "                \n",
              "        <li><details>\n",
              "            <summary class=\"pystac-summary\"><span class=\"pystac-k\">1</span></summary>\n",
              "            <ul style=\"margin: 0px; padding: 0px 0px 0px 1.75em; list-style: none; display: block;\">\n",
              "        \n",
              "            \n",
              "                \n",
              "        <li class=\"pystac-row\">\n",
              "            <span class=\"pystac-k\">name</span>\n",
              "            <span class=\"pystac-v\">\"B2\"</span>\n",
              "        </li>\n",
              "    \n",
              "            \n",
              "        \n",
              "            \n",
              "                \n",
              "        <li class=\"pystac-row\">\n",
              "            <span class=\"pystac-k\">full_width_half_max</span>\n",
              "            <span class=\"pystac-v\">0.06</span>\n",
              "        </li>\n",
              "    \n",
              "            \n",
              "        \n",
              "            \n",
              "                \n",
              "        <li class=\"pystac-row\">\n",
              "            <span class=\"pystac-k\">center_wavelength</span>\n",
              "            <span class=\"pystac-v\">0.48</span>\n",
              "        </li>\n",
              "    \n",
              "            \n",
              "        \n",
              "            \n",
              "                \n",
              "        <li class=\"pystac-row\">\n",
              "            <span class=\"pystac-k\">common_name</span>\n",
              "            <span class=\"pystac-v\">\"blue\"</span>\n",
              "        </li>\n",
              "    \n",
              "            \n",
              "        \n",
              "    </ul>\n",
              "        </details></li>\n",
              "    \n",
              "            \n",
              "        \n",
              "    </ul>\n",
              "        \n",
              "            <ul style=\"margin: 0px; padding: 0px 0px 0px 1.75em; list-style: none; display: block;\">\n",
              "        \n",
              "            \n",
              "                \n",
              "        <li><details>\n",
              "            <summary class=\"pystac-summary\"><span class=\"pystac-k\">2</span></summary>\n",
              "            <ul style=\"margin: 0px; padding: 0px 0px 0px 1.75em; list-style: none; display: block;\">\n",
              "        \n",
              "            \n",
              "                \n",
              "        <li class=\"pystac-row\">\n",
              "            <span class=\"pystac-k\">name</span>\n",
              "            <span class=\"pystac-v\">\"B3\"</span>\n",
              "        </li>\n",
              "    \n",
              "            \n",
              "        \n",
              "            \n",
              "                \n",
              "        <li class=\"pystac-row\">\n",
              "            <span class=\"pystac-k\">full_width_half_max</span>\n",
              "            <span class=\"pystac-v\">0.06</span>\n",
              "        </li>\n",
              "    \n",
              "            \n",
              "        \n",
              "            \n",
              "                \n",
              "        <li class=\"pystac-row\">\n",
              "            <span class=\"pystac-k\">center_wavelength</span>\n",
              "            <span class=\"pystac-v\">0.56</span>\n",
              "        </li>\n",
              "    \n",
              "            \n",
              "        \n",
              "            \n",
              "                \n",
              "        <li class=\"pystac-row\">\n",
              "            <span class=\"pystac-k\">common_name</span>\n",
              "            <span class=\"pystac-v\">\"green\"</span>\n",
              "        </li>\n",
              "    \n",
              "            \n",
              "        \n",
              "    </ul>\n",
              "        </details></li>\n",
              "    \n",
              "            \n",
              "        \n",
              "    </ul>\n",
              "        \n",
              "            <ul style=\"margin: 0px; padding: 0px 0px 0px 1.75em; list-style: none; display: block;\">\n",
              "        \n",
              "            \n",
              "                \n",
              "        <li><details>\n",
              "            <summary class=\"pystac-summary\"><span class=\"pystac-k\">3</span></summary>\n",
              "            <ul style=\"margin: 0px; padding: 0px 0px 0px 1.75em; list-style: none; display: block;\">\n",
              "        \n",
              "            \n",
              "                \n",
              "        <li class=\"pystac-row\">\n",
              "            <span class=\"pystac-k\">name</span>\n",
              "            <span class=\"pystac-v\">\"B4\"</span>\n",
              "        </li>\n",
              "    \n",
              "            \n",
              "        \n",
              "            \n",
              "                \n",
              "        <li class=\"pystac-row\">\n",
              "            <span class=\"pystac-k\">full_width_half_max</span>\n",
              "            <span class=\"pystac-v\">0.04</span>\n",
              "        </li>\n",
              "    \n",
              "            \n",
              "        \n",
              "            \n",
              "                \n",
              "        <li class=\"pystac-row\">\n",
              "            <span class=\"pystac-k\">center_wavelength</span>\n",
              "            <span class=\"pystac-v\">0.65</span>\n",
              "        </li>\n",
              "    \n",
              "            \n",
              "        \n",
              "            \n",
              "                \n",
              "        <li class=\"pystac-row\">\n",
              "            <span class=\"pystac-k\">common_name</span>\n",
              "            <span class=\"pystac-v\">\"red\"</span>\n",
              "        </li>\n",
              "    \n",
              "            \n",
              "        \n",
              "    </ul>\n",
              "        </details></li>\n",
              "    \n",
              "            \n",
              "        \n",
              "    </ul>\n",
              "        \n",
              "            <ul style=\"margin: 0px; padding: 0px 0px 0px 1.75em; list-style: none; display: block;\">\n",
              "        \n",
              "            \n",
              "                \n",
              "        <li><details>\n",
              "            <summary class=\"pystac-summary\"><span class=\"pystac-k\">4</span></summary>\n",
              "            <ul style=\"margin: 0px; padding: 0px 0px 0px 1.75em; list-style: none; display: block;\">\n",
              "        \n",
              "            \n",
              "                \n",
              "        <li class=\"pystac-row\">\n",
              "            <span class=\"pystac-k\">name</span>\n",
              "            <span class=\"pystac-v\">\"B5\"</span>\n",
              "        </li>\n",
              "    \n",
              "            \n",
              "        \n",
              "            \n",
              "                \n",
              "        <li class=\"pystac-row\">\n",
              "            <span class=\"pystac-k\">full_width_half_max</span>\n",
              "            <span class=\"pystac-v\">0.03</span>\n",
              "        </li>\n",
              "    \n",
              "            \n",
              "        \n",
              "            \n",
              "                \n",
              "        <li class=\"pystac-row\">\n",
              "            <span class=\"pystac-k\">center_wavelength</span>\n",
              "            <span class=\"pystac-v\">0.86</span>\n",
              "        </li>\n",
              "    \n",
              "            \n",
              "        \n",
              "            \n",
              "                \n",
              "        <li class=\"pystac-row\">\n",
              "            <span class=\"pystac-k\">common_name</span>\n",
              "            <span class=\"pystac-v\">\"nir\"</span>\n",
              "        </li>\n",
              "    \n",
              "            \n",
              "        \n",
              "    </ul>\n",
              "        </details></li>\n",
              "    \n",
              "            \n",
              "        \n",
              "    </ul>\n",
              "        \n",
              "            <ul style=\"margin: 0px; padding: 0px 0px 0px 1.75em; list-style: none; display: block;\">\n",
              "        \n",
              "            \n",
              "                \n",
              "        <li><details>\n",
              "            <summary class=\"pystac-summary\"><span class=\"pystac-k\">5</span></summary>\n",
              "            <ul style=\"margin: 0px; padding: 0px 0px 0px 1.75em; list-style: none; display: block;\">\n",
              "        \n",
              "            \n",
              "                \n",
              "        <li class=\"pystac-row\">\n",
              "            <span class=\"pystac-k\">name</span>\n",
              "            <span class=\"pystac-v\">\"B6\"</span>\n",
              "        </li>\n",
              "    \n",
              "            \n",
              "        \n",
              "            \n",
              "                \n",
              "        <li class=\"pystac-row\">\n",
              "            <span class=\"pystac-k\">full_width_half_max</span>\n",
              "            <span class=\"pystac-v\">0.08</span>\n",
              "        </li>\n",
              "    \n",
              "            \n",
              "        \n",
              "            \n",
              "                \n",
              "        <li class=\"pystac-row\">\n",
              "            <span class=\"pystac-k\">center_wavelength</span>\n",
              "            <span class=\"pystac-v\">1.6</span>\n",
              "        </li>\n",
              "    \n",
              "            \n",
              "        \n",
              "            \n",
              "                \n",
              "        <li class=\"pystac-row\">\n",
              "            <span class=\"pystac-k\">common_name</span>\n",
              "            <span class=\"pystac-v\">\"swir16\"</span>\n",
              "        </li>\n",
              "    \n",
              "            \n",
              "        \n",
              "    </ul>\n",
              "        </details></li>\n",
              "    \n",
              "            \n",
              "        \n",
              "    </ul>\n",
              "        \n",
              "            <ul style=\"margin: 0px; padding: 0px 0px 0px 1.75em; list-style: none; display: block;\">\n",
              "        \n",
              "            \n",
              "                \n",
              "        <li><details>\n",
              "            <summary class=\"pystac-summary\"><span class=\"pystac-k\">6</span></summary>\n",
              "            <ul style=\"margin: 0px; padding: 0px 0px 0px 1.75em; list-style: none; display: block;\">\n",
              "        \n",
              "            \n",
              "                \n",
              "        <li class=\"pystac-row\">\n",
              "            <span class=\"pystac-k\">name</span>\n",
              "            <span class=\"pystac-v\">\"B7\"</span>\n",
              "        </li>\n",
              "    \n",
              "            \n",
              "        \n",
              "            \n",
              "                \n",
              "        <li class=\"pystac-row\">\n",
              "            <span class=\"pystac-k\">full_width_half_max</span>\n",
              "            <span class=\"pystac-v\">0.22</span>\n",
              "        </li>\n",
              "    \n",
              "            \n",
              "        \n",
              "            \n",
              "                \n",
              "        <li class=\"pystac-row\">\n",
              "            <span class=\"pystac-k\">center_wavelength</span>\n",
              "            <span class=\"pystac-v\">2.2</span>\n",
              "        </li>\n",
              "    \n",
              "            \n",
              "        \n",
              "            \n",
              "                \n",
              "        <li class=\"pystac-row\">\n",
              "            <span class=\"pystac-k\">common_name</span>\n",
              "            <span class=\"pystac-v\">\"swir22\"</span>\n",
              "        </li>\n",
              "    \n",
              "            \n",
              "        \n",
              "    </ul>\n",
              "        </details></li>\n",
              "    \n",
              "            \n",
              "        \n",
              "    </ul>\n",
              "        \n",
              "            <ul style=\"margin: 0px; padding: 0px 0px 0px 1.75em; list-style: none; display: block;\">\n",
              "        \n",
              "            \n",
              "                \n",
              "        <li><details>\n",
              "            <summary class=\"pystac-summary\"><span class=\"pystac-k\">7</span></summary>\n",
              "            <ul style=\"margin: 0px; padding: 0px 0px 0px 1.75em; list-style: none; display: block;\">\n",
              "        \n",
              "            \n",
              "                \n",
              "        <li class=\"pystac-row\">\n",
              "            <span class=\"pystac-k\">name</span>\n",
              "            <span class=\"pystac-v\">\"B8\"</span>\n",
              "        </li>\n",
              "    \n",
              "            \n",
              "        \n",
              "            \n",
              "                \n",
              "        <li class=\"pystac-row\">\n",
              "            <span class=\"pystac-k\">full_width_half_max</span>\n",
              "            <span class=\"pystac-v\">0.18</span>\n",
              "        </li>\n",
              "    \n",
              "            \n",
              "        \n",
              "            \n",
              "                \n",
              "        <li class=\"pystac-row\">\n",
              "            <span class=\"pystac-k\">center_wavelength</span>\n",
              "            <span class=\"pystac-v\">0.59</span>\n",
              "        </li>\n",
              "    \n",
              "            \n",
              "        \n",
              "            \n",
              "                \n",
              "        <li class=\"pystac-row\">\n",
              "            <span class=\"pystac-k\">common_name</span>\n",
              "            <span class=\"pystac-v\">\"pan\"</span>\n",
              "        </li>\n",
              "    \n",
              "            \n",
              "        \n",
              "    </ul>\n",
              "        </details></li>\n",
              "    \n",
              "            \n",
              "        \n",
              "    </ul>\n",
              "        \n",
              "            <ul style=\"margin: 0px; padding: 0px 0px 0px 1.75em; list-style: none; display: block;\">\n",
              "        \n",
              "            \n",
              "                \n",
              "        <li><details>\n",
              "            <summary class=\"pystac-summary\"><span class=\"pystac-k\">8</span></summary>\n",
              "            <ul style=\"margin: 0px; padding: 0px 0px 0px 1.75em; list-style: none; display: block;\">\n",
              "        \n",
              "            \n",
              "                \n",
              "        <li class=\"pystac-row\">\n",
              "            <span class=\"pystac-k\">name</span>\n",
              "            <span class=\"pystac-v\">\"B9\"</span>\n",
              "        </li>\n",
              "    \n",
              "            \n",
              "        \n",
              "            \n",
              "                \n",
              "        <li class=\"pystac-row\">\n",
              "            <span class=\"pystac-k\">full_width_half_max</span>\n",
              "            <span class=\"pystac-v\">0.02</span>\n",
              "        </li>\n",
              "    \n",
              "            \n",
              "        \n",
              "            \n",
              "                \n",
              "        <li class=\"pystac-row\">\n",
              "            <span class=\"pystac-k\">center_wavelength</span>\n",
              "            <span class=\"pystac-v\">1.37</span>\n",
              "        </li>\n",
              "    \n",
              "            \n",
              "        \n",
              "            \n",
              "                \n",
              "        <li class=\"pystac-row\">\n",
              "            <span class=\"pystac-k\">common_name</span>\n",
              "            <span class=\"pystac-v\">\"cirrus\"</span>\n",
              "        </li>\n",
              "    \n",
              "            \n",
              "        \n",
              "    </ul>\n",
              "        </details></li>\n",
              "    \n",
              "            \n",
              "        \n",
              "    </ul>\n",
              "        \n",
              "            <ul style=\"margin: 0px; padding: 0px 0px 0px 1.75em; list-style: none; display: block;\">\n",
              "        \n",
              "            \n",
              "                \n",
              "        <li><details>\n",
              "            <summary class=\"pystac-summary\"><span class=\"pystac-k\">9</span></summary>\n",
              "            <ul style=\"margin: 0px; padding: 0px 0px 0px 1.75em; list-style: none; display: block;\">\n",
              "        \n",
              "            \n",
              "                \n",
              "        <li class=\"pystac-row\">\n",
              "            <span class=\"pystac-k\">name</span>\n",
              "            <span class=\"pystac-v\">\"B10\"</span>\n",
              "        </li>\n",
              "    \n",
              "            \n",
              "        \n",
              "            \n",
              "                \n",
              "        <li class=\"pystac-row\">\n",
              "            <span class=\"pystac-k\">full_width_half_max</span>\n",
              "            <span class=\"pystac-v\">0.8</span>\n",
              "        </li>\n",
              "    \n",
              "            \n",
              "        \n",
              "            \n",
              "                \n",
              "        <li class=\"pystac-row\">\n",
              "            <span class=\"pystac-k\">center_wavelength</span>\n",
              "            <span class=\"pystac-v\">10.9</span>\n",
              "        </li>\n",
              "    \n",
              "            \n",
              "        \n",
              "            \n",
              "                \n",
              "        <li class=\"pystac-row\">\n",
              "            <span class=\"pystac-k\">common_name</span>\n",
              "            <span class=\"pystac-v\">\"lwir11\"</span>\n",
              "        </li>\n",
              "    \n",
              "            \n",
              "        \n",
              "    </ul>\n",
              "        </details></li>\n",
              "    \n",
              "            \n",
              "        \n",
              "    </ul>\n",
              "        \n",
              "            <ul style=\"margin: 0px; padding: 0px 0px 0px 1.75em; list-style: none; display: block;\">\n",
              "        \n",
              "            \n",
              "                \n",
              "        <li><details>\n",
              "            <summary class=\"pystac-summary\"><span class=\"pystac-k\">10</span></summary>\n",
              "            <ul style=\"margin: 0px; padding: 0px 0px 0px 1.75em; list-style: none; display: block;\">\n",
              "        \n",
              "            \n",
              "                \n",
              "        <li class=\"pystac-row\">\n",
              "            <span class=\"pystac-k\">name</span>\n",
              "            <span class=\"pystac-v\">\"B11\"</span>\n",
              "        </li>\n",
              "    \n",
              "            \n",
              "        \n",
              "            \n",
              "                \n",
              "        <li class=\"pystac-row\">\n",
              "            <span class=\"pystac-k\">full_width_half_max</span>\n",
              "            <span class=\"pystac-v\">1</span>\n",
              "        </li>\n",
              "    \n",
              "            \n",
              "        \n",
              "            \n",
              "                \n",
              "        <li class=\"pystac-row\">\n",
              "            <span class=\"pystac-k\">center_wavelength</span>\n",
              "            <span class=\"pystac-v\">12</span>\n",
              "        </li>\n",
              "    \n",
              "            \n",
              "        \n",
              "            \n",
              "                \n",
              "        <li class=\"pystac-row\">\n",
              "            <span class=\"pystac-k\">common_name</span>\n",
              "            <span class=\"pystac-v\">\"lwir2\"</span>\n",
              "        </li>\n",
              "    \n",
              "            \n",
              "        \n",
              "    </ul>\n",
              "        </details></li>\n",
              "    \n",
              "            \n",
              "        \n",
              "    </ul>\n",
              "        \n",
              "    </details></li>\n",
              "            \n",
              "        \n",
              "            \n",
              "                \n",
              "        <li class=\"pystac-row\">\n",
              "            <span class=\"pystac-k\">view:off_nadir</span>\n",
              "            <span class=\"pystac-v\">0</span>\n",
              "        </li>\n",
              "    \n",
              "            \n",
              "        \n",
              "            \n",
              "                \n",
              "        <li class=\"pystac-row\">\n",
              "            <span class=\"pystac-k\">view:azimuth</span>\n",
              "            <span class=\"pystac-v\">0</span>\n",
              "        </li>\n",
              "    \n",
              "            \n",
              "        \n",
              "            \n",
              "                \n",
              "        <li class=\"pystac-row\">\n",
              "            <span class=\"pystac-k\">platform</span>\n",
              "            <span class=\"pystac-v\">\"landsat-8\"</span>\n",
              "        </li>\n",
              "    \n",
              "            \n",
              "        \n",
              "            \n",
              "                \n",
              "        <li class=\"pystac-row\">\n",
              "            <span class=\"pystac-k\">gsd</span>\n",
              "            <span class=\"pystac-v\">15</span>\n",
              "        </li>\n",
              "    \n",
              "            \n",
              "        \n",
              "            \n",
              "                \n",
              "        <li class=\"pystac-row\">\n",
              "            <span class=\"pystac-k\">view:sun_elevation</span>\n",
              "            <span class=\"pystac-v\">59.214247</span>\n",
              "        </li>\n",
              "    \n",
              "            \n",
              "        \n",
              "    </ul>\n",
              "        </details></li>\n",
              "    \n",
              "                \n",
              "            \n",
              "                \n",
              "                    \n",
              "        <li class=\"pystac-row\">\n",
              "            <span class=\"pystac-k\">title</span>\n",
              "            <span class=\"pystac-v\">\"Landsat 8 L1\"</span>\n",
              "        </li>\n",
              "    \n",
              "                \n",
              "            \n",
              "                \n",
              "                    \n",
              "        <li><details>\n",
              "            <summary class=\"pystac-summary\"><span class=\"pystac-k\">extent</span></summary>\n",
              "            <ul style=\"margin: 0px; padding: 0px 0px 0px 1.75em; list-style: none; display: block;\">\n",
              "        \n",
              "            \n",
              "                \n",
              "        <li><details>\n",
              "            <summary class=\"pystac-summary\"><span class=\"pystac-k\">spatial</span></summary>\n",
              "            <ul style=\"margin: 0px; padding: 0px 0px 0px 1.75em; list-style: none; display: block;\">\n",
              "        \n",
              "            \n",
              "                <li><details>\n",
              "        <summary class=\"pystac-summary\"><span class=\"pystac-k\">bbox</span><span class=\"pystac-l\">[] 1 items</span></summary>\n",
              "        \n",
              "            <ul style=\"margin: 0px; padding: 0px 0px 0px 1.75em; list-style: none; display: block;\">\n",
              "        \n",
              "            \n",
              "                <li><details>\n",
              "        <summary class=\"pystac-summary\"><span class=\"pystac-k\">0</span><span class=\"pystac-l\">[] 4 items</span></summary>\n",
              "        \n",
              "            <ul style=\"margin: 0px; padding: 0px 0px 0px 1.75em; list-style: none; display: block;\">\n",
              "        \n",
              "            \n",
              "                \n",
              "        <li class=\"pystac-row\">\n",
              "            <span class=\"pystac-k\">0</span>\n",
              "            <span class=\"pystac-v\">-180.0</span>\n",
              "        </li>\n",
              "    \n",
              "            \n",
              "        \n",
              "    </ul>\n",
              "        \n",
              "            <ul style=\"margin: 0px; padding: 0px 0px 0px 1.75em; list-style: none; display: block;\">\n",
              "        \n",
              "            \n",
              "                \n",
              "        <li class=\"pystac-row\">\n",
              "            <span class=\"pystac-k\">1</span>\n",
              "            <span class=\"pystac-v\">-90.0</span>\n",
              "        </li>\n",
              "    \n",
              "            \n",
              "        \n",
              "    </ul>\n",
              "        \n",
              "            <ul style=\"margin: 0px; padding: 0px 0px 0px 1.75em; list-style: none; display: block;\">\n",
              "        \n",
              "            \n",
              "                \n",
              "        <li class=\"pystac-row\">\n",
              "            <span class=\"pystac-k\">2</span>\n",
              "            <span class=\"pystac-v\">180.0</span>\n",
              "        </li>\n",
              "    \n",
              "            \n",
              "        \n",
              "    </ul>\n",
              "        \n",
              "            <ul style=\"margin: 0px; padding: 0px 0px 0px 1.75em; list-style: none; display: block;\">\n",
              "        \n",
              "            \n",
              "                \n",
              "        <li class=\"pystac-row\">\n",
              "            <span class=\"pystac-k\">3</span>\n",
              "            <span class=\"pystac-v\">90.0</span>\n",
              "        </li>\n",
              "    \n",
              "            \n",
              "        \n",
              "    </ul>\n",
              "        \n",
              "    </details></li>\n",
              "            \n",
              "        \n",
              "    </ul>\n",
              "        \n",
              "    </details></li>\n",
              "            \n",
              "        \n",
              "    </ul>\n",
              "        </details></li>\n",
              "    \n",
              "            \n",
              "        \n",
              "            \n",
              "                \n",
              "        <li><details>\n",
              "            <summary class=\"pystac-summary\"><span class=\"pystac-k\">temporal</span></summary>\n",
              "            <ul style=\"margin: 0px; padding: 0px 0px 0px 1.75em; list-style: none; display: block;\">\n",
              "        \n",
              "            \n",
              "                <li><details>\n",
              "        <summary class=\"pystac-summary\"><span class=\"pystac-k\">interval</span><span class=\"pystac-l\">[] 1 items</span></summary>\n",
              "        \n",
              "            <ul style=\"margin: 0px; padding: 0px 0px 0px 1.75em; list-style: none; display: block;\">\n",
              "        \n",
              "            \n",
              "                <li><details>\n",
              "        <summary class=\"pystac-summary\"><span class=\"pystac-k\">0</span><span class=\"pystac-l\">[] 2 items</span></summary>\n",
              "        \n",
              "            <ul style=\"margin: 0px; padding: 0px 0px 0px 1.75em; list-style: none; display: block;\">\n",
              "        \n",
              "            \n",
              "                \n",
              "        <li class=\"pystac-row\">\n",
              "            <span class=\"pystac-k\">0</span>\n",
              "            <span class=\"pystac-v\">\"2018-05-21T15:44:59Z\"</span>\n",
              "        </li>\n",
              "    \n",
              "            \n",
              "        \n",
              "    </ul>\n",
              "        \n",
              "            <ul style=\"margin: 0px; padding: 0px 0px 0px 1.75em; list-style: none; display: block;\">\n",
              "        \n",
              "            \n",
              "                \n",
              "        <li class=\"pystac-row\">\n",
              "            <span class=\"pystac-k\">1</span>\n",
              "            <span class=\"pystac-v\">\"2018-07-08T15:45:34Z\"</span>\n",
              "        </li>\n",
              "    \n",
              "            \n",
              "        \n",
              "    </ul>\n",
              "        \n",
              "    </details></li>\n",
              "            \n",
              "        \n",
              "    </ul>\n",
              "        \n",
              "    </details></li>\n",
              "            \n",
              "        \n",
              "    </ul>\n",
              "        </details></li>\n",
              "    \n",
              "            \n",
              "        \n",
              "    </ul>\n",
              "        </details></li>\n",
              "    \n",
              "                \n",
              "            \n",
              "                \n",
              "                    \n",
              "        <li class=\"pystac-row\">\n",
              "            <span class=\"pystac-k\">license</span>\n",
              "            <span class=\"pystac-v\">\"other\"</span>\n",
              "        </li>\n",
              "    \n",
              "                \n",
              "            \n",
              "                \n",
              "                    <li><details>\n",
              "        <summary class=\"pystac-summary\"><span class=\"pystac-k\">keywords</span><span class=\"pystac-l\">[] 3 items</span></summary>\n",
              "        \n",
              "            <ul style=\"margin: 0px; padding: 0px 0px 0px 1.75em; list-style: none; display: block;\">\n",
              "        \n",
              "            \n",
              "                \n",
              "        <li class=\"pystac-row\">\n",
              "            <span class=\"pystac-k\">0</span>\n",
              "            <span class=\"pystac-v\">\"landsat\"</span>\n",
              "        </li>\n",
              "    \n",
              "            \n",
              "        \n",
              "    </ul>\n",
              "        \n",
              "            <ul style=\"margin: 0px; padding: 0px 0px 0px 1.75em; list-style: none; display: block;\">\n",
              "        \n",
              "            \n",
              "                \n",
              "        <li class=\"pystac-row\">\n",
              "            <span class=\"pystac-k\">1</span>\n",
              "            <span class=\"pystac-v\">\"earth observation\"</span>\n",
              "        </li>\n",
              "    \n",
              "            \n",
              "        \n",
              "    </ul>\n",
              "        \n",
              "            <ul style=\"margin: 0px; padding: 0px 0px 0px 1.75em; list-style: none; display: block;\">\n",
              "        \n",
              "            \n",
              "                \n",
              "        <li class=\"pystac-row\">\n",
              "            <span class=\"pystac-k\">2</span>\n",
              "            <span class=\"pystac-v\">\"usgs\"</span>\n",
              "        </li>\n",
              "    \n",
              "            \n",
              "        \n",
              "    </ul>\n",
              "        \n",
              "    </details></li>\n",
              "                \n",
              "            \n",
              "                \n",
              "                    <li><details>\n",
              "        <summary class=\"pystac-summary\"><span class=\"pystac-k\">providers</span><span class=\"pystac-l\">[] 1 items</span></summary>\n",
              "        \n",
              "            <ul style=\"margin: 0px; padding: 0px 0px 0px 1.75em; list-style: none; display: block;\">\n",
              "        \n",
              "            \n",
              "                \n",
              "        <li><details>\n",
              "            <summary class=\"pystac-summary\"><span class=\"pystac-k\">0</span></summary>\n",
              "            <ul style=\"margin: 0px; padding: 0px 0px 0px 1.75em; list-style: none; display: block;\">\n",
              "        \n",
              "            \n",
              "                \n",
              "        <li class=\"pystac-row\">\n",
              "            <span class=\"pystac-k\">name</span>\n",
              "            <span class=\"pystac-v\">\"Development Seed\"</span>\n",
              "        </li>\n",
              "    \n",
              "            \n",
              "        \n",
              "            \n",
              "                <li><details>\n",
              "        <summary class=\"pystac-summary\"><span class=\"pystac-k\">roles</span><span class=\"pystac-l\">[] 1 items</span></summary>\n",
              "        \n",
              "            <ul style=\"margin: 0px; padding: 0px 0px 0px 1.75em; list-style: none; display: block;\">\n",
              "        \n",
              "            \n",
              "                \n",
              "        <li class=\"pystac-row\">\n",
              "            <span class=\"pystac-k\">0</span>\n",
              "            <span class=\"pystac-v\">\"processor\"</span>\n",
              "        </li>\n",
              "    \n",
              "            \n",
              "        \n",
              "    </ul>\n",
              "        \n",
              "    </details></li>\n",
              "            \n",
              "        \n",
              "            \n",
              "                \n",
              "        <li class=\"pystac-row\">\n",
              "            <span class=\"pystac-k\">url</span>\n",
              "            <span class=\"pystac-v\">\"https://github.com/sat-utils/sat-api\"</span>\n",
              "        </li>\n",
              "    \n",
              "            \n",
              "        \n",
              "    </ul>\n",
              "        </details></li>\n",
              "    \n",
              "            \n",
              "        \n",
              "    </ul>\n",
              "        \n",
              "    </details></li>\n",
              "                \n",
              "            \n",
              "        </ul>\n",
              "    </div>\n",
              "</div>"
            ]
          },
          "metadata": {},
          "execution_count": 16
        }
      ],
      "source": [
        "item.get_collection()"
      ]
    },
    {
      "cell_type": "markdown",
      "metadata": {
        "id": "xGsTVAEjfh3u"
      },
      "source": [
        "####  2. Common Metadata\n",
        "\n",
        "Certain fields that are commonly used in Items, but may also be found in other objects (e.g. Assets) are defined in the [Common Metadata](https://github.com/radiantearth/stac-spec/blob/v1.0.0/item-spec/common-metadata.md) section of the spec. These include licensing and instrument information, descriptions of datetime ranges, and some other common fields. These properties can be found as attributes of the `Item.common_metadata` property, which is an instance of the `CommonMetadata` class."
      ]
    },
    {
      "cell_type": "code",
      "execution_count": null,
      "metadata": {
        "id": "mRHrMUwGfh3u",
        "outputId": "6b3a478f-c7f9-48ce-a1c0-da29c3057872"
      },
      "outputs": [
        {
          "data": {
            "text/plain": [
              "['OLI_TIRS']"
            ]
          },
          "execution_count": 16,
          "metadata": {},
          "output_type": "execute_result"
        }
      ],
      "source": [
        "item.common_metadata.instruments"
      ]
    },
    {
      "cell_type": "code",
      "execution_count": null,
      "metadata": {
        "id": "NNXgBbkTfh3v",
        "outputId": "bc26cd1d-9b84-414e-b6f3-d4fae9426f32"
      },
      "outputs": [
        {
          "data": {
            "text/plain": [
              "'landsat-8'"
            ]
          },
          "execution_count": 17,
          "metadata": {},
          "output_type": "execute_result"
        }
      ],
      "source": [
        "item.common_metadata.platform"
      ]
    },
    {
      "cell_type": "code",
      "execution_count": null,
      "metadata": {
        "id": "wco4klBXfh3v",
        "outputId": "ce27da62-aede-4885-8740-86f69975ca81"
      },
      "outputs": [
        {
          "data": {
            "text/plain": [
              "30"
            ]
          },
          "execution_count": 18,
          "metadata": {},
          "output_type": "execute_result"
        }
      ],
      "source": [
        "item.common_metadata.gsd"
      ]
    },
    {
      "cell_type": "markdown",
      "metadata": {
        "id": "GH18Ashtfh3v"
      },
      "source": [
        "#### 3. STAC Extensions\n",
        "\n",
        "[STAC Extensions](https://github.com/radiantearth/stac-spec/tree/master/extensions) are a mechanism for providing additional metadata not covered by the core STAC Spec. We can see which STAC Extensions are implemented by this particular Item by examining the list of extension URIs in the `stac_extensions` field."
      ]
    },
    {
      "cell_type": "code",
      "execution_count": null,
      "metadata": {
        "id": "9C4TTAJ7fh3y",
        "outputId": "7996bede-597e-40e4-d443-06d5383b699a"
      },
      "outputs": [
        {
          "data": {
            "text/plain": [
              "['https://stac-extensions.github.io/eo/v1.1.0/schema.json',\n",
              " 'https://stac-extensions.github.io/view/v1.0.0/schema.json',\n",
              " 'https://stac-extensions.github.io/projection/v1.1.0/schema.json']"
            ]
          },
          "execution_count": 19,
          "metadata": {},
          "output_type": "execute_result"
        }
      ],
      "source": [
        "item.stac_extensions"
      ]
    },
    {
      "cell_type": "markdown",
      "metadata": {
        "id": "npEtnAQDfh3y"
      },
      "source": [
        "This Item implements the [Electro-Optical](https://github.com/stac-extensions/eo), [View Geometry](https://github.com/stac-extensions/view), and [Projection](https://github.com/stac-extensions/projection) Extensions.\n",
        "\n",
        "We can also check if a specific extension is implemented using the `has_extension` method for that extension class."
      ]
    },
    {
      "cell_type": "code",
      "execution_count": 17,
      "metadata": {
        "colab": {
          "base_uri": "https://localhost:8080/"
        },
        "id": "gPd-2o5Pfh3y",
        "outputId": "018b53ef-2253-409c-d14b-ccb652770481"
      },
      "outputs": [
        {
          "output_type": "execute_result",
          "data": {
            "text/plain": [
              "True"
            ]
          },
          "metadata": {},
          "execution_count": 17
        }
      ],
      "source": [
        "EOExtension.has_extension(item)"
      ]
    },
    {
      "cell_type": "code",
      "execution_count": 18,
      "metadata": {
        "colab": {
          "base_uri": "https://localhost:8080/"
        },
        "id": "dQaWNtXkfh3y",
        "outputId": "3998eb7c-1a7d-4f18-d594-64a2f5c7657c"
      },
      "outputs": [
        {
          "output_type": "execute_result",
          "data": {
            "text/plain": [
              "False"
            ]
          },
          "metadata": {},
          "execution_count": 18
        }
      ],
      "source": [
        "LabelExtension.has_extension(item)"
      ]
    },
    {
      "cell_type": "markdown",
      "metadata": {
        "id": "vLBe4-n7fh3z"
      },
      "source": [
        "We can access fields associated with the extension as attributes on the extension instance. For instance, the [\"eo:cloud_cover\" field](https://github.com/stac-extensions/eo#item-properties-or-asset-fields) defined in the Electro-Optical Extension can be accessed using the [EOExtension.cloud_cover](https://pystac.readthedocs.io/en/latest/api.html#pystac.extensions.eo.EOExtension.cloud_cover) attribute."
      ]
    },
    {
      "cell_type": "code",
      "execution_count": 19,
      "metadata": {
        "colab": {
          "base_uri": "https://localhost:8080/"
        },
        "id": "I4q7Wuvefh3z",
        "outputId": "a03e4f1c-64f1-4897-a05e-a980a6d0b7bc"
      },
      "outputs": [
        {
          "output_type": "execute_result",
          "data": {
            "text/plain": [
              "22"
            ]
          },
          "metadata": {},
          "execution_count": 19
        }
      ],
      "source": [
        "eo_item_ext = EOExtension.ext(item)\n",
        "eo_item_ext.cloud_cover"
      ]
    },
    {
      "cell_type": "markdown",
      "metadata": {
        "id": "GUbXMVKofh3z"
      },
      "source": [
        "We can also access the cloud cover field directly in the Item properties."
      ]
    },
    {
      "cell_type": "code",
      "source": [
        "item.properties"
      ],
      "metadata": {
        "colab": {
          "base_uri": "https://localhost:8080/"
        },
        "id": "lSjE87uzgLhJ",
        "outputId": "0cfcb439-00cd-4b3f-94a2-a218259b960b"
      },
      "execution_count": 23,
      "outputs": [
        {
          "output_type": "execute_result",
          "data": {
            "text/plain": [
              "{'collection': 'landsat-8-l1',\n",
              " 'datetime': '2018-06-15T15:39:09Z',\n",
              " 'view:sun_azimuth': 125.59055137,\n",
              " 'view:sun_elevation': 66.54485226,\n",
              " 'eo:cloud_cover': 22,\n",
              " 'instruments': ['OLI_TIRS'],\n",
              " 'view:off_nadir': 0,\n",
              " 'platform': 'landsat-8',\n",
              " 'gsd': 30,\n",
              " 'proj:transform': [357585.0, 30.0, 0.0, 4423815.0, 0.0, -30.0],\n",
              " 'proj:geometry': {'type': 'Polygon',\n",
              "  'coordinates': [[[357585.0, 4187685.0],\n",
              "    [357585.0, 4423815.0],\n",
              "    [589815.0, 4423815.0],\n",
              "    [589815.0, 4187685.0],\n",
              "    [357585.0, 4187685.0]]]},\n",
              " 'proj:shape': [7741, 7871],\n",
              " 'proj:code': 'EPSG:32618'}"
            ]
          },
          "metadata": {},
          "execution_count": 23
        }
      ]
    },
    {
      "cell_type": "code",
      "execution_count": 20,
      "metadata": {
        "colab": {
          "base_uri": "https://localhost:8080/"
        },
        "id": "OHVMdsIEfh3z",
        "outputId": "25202102-9f79-41b9-a030-302e1a54ad2e"
      },
      "outputs": [
        {
          "output_type": "execute_result",
          "data": {
            "text/plain": [
              "22"
            ]
          },
          "metadata": {},
          "execution_count": 20
        }
      ],
      "source": [
        "# @title Testo del titolo predefinito\n",
        "item.properties['eo:cloud_cover']"
      ]
    },
    {
      "cell_type": "markdown",
      "metadata": {
        "id": "vdYNPScsfh3z"
      },
      "source": [
        "## Access STAC Item's Assets"
      ]
    },
    {
      "cell_type": "markdown",
      "metadata": {
        "id": "_Zwlt9e1fh3z"
      },
      "source": [
        "To access the item's assets, we can use the `assets` attribute, which is a dictionary:"
      ]
    },
    {
      "cell_type": "code",
      "execution_count": null,
      "metadata": {
        "id": "IhzI3Nclfh3z",
        "outputId": "8aff9aba-b922-4dad-8ad9-da7ebd9ea766"
      },
      "outputs": [
        {
          "name": "stdout",
          "output_type": "stream",
          "text": [
            "index: https://s3-us-west-2.amazonaws.com/landsat-pds/c1/L8/014/033/LC08_L1TP_014033_20180615_20180703_01_T1/index.html (text/html)\n",
            "thumbnail: https://s3-us-west-2.amazonaws.com/landsat-pds/c1/L8/014/033/LC08_L1TP_014033_20180615_20180703_01_T1/LC08_L1TP_014033_20180615_20180703_01_T1_thumb_large.jpg (image/jpeg)\n",
            "B1: https://s3-us-west-2.amazonaws.com/landsat-pds/c1/L8/014/033/LC08_L1TP_014033_20180615_20180703_01_T1/LC08_L1TP_014033_20180615_20180703_01_T1_B1.TIF (image/tiff)\n",
            "B2: https://s3-us-west-2.amazonaws.com/landsat-pds/c1/L8/014/033/LC08_L1TP_014033_20180615_20180703_01_T1/LC08_L1TP_014033_20180615_20180703_01_T1_B2.TIF (image/tiff)\n",
            "B3: https://s3-us-west-2.amazonaws.com/landsat-pds/c1/L8/014/033/LC08_L1TP_014033_20180615_20180703_01_T1/LC08_L1TP_014033_20180615_20180703_01_T1_B3.TIF (image/tiff)\n",
            "B4: https://s3-us-west-2.amazonaws.com/landsat-pds/c1/L8/014/033/LC08_L1TP_014033_20180615_20180703_01_T1/LC08_L1TP_014033_20180615_20180703_01_T1_B4.TIF (image/tiff)\n",
            "B5: https://s3-us-west-2.amazonaws.com/landsat-pds/c1/L8/014/033/LC08_L1TP_014033_20180615_20180703_01_T1/LC08_L1TP_014033_20180615_20180703_01_T1_B5.TIF (image/tiff)\n",
            "B6: https://s3-us-west-2.amazonaws.com/landsat-pds/c1/L8/014/033/LC08_L1TP_014033_20180615_20180703_01_T1/LC08_L1TP_014033_20180615_20180703_01_T1_B6.TIF (image/tiff)\n",
            "B7: https://s3-us-west-2.amazonaws.com/landsat-pds/c1/L8/014/033/LC08_L1TP_014033_20180615_20180703_01_T1/LC08_L1TP_014033_20180615_20180703_01_T1_B7.TIF (image/tiff)\n",
            "B8: https://s3-us-west-2.amazonaws.com/landsat-pds/c1/L8/014/033/LC08_L1TP_014033_20180615_20180703_01_T1/LC08_L1TP_014033_20180615_20180703_01_T1_B8.TIF (image/tiff)\n",
            "B9: https://s3-us-west-2.amazonaws.com/landsat-pds/c1/L8/014/033/LC08_L1TP_014033_20180615_20180703_01_T1/LC08_L1TP_014033_20180615_20180703_01_T1_B9.TIF (image/tiff)\n",
            "B10: https://s3-us-west-2.amazonaws.com/landsat-pds/c1/L8/014/033/LC08_L1TP_014033_20180615_20180703_01_T1/LC08_L1TP_014033_20180615_20180703_01_T1_B10.TIF (image/tiff)\n",
            "B11: https://s3-us-west-2.amazonaws.com/landsat-pds/c1/L8/014/033/LC08_L1TP_014033_20180615_20180703_01_T1/LC08_L1TP_014033_20180615_20180703_01_T1_B11.TIF (image/tiff)\n",
            "ANG: https://s3-us-west-2.amazonaws.com/landsat-pds/c1/L8/014/033/LC08_L1TP_014033_20180615_20180703_01_T1/LC08_L1TP_014033_20180615_20180703_01_T1_ANG.txt (text/plain)\n",
            "MTL: https://s3-us-west-2.amazonaws.com/landsat-pds/c1/L8/014/033/LC08_L1TP_014033_20180615_20180703_01_T1/LC08_L1TP_014033_20180615_20180703_01_T1_MTL.txt (text/plain)\n",
            "BQA: https://s3-us-west-2.amazonaws.com/landsat-pds/c1/L8/014/033/LC08_L1TP_014033_20180615_20180703_01_T1/LC08_L1TP_014033_20180615_20180703_01_T1_BQA.TIF (image/tiff)\n"
          ]
        }
      ],
      "source": [
        "for asset_key in item.assets:\n",
        "    asset = item.assets[asset_key]\n",
        "    print('{}: {} ({})'.format(asset_key, asset.href, asset.media_type))"
      ]
    },
    {
      "cell_type": "markdown",
      "metadata": {
        "id": "ANbl1O_7fh3z"
      },
      "source": [
        "We can use the `to_dict()` method to convert an asset, or any PySTAC object, into a dictionary:"
      ]
    },
    {
      "cell_type": "code",
      "execution_count": null,
      "metadata": {
        "id": "sbCk3vhWfh3z",
        "outputId": "bb6229a9-875d-4538-ba78-ecebef09fb3b"
      },
      "outputs": [
        {
          "data": {
            "text/plain": [
              "{'href': 'https://s3-us-west-2.amazonaws.com/landsat-pds/c1/L8/014/033/LC08_L1TP_014033_20180615_20180703_01_T1/LC08_L1TP_014033_20180615_20180703_01_T1_B3.TIF',\n",
              " 'type': 'image/tiff',\n",
              " 'title': 'Band 3 (green)',\n",
              " 'eo:bands': [{'name': 'B3',\n",
              "   'full_width_half_max': 0.06,\n",
              "   'center_wavelength': 0.56,\n",
              "   'common_name': 'green'}],\n",
              " 'roles': []}"
            ]
          },
          "execution_count": 25,
          "metadata": {},
          "output_type": "execute_result"
        }
      ],
      "source": [
        "asset = item.assets['B3']\n",
        "asset.to_dict()"
      ]
    },
    {
      "cell_type": "markdown",
      "metadata": {
        "id": "kkmgE1JYfh3z"
      },
      "source": [
        "Here, we use the `eo Extension` to get the band information for the asset:"
      ]
    },
    {
      "cell_type": "code",
      "execution_count": null,
      "metadata": {
        "id": "OpnQ3IdLfh3z",
        "outputId": "00d5b402-00cf-4d45-c837-adc72346fb5e"
      },
      "outputs": [
        {
          "data": {
            "text/plain": [
              "[<Band name=B3>]"
            ]
          },
          "execution_count": 26,
          "metadata": {},
          "output_type": "execute_result"
        }
      ],
      "source": [
        "eo_asset_ext = EOExtension.ext(asset)\n",
        "bands = eo_asset_ext.bands\n",
        "bands"
      ]
    },
    {
      "cell_type": "code",
      "execution_count": null,
      "metadata": {
        "id": "wrbqTNYJfh30",
        "outputId": "2095b183-ddf9-4d4b-9c9c-cf5d866a5c78"
      },
      "outputs": [
        {
          "data": {
            "text/plain": [
              "{'name': 'B3',\n",
              " 'full_width_half_max': 0.06,\n",
              " 'center_wavelength': 0.56,\n",
              " 'common_name': 'green'}"
            ]
          },
          "execution_count": 27,
          "metadata": {},
          "output_type": "execute_result"
        }
      ],
      "source": [
        "bands[0].to_dict()"
      ]
    },
    {
      "cell_type": "markdown",
      "metadata": {
        "id": "iBwrV9IJfh30"
      },
      "source": [
        "You have now successfully explored the common components of an existing STAC Catalog. To learn how to write your own STAC Catalog, see the [following tutorial](/en/tutorials/2-create-stac-catalog-python/index.html)."
      ]
    },
    {
      "cell_type": "markdown",
      "metadata": {
        "id": "Z9MoLxv9fh30"
      },
      "source": [
        "#### Join the conversation\n",
        "If you have any questions, you’re welcome to ask our community on [CNG Discourse](https://cng.discourse.group/c/stac/15)."
      ]
    },
    {
      "cell_type": "code",
      "source": [
        "! pip install terracatalogueclient"
      ],
      "metadata": {
        "id": "dYofMDIwk38d",
        "outputId": "b5181e3b-7021-4369-ec62-91ae082bc703",
        "colab": {
          "base_uri": "https://localhost:8080/"
        }
      },
      "execution_count": 35,
      "outputs": [
        {
          "output_type": "stream",
          "name": "stdout",
          "text": [
            "Collecting terracatalogueclient\n",
            "  Downloading terracatalogueclient-0.1.19-py3-none-any.whl.metadata (2.4 kB)\n",
            "Requirement already satisfied: requests in /usr/local/lib/python3.11/dist-packages (from terracatalogueclient) (2.32.3)\n",
            "Collecting requests-auth~=6.0 (from terracatalogueclient)\n",
            "  Downloading requests_auth-6.0.0-py3-none-any.whl.metadata (92 kB)\n",
            "\u001b[?25l     \u001b[90m━━━━━━━━━━━━━━━━━━━━━━━━━━━━━━━━━━━━━━━━\u001b[0m \u001b[32m0.0/92.4 kB\u001b[0m \u001b[31m?\u001b[0m eta \u001b[36m-:--:--\u001b[0m\r\u001b[2K     \u001b[91m━━━━━━━━━━━━━━━━━━━━━━━━━━━━━━━━━━━━━━━\u001b[0m\u001b[91m╸\u001b[0m \u001b[32m92.2/92.4 kB\u001b[0m \u001b[31m3.7 MB/s\u001b[0m eta \u001b[36m0:00:01\u001b[0m\r\u001b[2K     \u001b[90m━━━━━━━━━━━━━━━━━━━━━━━━━━━━━━━━━━━━━━━━\u001b[0m \u001b[32m92.4/92.4 kB\u001b[0m \u001b[31m2.3 MB/s\u001b[0m eta \u001b[36m0:00:00\u001b[0m\n",
            "\u001b[?25hRequirement already satisfied: shapely in /usr/local/lib/python3.11/dist-packages (from terracatalogueclient) (2.1.1)\n",
            "Collecting humanfriendly (from terracatalogueclient)\n",
            "  Downloading humanfriendly-10.0-py2.py3-none-any.whl.metadata (9.2 kB)\n",
            "Collecting boto3 (from terracatalogueclient)\n",
            "  Downloading boto3-1.39.1-py3-none-any.whl.metadata (6.6 kB)\n",
            "Requirement already satisfied: charset-normalizer<4,>=2 in /usr/local/lib/python3.11/dist-packages (from requests->terracatalogueclient) (3.4.2)\n",
            "Requirement already satisfied: idna<4,>=2.5 in /usr/local/lib/python3.11/dist-packages (from requests->terracatalogueclient) (3.10)\n",
            "Requirement already satisfied: urllib3<3,>=1.21.1 in /usr/local/lib/python3.11/dist-packages (from requests->terracatalogueclient) (2.4.0)\n",
            "Requirement already satisfied: certifi>=2017.4.17 in /usr/local/lib/python3.11/dist-packages (from requests->terracatalogueclient) (2025.6.15)\n",
            "Collecting botocore<1.40.0,>=1.39.1 (from boto3->terracatalogueclient)\n",
            "  Downloading botocore-1.39.1-py3-none-any.whl.metadata (5.7 kB)\n",
            "Collecting jmespath<2.0.0,>=0.7.1 (from boto3->terracatalogueclient)\n",
            "  Downloading jmespath-1.0.1-py3-none-any.whl.metadata (7.6 kB)\n",
            "Collecting s3transfer<0.14.0,>=0.13.0 (from boto3->terracatalogueclient)\n",
            "  Downloading s3transfer-0.13.0-py3-none-any.whl.metadata (1.7 kB)\n",
            "Requirement already satisfied: numpy>=1.21 in /usr/local/lib/python3.11/dist-packages (from shapely->terracatalogueclient) (2.0.2)\n",
            "Requirement already satisfied: python-dateutil<3.0.0,>=2.1 in /usr/local/lib/python3.11/dist-packages (from botocore<1.40.0,>=1.39.1->boto3->terracatalogueclient) (2.9.0.post0)\n",
            "Requirement already satisfied: six>=1.5 in /usr/local/lib/python3.11/dist-packages (from python-dateutil<3.0.0,>=2.1->botocore<1.40.0,>=1.39.1->boto3->terracatalogueclient) (1.17.0)\n",
            "Downloading terracatalogueclient-0.1.19-py3-none-any.whl (14 kB)\n",
            "Downloading requests_auth-6.0.0-py3-none-any.whl (25 kB)\n",
            "Downloading boto3-1.39.1-py3-none-any.whl (139 kB)\n",
            "\u001b[2K   \u001b[90m━━━━━━━━━━━━━━━━━━━━━━━━━━━━━━━━━━━━━━━━\u001b[0m \u001b[32m139.9/139.9 kB\u001b[0m \u001b[31m5.9 MB/s\u001b[0m eta \u001b[36m0:00:00\u001b[0m\n",
            "\u001b[?25hDownloading humanfriendly-10.0-py2.py3-none-any.whl (86 kB)\n",
            "\u001b[2K   \u001b[90m━━━━━━━━━━━━━━━━━━━━━━━━━━━━━━━━━━━━━━━━\u001b[0m \u001b[32m86.8/86.8 kB\u001b[0m \u001b[31m6.3 MB/s\u001b[0m eta \u001b[36m0:00:00\u001b[0m\n",
            "\u001b[?25hDownloading botocore-1.39.1-py3-none-any.whl (13.8 MB)\n",
            "\u001b[2K   \u001b[90m━━━━━━━━━━━━━━━━━━━━━━━━━━━━━━━━━━━━━━━━\u001b[0m \u001b[32m13.8/13.8 MB\u001b[0m \u001b[31m65.0 MB/s\u001b[0m eta \u001b[36m0:00:00\u001b[0m\n",
            "\u001b[?25hDownloading jmespath-1.0.1-py3-none-any.whl (20 kB)\n",
            "Downloading s3transfer-0.13.0-py3-none-any.whl (85 kB)\n",
            "\u001b[2K   \u001b[90m━━━━━━━━━━━━━━━━━━━━━━━━━━━━━━━━━━━━━━━━\u001b[0m \u001b[32m85.2/85.2 kB\u001b[0m \u001b[31m5.7 MB/s\u001b[0m eta \u001b[36m0:00:00\u001b[0m\n",
            "\u001b[?25hInstalling collected packages: jmespath, humanfriendly, requests-auth, botocore, s3transfer, boto3, terracatalogueclient\n",
            "Successfully installed boto3-1.39.1 botocore-1.39.1 humanfriendly-10.0 jmespath-1.0.1 requests-auth-6.0.0 s3transfer-0.13.0 terracatalogueclient-0.1.19\n"
          ]
        }
      ]
    },
    {
      "cell_type": "code",
      "source": [
        "from terracatalogueclient import Catalogue\n",
        "catalogue = Catalogue()"
      ],
      "metadata": {
        "id": "tHo3lgX9lHxM"
      },
      "execution_count": 36,
      "outputs": []
    },
    {
      "cell_type": "code",
      "source": [
        "from terracatalogueclient import Catalogue\n",
        "catalogue = Catalogue().authenticate()"
      ],
      "metadata": {
        "id": "Lug8tZSilgz1"
      },
      "execution_count": 37,
      "outputs": []
    },
    {
      "cell_type": "code",
      "source": [
        "from terracatalogueclient import Catalogue\n",
        "catalogue = Catalogue()\n",
        "collections = catalogue.get_collections()\n",
        "for c in collections:\n",
        "    print(f\"{c.id} - {c.properties['title']}\")"
      ],
      "metadata": {
        "id": "aXynQ3NUlk79",
        "outputId": "338a01e6-32a9-4b25-9d51-d01d13ef5a59",
        "colab": {
          "base_uri": "https://localhost:8080/"
        }
      },
      "execution_count": 38,
      "outputs": [
        {
          "output_type": "stream",
          "name": "stdout",
          "text": [
            "urn:eop:VITO:CGS_S1_GRD_L1 - Sentinel-1 Level-1 Ground Range Detected (GRD) products\n",
            "urn:eop:VITO:CGS_S1_GRD_SIGMA0_L1 - Sentinel-1 Level-1 Ground Range Detected (GRD) SIGMA0 products\n",
            "urn:eop:VITO:CGS_S1_SLC_L1 - Sentinel-1 Level-1 Single Look Complex (SLC) products.\n",
            "urn:eop:VITO:CGS_S2_L1C - Sentinel-2 Level-1C MSI product contains Top-of-atmosphere reflectances in cartographic geometry\n",
            "urn:eop:VITO:COP_DEM_EU_25M - Copernicus European Digital Elevation Model (EU-DEM), version 1.1 in 25m resolution\n",
            "urn:eop:VITO:COP_DEM_GLO_30M_COG - Copernicus Global 30 meter Digital Elevation Model dataset in COG format  \n",
            "urn:eop:VITO:COP_DEM_GLO_90M_COG - Copernicus Global 90 meter Digital Elevation Model dataset in COG format\n",
            "urn:eop:VITO:ESA_WORLDCEREAL_ACTIVECROPLAND_V1 - ESA WorldCereal products for active cropland per agro-ecological zone - V1\n",
            "urn:eop:VITO:ESA_WORLDCEREAL_IRRIGATION_V1 - ESA WorldCereal products for active irrigation per agro-ecological zone - V1\n",
            "urn:eop:VITO:ESA_WORLDCEREAL_MAIZE_V1 - ESA WorldCereal products for maize per agro-ecological zone - V1\n",
            "urn:eop:VITO:ESA_WORLDCEREAL_SPRINGCEREALS_V1 - ESA WorldCereal products for springcereals per agro-ecological zone - V1\n",
            "urn:eop:VITO:ESA_WORLDCEREAL_TEMPORARYCROPS_V1 - ESA WorldCereal products for temporary crops per agro-ecological zone - V1\n",
            "urn:eop:VITO:ESA_WORLDCEREAL_WINTERCEREALS_V1 - ESA WorldCereal products for wintercereals per agro-ecological zone - V1\n",
            "urn:eop:VITO:ESA_WorldCover_10m_2020_AWS_V1 - ESA WorldCover products 10 meter COG format on AWS\n",
            "urn:eop:VITO:ESA_WorldCover_10m_2020_V1 - ESA WorldCover 2020 products 10 meter COG format  \n",
            "urn:eop:VITO:ESA_WorldCover_10m_2021_AWS_V2 - ESA WorldCover 2021 products 10 meter COG format on AWS\n",
            "urn:eop:VITO:ESA_WorldCover_10m_2021_V2 - ESA WorldCover 2021 products 10 meter COG format\n",
            "urn:eop:VITO:ESA_WorldCover_NDVI_10m_2020_V1 - ESA WorldCover Sentinel-2 yearly NDVI percentiles color composite 2020, 10 meter COG format\n",
            "urn:eop:VITO:ESA_WorldCover_NDVI_10m_2021_V2 - ESA WorldCover Sentinel-2 yearly NDVI percentiles color composite 2021, 10 meter COG format\n",
            "urn:eop:VITO:ESA_WorldCover_S1VVVHratio_10m_2020_V1 - ESA WorldCover Sentinel-1 color image 2020, 10 meter COG format\n",
            "urn:eop:VITO:ESA_WorldCover_S1VVVHratio_10m_2021_V2 - ESA WorldCover Sentinel-1 color image 2021, 10 meter COG format\n",
            "urn:eop:VITO:ESA_WorldCover_S2RGBNIR_10m_2020_V1 - ESA WorldCover Sentinel-2 color image 2020, 10 meter COG format\n",
            "urn:eop:VITO:ESA_WorldCover_S2RGBNIR_10m_2021_V2 - ESA WorldCover Sentinel-2 color image 2021, 10 meter COG format\n",
            "urn:eop:VITO:ESA_WorldCover_SWIR_10m_2020_V1 - ESA WorldCover Sentinel-2 yearly SWIR median composite 2020, 10 meter COG format\n",
            "urn:eop:VITO:ESA_WorldCover_SWIR_10m_2021_V2 - ESA WorldCover Sentinel-2 yearly SWIR median composite 2021, 10 meter COG format\n",
            "urn:eop:VITO:MAPEO_WATER_CHL_V1 - MapEO Water Chlorophyll-a (CHL) Products - V1\n",
            "urn:eop:VITO:MAPEO_WATER_RHOW_V1 - MapEO Water Water-Leaving Reflectance (RHOW) Products - V1\n",
            "urn:eop:VITO:MAPEO_WATER_SPM_V1 - MapEO Water Suspended Particulate Matter (SPM) Products - V1\n",
            "urn:eop:VITO:MAPEO_WATER_TUR_V1 - MapEO Water Turbidity (TUR) Products - V1\n",
            "urn:eop:VITO:PROBAV_L1C_HDF_V2 - PROBA-V L1C: radiometrically corrected raw data, given per strip/camera, HDF format - Collection 2\n",
            "urn:eop:VITO:PROBAV_L2A_100M_ANTAR_COG_V1 - PROBA-V L2A: 100M projected segment data over Antarctica, COG format - Collection 1\n",
            "urn:eop:VITO:PROBAV_L2A_100M_ANTAR_HDF_V1 - PROBA-V L2A: 100M projected segment data over Antarctica, HDF format - Collection 1\n",
            "urn:eop:VITO:PROBAV_L2A_100M_COG_V2 - PROBA-V L2A: 100M projected segment data, COG format - Collection 2\n",
            "urn:eop:VITO:PROBAV_L2A_100M_HDF_V2 - PROBA-V L2A: 100M projected segment data, HDF format - Collection 2\n",
            "urn:eop:VITO:PROBAV_L2A_1KM_ANTAR_COG_V1 - PROBA-V L2A: 1KM projected segment data over Antarctica, COG format - Collection 1\n",
            "urn:eop:VITO:PROBAV_L2A_1KM_ANTAR_HDF_V1 - PROBA-V L2A: 1KM projected segment data over Antarctica, HDF format - Collection 1\n",
            "urn:eop:VITO:PROBAV_L2A_1KM_COG_V2 - PROBA-V L2A: 1KM projected segment data, COG format - Collection 2\n",
            "urn:eop:VITO:PROBAV_L2A_1KM_HDF_V2 - PROBA-V L2A: 1KM projected segment data, HDF format - Collection 2\n",
            "urn:eop:VITO:PROBAV_L2A_333M_ANTAR_COG_V1 - PROBA-V L2A: 300M projected segment data over Antarctica, COG format - Collection 1\n",
            "urn:eop:VITO:PROBAV_L2A_333M_ANTAR_HDF_V1 - PROBA-V L2A: 300M projected segment data over antarctica, HDF format- Collection 1\n",
            "urn:eop:VITO:PROBAV_L2A_333M_COG_V2 - PROBA-V L2A: 300M projected segment data, COG format - Collection 2\n",
            "urn:eop:VITO:PROBAV_L2A_333M_HDF_V2 - PROBA-V L2A: 300M projected segment data, HDF format- Collection 2\n",
            "urn:eop:VITO:PROBAV_S10_TOC_1KM_COG_V2 - PROBA-V S10 TOC 1 km COG: 10-day synthesis of S1s as Maximum Value Compositing (MVC), COG format - Collection 2\n",
            "urn:eop:VITO:PROBAV_S10_TOC_1KM_HDF_V2 - PROBA-V S10 TOC 1 km HDF: 10-day synthesis of S1s as Maximum Value Compositing (MVC), HDF format - Collection 2\n",
            "urn:eop:VITO:PROBAV_S10_TOC_333M_COG_V2 - PROBA-V S10 TOC 300 m COG: Decadal synthesis of S1's as Maximum Value Compositing (MVC), COG format - Collection 2\n",
            "urn:eop:VITO:PROBAV_S10_TOC_333M_HDF_V2 - PROBA-V S10 TOC 300 m HDF: Decadal synthesis of S1's as Maximum Value Compositing (MVC), HDF format - Collection 2\n",
            "urn:eop:VITO:PROBAV_S10_TOC_NDVI_1KM_COG_V2 - PROBA-V S10 TOC NDVI 1 km COG: 10-day NDVI synthesis of S1s as Maximum Value Compositing (MVC), COG format, COG format - Collection 2\n",
            "urn:eop:VITO:PROBAV_S10_TOC_NDVI_1KM_HDF_V2 - PROBA-V S10 TOC NDVI 1 km HDF: 10-day NDVI synthesis of S1s as Maximum Value Compositing (MVC), HDF format- Collection 2\n",
            "urn:eop:VITO:PROBAV_S10_TOC_NDVI_333M_COG_V2 - PROBA-V S10 TOC NDVI 300 m COG: 10-day synthesis of S1s TOC as Maximum Value Compositing (MVC), COG format - Collection 2\n",
            "urn:eop:VITO:PROBAV_S10_TOC_NDVI_333M_HDF_V2 - PROBA-V S10 TOC NDVI 300 m HDF: 10-day synthesis of S1s TOC as Maximum Value Compositing (MVC), HDF format - Collection 2\n",
            "urn:eop:VITO:PROBAV_S1_TOA_100M_COG_V2 - PROBA-V S1 TOA 100m COG: 100 m resolution best-quality daily synthesis, COG format. Maximum Value Compositing (MVC) is applied - Collection 2\n",
            "urn:eop:VITO:PROBAV_S1_TOA_100M_HDF_V2 - PROBA-V S1 TOA 100 m HDF: 100 m resolution best-quality daily synthesis, HDF format. Maximum Value Compositing (MVC) is applied - Collection 2\n",
            "urn:eop:VITO:PROBAV_S1_TOA_1KM_COG_V2 - PROBA-V S1 TOA 1 km COG: 1 km resolution best-quality daily synthesis, COG format. Maximum Value Compositing (MVC) is applied - Collection 2\n",
            "urn:eop:VITO:PROBAV_S1_TOA_1KM_HDF_V2 - PROBA-V S1 TOA 1 km HDF: 1 km resolution best-quality daily synthesis, HDF format. Maximum Value Compositing (MVC) is applied - Collection 2\n",
            "urn:eop:VITO:PROBAV_S1_TOA_333M_COG_V2 - PROBA-V S1 TOA 300 m COG: 300 m resolution best-quality daily synthesis, COG format. Maximum Value Compositing (MVC) is applied - Collection 2\n",
            "urn:eop:VITO:PROBAV_S1_TOA_333M_HDF_V2 - PROBA-V S1 TOA 300 m HDF: 300 m resolution best-quality daily synthesis, HDF format. Maximum Value Compositing (MVC) is applied - Collection 2\n",
            "urn:eop:VITO:PROBAV_S1_TOC_100M_COG_V2 - PROBA-V S1 TOC 100 m COG: Data corrected for atmospheric effects with the SMAC (Simplified Method for Atmosheric Corrections) algorithm, COG format - Collection 2\n",
            "urn:eop:VITO:PROBAV_S1_TOC_100M_HDF_V2 - PROBA-V S1 TOC 100 m HDF: Data corrected for atmospheric effects with the SMAC (Simplified Method for Atmosheric Corrections) algorithm, HDF format - Collection 2\n",
            "urn:eop:VITO:PROBAV_S1_TOC_1KM_COG_V2 - PROBA-V S1 TOC 1 km COG: Data corrected for atmospheric effects with the SMAC (Simplified Method for Atmosheric Corrections) algorithm, COG format - Collection 2\n",
            "urn:eop:VITO:PROBAV_S1_TOC_1KM_HDF_V2 - PROBA-V S1 TOC 1 km HDF: Data corrected for atmospheric effects with the SMAC (Simplified Method for Atmosheric Corrections) algorithm, HDF format - Collection 2\n",
            "urn:eop:VITO:PROBAV_S1_TOC_333M_COG_V2 - PROBA-V S1 TOC 300 m COG: Data corrected for atmospheric effects with the SMAC (Simplified Method for Atmosheric Corrections) algorithm, COG format - Collection 2\n",
            "urn:eop:VITO:PROBAV_S1_TOC_333M_HDF_V2 - PROBA-V S1 TOC 300 m HDF: Data corrected for atmospheric effects with the SMAC (Simplified Method for Atmosheric Corrections) algorithm, HDF format - Collection 2\n",
            "urn:eop:VITO:PROBAV_S1_TOC_NDVI_100M_COG_V2 - PROBA-V S1 TOC NDVI 100 m COG: Data corrected for atmospheric effects with the SMAC (Simplified Method for Atmosheric Corrections) algorithm, COG format - Collection 2\n",
            "urn:eop:VITO:PROBAV_S1_TOC_NDVI_100M_HDF_V2 - PROBA-V S1 NDVI TOC 100 m HDF: Data corrected for atmospheric effects with the SMAC (Simplified Method for Atmosheric Corrections) algorithm, HDF format - Collection 2\n",
            "urn:eop:VITO:PROBAV_S5_TOA_100M_COG_V2 - PROBA-V S5 TOA 100 m COG: 100 m resolution best-quality daily synthesis, COG format. Maximum Value Compositing (MVC) is applied - Collection 2\n",
            "urn:eop:VITO:PROBAV_S5_TOA_100M_HDF_V2 - PROBA-V S5 TOA 100 m HDF: 100 m resolution best-quality 5-daily synthesis, HDF format. Maximum Value Compositing (MVC) is applied - Collection 2\n",
            "urn:eop:VITO:PROBAV_S5_TOC_100M_COG_V2 - PROBA-V S5 TOC 100 m COG: Data corrected for atmospheric effects with the SMAC (Simplified Method for Atmosheric Corrections) algorithm, COG format - Collection 2\n",
            "urn:eop:VITO:PROBAV_S5_TOC_100M_HDF_V2 - PROBA-V S5 TOC 100 m HDF: Data corrected for atmospheric effects with the SMAC (Simplified Method for Atmosheric Corrections) algorithm, HDF format - Collection 2\n",
            "urn:eop:VITO:PROBAV_S5_TOC_NDVI_100M_COG_V2 - PROBA-V S5 TOC NDVI 100 m COG: Data corrected for atmospheric effects with the SMAC (Simplified Method for Atmosheric Corrections) algorithm, COG format - Collection 2\n",
            "urn:eop:VITO:PROBAV_S5_TOC_NDVI_100M_HDF_V2 - PROBA-V S5 TOC NDVI 100 m HDF: Data corrected for atmospheric effects with the SMAC (Simplified Method for Atmosheric Corrections) algorithm, HDF format - Collection 2\n",
            "urn:eop:VITO:TERRASCOPE_S1_SLC_COHERENCE_V1 - Sentinel-1 Level-1 Single Look Complex (SLC) Coherence products.\n",
            "urn:eop:VITO:TERRASCOPE_S2_CCC_V2 - Sentinel-2 Chlorophyll Canopy Content Index (CCC) (tiles) - V2\n",
            "urn:eop:VITO:TERRASCOPE_S2_CHL_V1 - Sentinel-2 Chlorophyll-a (CHL) (tiles) - V1\n",
            "urn:eop:VITO:TERRASCOPE_S2_CWC_V2 - Sentinel-2 Chlorophyll Water Content Index (CWC) (tiles) - V2\n",
            "urn:eop:VITO:TERRASCOPE_S2_FAPAR_V2 - Sentinel-2 Fraction Absorbed Photosynthetically Radiation (FAPAR) (tiles) - V2\n",
            "urn:eop:VITO:TERRASCOPE_S2_FCOVER_V2 - Sentinel-2 Fraction of Vegetation Cover (FCOVER) (tiles) - V2\n",
            "urn:eop:VITO:TERRASCOPE_S2_LAI_V2 - Sentinel-2 Leaf Area index (LAI) (tiles) - V2\n",
            "urn:eop:VITO:TERRASCOPE_S2_NDVI_V2 - Sentinel-2 Normalized Difference Vegetation Index (NDVI) (tiles) - V2\n",
            "urn:eop:VITO:TERRASCOPE_S2_RHOW_V1 - Sentinel-2 Water-Leaving Reflectance (RHOW) Products (tiles) - V1\n",
            "urn:eop:VITO:TERRASCOPE_S2_SPM_V1 - Sentinel-2 Suspended Particulate Matter (SPM) (tiles) - V1\n",
            "urn:eop:VITO:TERRASCOPE_S2_TOC_V2 - Sentinel-2 Top of Canopy (TOC) Products (tiles) - V2\n",
            "urn:eop:VITO:TERRASCOPE_S2_TUR_V1 - Sentinel-2 Turbidity (TUR) (tiles) - V1\n",
            "urn:eop:VITO:TERRASCOPE_S3_LST_3_S10_V1 - Sentinel-3 Level 3 Land Surface Temperature 10-daily synthesis product - V1\n",
            "urn:eop:VITO:TERRASCOPE_S3_LST_3_S1_V1 - Sentinel-3 Level 3 Land Surface Temperature daily synthesis product - V1\n",
            "urn:eop:VITO:TERRASCOPE_S3_SY_2_V10_V1 - Sentinel-3 Level 2 Synergy 1 km VEGETATION-Like 10-daily synthesis TOC reflectance and NDVI  - V1\n",
            "urn:eop:VITO:TERRASCOPE_S3_SY_2_VG1_V1 - Sentinel-3 Level 2 Synergy 1 km VEGETATION-Like daily synthesis TOC reflectance and NDVI  - V1\n",
            "urn:eop:VITO:TERRASCOPE_S5P_L3_CH4_TD_V1 - Sentinel-5P Level-3 CH4 Daily Product - V1\n",
            "urn:eop:VITO:TERRASCOPE_S5P_L3_CH4_TD_V2 - Sentinel-5P Level-3 CH4 Daily Product - V2\n",
            "urn:eop:VITO:TERRASCOPE_S5P_L3_CH4_TM_V1 - Sentinel-5P Level-3 CH4 Monthly Product - V1\n",
            "urn:eop:VITO:TERRASCOPE_S5P_L3_CH4_TM_V2 - Sentinel-5P Level-3 CH4 Monthly Product - V2\n",
            "urn:eop:VITO:TERRASCOPE_S5P_L3_CH4_TY_V1 - Sentinel-5P Level-3 CH4 Yearly Product - V1\n",
            "urn:eop:VITO:TERRASCOPE_S5P_L3_CH4_TY_V2 - Sentinel-5P Level-3 CH4 Yearly Product - V2\n",
            "urn:eop:VITO:TERRASCOPE_S5P_L3_CO_TD_V1 - Sentinel-5P Level-3 CO Daily Product - V1\n",
            "urn:eop:VITO:TERRASCOPE_S5P_L3_CO_TD_V2 - Sentinel-5P Level-3 CO Daily Product - V2\n",
            "urn:eop:VITO:TERRASCOPE_S5P_L3_CO_TM_V1 - Sentinel-5P Level-3 CO Monthly Product - V1\n",
            "urn:eop:VITO:TERRASCOPE_S5P_L3_CO_TM_V2 - Sentinel-5P Level-3 CO Monthly Product - V2\n",
            "urn:eop:VITO:TERRASCOPE_S5P_L3_CO_TY_V1 - Sentinel-5P Level-3 CO Yearly Product - V1\n",
            "urn:eop:VITO:TERRASCOPE_S5P_L3_CO_TY_V2 - Sentinel-5P Level-3 CO Yearly Product - V2\n",
            "urn:eop:VITO:TERRASCOPE_S5P_L3_HCHO_TD_V1 - Sentinel-5P Level-3 HCHO Daily Product - V1\n",
            "urn:eop:VITO:TERRASCOPE_S5P_L3_HCHO_TD_V2 - Sentinel-5P Level-3 HCHO Daily Product - V2\n",
            "urn:eop:VITO:TERRASCOPE_S5P_L3_HCHO_TM_V1 - Sentinel-5P Level-3 HCHO Monthly Product\n",
            "urn:eop:VITO:TERRASCOPE_S5P_L3_HCHO_TM_V2 - Sentinel-5P Level-3 HCHO Monthly Product - V2\n",
            "urn:eop:VITO:TERRASCOPE_S5P_L3_HCHO_TY_V1 - Sentinel-5P Level-3 HCHO Yearly Product\n",
            "urn:eop:VITO:TERRASCOPE_S5P_L3_HCHO_TY_V2 - Sentinel-5P Level-3 HCHO Yearly Product - V2\n",
            "urn:eop:VITO:TERRASCOPE_S5P_L3_NO2_CAMS_TD_V2 - Sentinel-5P Level-3 NO2 from CAMS Daily Product - V2\n",
            "urn:eop:VITO:TERRASCOPE_S5P_L3_NO2_CAMS_TM_V2 - Sentinel-5P Level-3 NO2 from CAMS Monthly Product - V2\n",
            "urn:eop:VITO:TERRASCOPE_S5P_L3_NO2_CAMS_TY_V2 - Sentinel-5P Level-3 NO2 from CAMS Yearly Product - V2\n",
            "urn:eop:VITO:TERRASCOPE_S5P_L3_NO2_SURFACE_TD_V2 - Sentinel-5P Level-3 NO2 Surface Daily Product - V2\n",
            "urn:eop:VITO:TERRASCOPE_S5P_L3_NO2_SURFACE_TM_V2 - Sentinel-5P Level-3 NO2 Surface Monthly Product - V2\n",
            "urn:eop:VITO:TERRASCOPE_S5P_L3_NO2_SURFACE_TY_V2 - Sentinel-5P Level-3 NO2 Surface Yearly Product - V2\n",
            "urn:eop:VITO:TERRASCOPE_S5P_L3_NO2_TD_V1 - Sentinel-5P Level-3 NO2 Daily Product\n",
            "urn:eop:VITO:TERRASCOPE_S5P_L3_NO2_TD_V2 - Sentinel-5P Level-3 NO2 Daily Product - V2\n",
            "urn:eop:VITO:TERRASCOPE_S5P_L3_NO2_TM_V1 - Sentinel-5P Level-3 NO2 Monthly Product\n",
            "urn:eop:VITO:TERRASCOPE_S5P_L3_NO2_TM_V2 - Sentinel-5P Level-3 NO2 Monthly Product V2\n",
            "urn:eop:VITO:TERRASCOPE_S5P_L3_NO2_TY_V1 - Sentinel-5P Level-3 NO2 Yearly Product\n",
            "urn:eop:VITO:TERRASCOPE_S5P_L3_NO2_TY_V2 - Sentinel-5P Level-3 NO2 Yearly Product - V2\n",
            "urn:eop:VITO:TERRASCOPE_S5P_L3_SO2CBR_TD_V2 - Sentinel-5P Level-3 SO2CBR Daily Product, version 2\n",
            "urn:eop:VITO:TERRASCOPE_S5P_L3_SO2CBR_TM_V2 - Sentinel-5P Level-3 SO2CBR Monthly Product, version 2\n",
            "urn:eop:VITO:TERRASCOPE_S5P_L3_SO2CBR_TY_V2 - Sentinel-5P Level-3 SO2CBR Yearly Product, version 2\n",
            "urn:ogc:def:EOP:VITO:VGT_P - Physical products of SPOT VEGETATION (VGT-P)\n",
            "urn:ogc:def:EOP:VITO:VGT_S1 - Global 1 Day Synthesis of SPOT VEGETATION Images (VGT-S1)\n",
            "urn:ogc:def:EOP:VITO:VGT_S10 - Global 10 Days Synthesis of SPOT VEGETATION Images (VGT-S10)\n"
          ]
        }
      ]
    },
    {
      "cell_type": "code",
      "source": [
        "import datetime as dt\n",
        "products = catalogue.get_products(\n",
        "    \"urn:eop:VITO:TERRASCOPE_S2_NDVI_V2\",\n",
        "    start=dt.date(2021, 5, 1),\n",
        "    end=dt.date(2021, 6, 1),\n",
        "    tileId=\"31UGS\",\n",
        "    accessedFrom=\"S3\"\n",
        ")\n",
        "for product in products:\n",
        "    print(product.title)\n",
        "products_list = list(products)"
      ],
      "metadata": {
        "id": "QlIB-qLnmDGd",
        "outputId": "8ee260d4-3acd-49be-e75c-760ab4be1f5b",
        "colab": {
          "base_uri": "https://localhost:8080/"
        }
      },
      "execution_count": 50,
      "outputs": [
        {
          "output_type": "stream",
          "name": "stdout",
          "text": [
            "S2A_20210502T104021_31UGS_NDVI_10M_V210\n",
            "S2A_20210505T105031_31UGS_NDVI_10M_V200\n",
            "S2A_20210509T103021_31UGS_NDVI_10M_V200\n",
            "S2A_20210512T104021_31UGS_NDVI_10M_V200\n",
            "S2A_20210519T103021_31UGS_NDVI_10M_V210\n",
            "S2A_20210522T104021_31UGS_NDVI_10M_V210\n",
            "S2A_20210525T105031_31UGS_NDVI_10M_V210\n",
            "S2A_20210529T103021_31UGS_NDVI_10M_V210\n",
            "S2B_20210504T102559_31UGS_NDVI_10M_V200\n",
            "S2B_20210507T103619_31UGS_NDVI_10M_V210\n",
            "S2B_20210514T102559_31UGS_NDVI_10M_V200\n",
            "S2B_20210517T103619_31UGS_NDVI_10M_V200\n",
            "S2B_20210520T104619_31UGS_NDVI_10M_V210\n",
            "S2B_20210527T103629_31UGS_NDVI_10M_V200\n",
            "S2B_20210530T104619_31UGS_NDVI_10M_V210\n"
          ]
        }
      ]
    },
    {
      "cell_type": "code",
      "source": [
        "catalogue.download_products(products, './sample_data/test', force=True)"
      ],
      "metadata": {
        "id": "rDHJAwksnnyI"
      },
      "execution_count": 48,
      "outputs": []
    }
  ],
  "metadata": {
    "kernelspec": {
      "display_name": "Python 3 (ipykernel)",
      "language": "python",
      "name": "python3"
    },
    "language_info": {
      "codemirror_mode": {
        "name": "ipython",
        "version": 3
      },
      "file_extension": ".py",
      "mimetype": "text/x-python",
      "name": "python",
      "nbconvert_exporter": "python",
      "pygments_lexer": "ipython3",
      "version": "3.11.0"
    },
    "vscode": {
      "interpreter": {
        "hash": "b0fa6594d8f4cbf19f97940f81e996739fb7646882a419484c72d19e05852a7e"
      }
    },
    "colab": {
      "provenance": []
    }
  },
  "nbformat": 4,
  "nbformat_minor": 0
}